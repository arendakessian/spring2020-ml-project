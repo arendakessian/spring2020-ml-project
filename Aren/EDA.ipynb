{
 "cells": [
  {
   "cell_type": "markdown",
   "metadata": {},
   "source": [
    " ## EDA to Justify Validity of Proposed Feature Transform"
   ]
  },
  {
   "cell_type": "markdown",
   "metadata": {},
   "source": [
    "### Imports and Reading in Data"
   ]
  },
  {
   "cell_type": "code",
   "execution_count": null,
   "metadata": {
    "collapsed": true
   },
   "outputs": [],
   "source": [
    "import pandas as pd\n",
    "import numpy as np\n",
    "% matplotlib inline"
   ]
  },
  {
   "cell_type": "code",
   "execution_count": 2,
   "metadata": {
    "collapsed": false
   },
   "outputs": [],
   "source": [
    "train = pd.read_csv(\"../data/train.csv\")"
   ]
  },
  {
   "cell_type": "code",
   "execution_count": 3,
   "metadata": {
    "collapsed": false
   },
   "outputs": [
    {
     "data": {
      "text/plain": [
       "250874"
      ]
     },
     "execution_count": 3,
     "metadata": {},
     "output_type": "execute_result"
    }
   ],
   "source": [
    "len(train)"
   ]
  },
  {
   "cell_type": "code",
   "execution_count": 4,
   "metadata": {
    "collapsed": false,
    "scrolled": true
   },
   "outputs": [
    {
     "data": {
      "text/html": [
       "<div>\n",
       "<style scoped>\n",
       "    .dataframe tbody tr th:only-of-type {\n",
       "        vertical-align: middle;\n",
       "    }\n",
       "\n",
       "    .dataframe tbody tr th {\n",
       "        vertical-align: top;\n",
       "    }\n",
       "\n",
       "    .dataframe thead th {\n",
       "        text-align: right;\n",
       "    }\n",
       "</style>\n",
       "<table border=\"1\" class=\"dataframe\">\n",
       "  <thead>\n",
       "    <tr style=\"text-align: right;\">\n",
       "      <th></th>\n",
       "      <th>ex_id</th>\n",
       "      <th>user_id</th>\n",
       "      <th>prod_id</th>\n",
       "      <th>rating</th>\n",
       "      <th>label</th>\n",
       "      <th>date</th>\n",
       "      <th>review</th>\n",
       "    </tr>\n",
       "  </thead>\n",
       "  <tbody>\n",
       "    <tr>\n",
       "      <th>0</th>\n",
       "      <td>0</td>\n",
       "      <td>923</td>\n",
       "      <td>0</td>\n",
       "      <td>3.0</td>\n",
       "      <td>1</td>\n",
       "      <td>2014-12-08</td>\n",
       "      <td>The food at snack is a selection of popular Gr...</td>\n",
       "    </tr>\n",
       "    <tr>\n",
       "      <th>1</th>\n",
       "      <td>1</td>\n",
       "      <td>924</td>\n",
       "      <td>0</td>\n",
       "      <td>3.0</td>\n",
       "      <td>1</td>\n",
       "      <td>2013-05-16</td>\n",
       "      <td>This little place in Soho is wonderful. I had ...</td>\n",
       "    </tr>\n",
       "    <tr>\n",
       "      <th>2</th>\n",
       "      <td>2</td>\n",
       "      <td>925</td>\n",
       "      <td>0</td>\n",
       "      <td>4.0</td>\n",
       "      <td>1</td>\n",
       "      <td>2013-07-01</td>\n",
       "      <td>ordered lunch for 15 from Snack last Friday.  ...</td>\n",
       "    </tr>\n",
       "    <tr>\n",
       "      <th>3</th>\n",
       "      <td>3</td>\n",
       "      <td>926</td>\n",
       "      <td>0</td>\n",
       "      <td>4.0</td>\n",
       "      <td>1</td>\n",
       "      <td>2011-07-28</td>\n",
       "      <td>This is a beautiful quaint little restaurant o...</td>\n",
       "    </tr>\n",
       "    <tr>\n",
       "      <th>4</th>\n",
       "      <td>4</td>\n",
       "      <td>927</td>\n",
       "      <td>0</td>\n",
       "      <td>4.0</td>\n",
       "      <td>1</td>\n",
       "      <td>2010-11-01</td>\n",
       "      <td>Snack is great place for a  casual sit down lu...</td>\n",
       "    </tr>\n",
       "  </tbody>\n",
       "</table>\n",
       "</div>"
      ],
      "text/plain": [
       "   ex_id  user_id  prod_id  rating  label        date  \\\n",
       "0      0      923        0     3.0      1  2014-12-08   \n",
       "1      1      924        0     3.0      1  2013-05-16   \n",
       "2      2      925        0     4.0      1  2013-07-01   \n",
       "3      3      926        0     4.0      1  2011-07-28   \n",
       "4      4      927        0     4.0      1  2010-11-01   \n",
       "\n",
       "                                              review  \n",
       "0  The food at snack is a selection of popular Gr...  \n",
       "1  This little place in Soho is wonderful. I had ...  \n",
       "2  ordered lunch for 15 from Snack last Friday.  ...  \n",
       "3  This is a beautiful quaint little restaurant o...  \n",
       "4  Snack is great place for a  casual sit down lu...  "
      ]
     },
     "execution_count": 4,
     "metadata": {},
     "output_type": "execute_result"
    }
   ],
   "source": [
    "train.head()"
   ]
  },
  {
   "cell_type": "code",
   "execution_count": 5,
   "metadata": {
    "collapsed": false
   },
   "outputs": [
    {
     "data": {
      "text/plain": [
       "125679"
      ]
     },
     "execution_count": 5,
     "metadata": {},
     "output_type": "execute_result"
    }
   ],
   "source": [
    "train.user_id.nunique()"
   ]
  },
  {
   "cell_type": "markdown",
   "metadata": {},
   "source": [
    "The first thing we want to do is understand how much user repetition there is in our dataset. "
   ]
  },
  {
   "cell_type": "markdown",
   "metadata": {},
   "source": [
    "### Exploring Dataset for User Counts"
   ]
  },
  {
   "cell_type": "code",
   "execution_count": 6,
   "metadata": {
    "collapsed": false,
    "scrolled": true
   },
   "outputs": [
    {
     "data": {
      "text/html": [
       "<div>\n",
       "<style scoped>\n",
       "    .dataframe tbody tr th:only-of-type {\n",
       "        vertical-align: middle;\n",
       "    }\n",
       "\n",
       "    .dataframe tbody tr th {\n",
       "        vertical-align: top;\n",
       "    }\n",
       "\n",
       "    .dataframe thead th {\n",
       "        text-align: right;\n",
       "    }\n",
       "</style>\n",
       "<table border=\"1\" class=\"dataframe\">\n",
       "  <thead>\n",
       "    <tr style=\"text-align: right;\">\n",
       "      <th></th>\n",
       "      <th>id</th>\n",
       "      <th>count</th>\n",
       "    </tr>\n",
       "  </thead>\n",
       "  <tbody>\n",
       "    <tr>\n",
       "      <th>0</th>\n",
       "      <td>3504</td>\n",
       "      <td>121</td>\n",
       "    </tr>\n",
       "    <tr>\n",
       "      <th>1</th>\n",
       "      <td>2980</td>\n",
       "      <td>99</td>\n",
       "    </tr>\n",
       "    <tr>\n",
       "      <th>2</th>\n",
       "      <td>3459</td>\n",
       "      <td>84</td>\n",
       "    </tr>\n",
       "    <tr>\n",
       "      <th>3</th>\n",
       "      <td>1011</td>\n",
       "      <td>82</td>\n",
       "    </tr>\n",
       "    <tr>\n",
       "      <th>4</th>\n",
       "      <td>3324</td>\n",
       "      <td>81</td>\n",
       "    </tr>\n",
       "  </tbody>\n",
       "</table>\n",
       "</div>"
      ],
      "text/plain": [
       "     id  count\n",
       "0  3504    121\n",
       "1  2980     99\n",
       "2  3459     84\n",
       "3  1011     82\n",
       "4  3324     81"
      ]
     },
     "execution_count": 6,
     "metadata": {},
     "output_type": "execute_result"
    }
   ],
   "source": [
    "counts = pd.DataFrame(train.user_id.value_counts()).reset_index()\n",
    "counts.columns = [\"id\",\"count\"]\n",
    "counts.head()"
   ]
  },
  {
   "cell_type": "code",
   "execution_count": 7,
   "metadata": {
    "collapsed": false
   },
   "outputs": [
    {
     "data": {
      "text/plain": [
       "True"
      ]
     },
     "execution_count": 7,
     "metadata": {},
     "output_type": "execute_result"
    }
   ],
   "source": [
    "len(counts) == train.user_id.nunique()"
   ]
  },
  {
   "cell_type": "code",
   "execution_count": 9,
   "metadata": {
    "collapsed": false
   },
   "outputs": [
    {
     "name": "stdout",
     "output_type": "stream",
     "text": [
      "The amount of users with more than 1 review(s) make up 30.643942106477613 % of the dataset\n",
      "The amount of users with more than 2 review(s) make up 15.833989767582493 % of the dataset\n",
      "The amount of users with more than 3 review(s) make up 9.942790760588483 % of the dataset\n",
      "The amount of users with more than 4 review(s) make up 6.911258046292539 % of the dataset\n",
      "The amount of users with more than 5 review(s) make up 5.167132138225162 % of the dataset\n",
      "The amount of users with more than 6 review(s) make up 4.0961497147494805 % of the dataset\n",
      "The amount of users with more than 7 review(s) make up 3.320363783925716 % of the dataset\n",
      "The amount of users with more than 8 review(s) make up 2.742701644666173 % of the dataset\n",
      "The amount of users with more than 9 review(s) make up 2.3313361818601357 % of the dataset\n",
      "The amount of users with more than 10 review(s) make up 1.994764439564287 % of the dataset\n"
     ]
    }
   ],
   "source": [
    "proportions = []\n",
    "for i in range(1,11):\n",
    "    subset = counts[counts['count']>i]\n",
    "    proportion = (len(subset) / len(counts))*100\n",
    "    proportions.append(proportion)\n",
    "    print(\"The amount of users with more than\",i,\"review(s) make up\",proportion,\"% of the dataset\")\n"
   ]
  },
  {
   "cell_type": "code",
   "execution_count": 15,
   "metadata": {
    "collapsed": false
   },
   "outputs": [
    {
     "data": {
      "image/png": "[encoded data removed]",
      "text/plain": [
       "<Figure size 432x288 with 1 Axes>"
      ]
     },
     "metadata": {},
     "output_type": "display_data"
    }
   ],
   "source": [
    "import matplotlib.pyplot as plt\n",
    "plt.bar(range(1,11),proportions)\n",
    "plt.ylabel('Proportion of Dataset (%)')\n",
    "plt.xlabel('Greater than X Reviews')\n",
    "plt.xticks(range(1,11))\n",
    "plt.title('How Dataset Varies by # of Reviews')\n",
    "plt.show()"
   ]
  },
  {
   "cell_type": "markdown",
   "metadata": {},
   "source": [
    "Now let's see how the label distribution changes as we filter by # of reviews"
   ]
  },
  {
   "cell_type": "markdown",
   "metadata": {},
   "source": [
    "### Checking Label Distribution Based on Filtering By # of Reviews"
   ]
  },
  {
   "cell_type": "code",
   "execution_count": 18,
   "metadata": {
    "collapsed": false
   },
   "outputs": [
    {
     "data": {
      "text/plain": [
       "0    0.897084\n",
       "1    0.102916\n",
       "Name: label, dtype: float64"
      ]
     },
     "execution_count": 18,
     "metadata": {},
     "output_type": "execute_result"
    }
   ],
   "source": [
    "train.label.value_counts(normalize=True)"
   ]
  },
  {
   "cell_type": "code",
   "execution_count": 24,
   "metadata": {
    "collapsed": false
   },
   "outputs": [
    {
     "data": {
      "text/plain": [
       "0.8970837950524965"
      ]
     },
     "execution_count": 24,
     "metadata": {},
     "output_type": "execute_result"
    }
   ],
   "source": [
    "train.label.value_counts(normalize=True)[0]"
   ]
  },
  {
   "cell_type": "code",
   "execution_count": 35,
   "metadata": {
    "collapsed": false
   },
   "outputs": [
    {
     "name": "stdout",
     "output_type": "stream",
     "text": [
      "-----------------------------------------------------\n",
      "LABEL DISTRIBUTION KEEPING ONLY USERS WITH > 0 REVIEWS\n",
      "We are removing 0 users\n",
      "Original training size: 250874\n",
      "New training size: 250874\n",
      "We removed 0 instances from the dataset\n",
      "0    0.897084\n",
      "1    0.102916\n",
      "Name: label, dtype: float64\n",
      "-----------------------------------------------------\n",
      "-----------------------------------------------------\n",
      "LABEL DISTRIBUTION KEEPING ONLY USERS WITH > 1 REVIEWS\n",
      "We are removing 87166 users\n",
      "Original training size: 250874\n",
      "New training size: 163708\n",
      "We removed 87166 instances from the dataset\n",
      "0    0.952256\n",
      "1    0.047744\n",
      "Name: label, dtype: float64\n",
      "-----------------------------------------------------\n",
      "-----------------------------------------------------\n",
      "LABEL DISTRIBUTION KEEPING ONLY USERS WITH > 5 REVIEWS\n",
      "We are removing 119185 users\n",
      "Original training size: 250874\n",
      "New training size: 78070\n",
      "We removed 172804 instances from the dataset\n",
      "0    0.980236\n",
      "1    0.019764\n",
      "Name: label, dtype: float64\n",
      "-----------------------------------------------------\n",
      "-----------------------------------------------------\n",
      "LABEL DISTRIBUTION KEEPING ONLY USERS WITH > 10 REVIEWS\n",
      "We are removing 123172 users\n",
      "Original training size: 250874\n",
      "New training size: 48478\n",
      "We removed 202396 instances from the dataset\n",
      "0    0.9816\n",
      "1    0.0184\n",
      "Name: label, dtype: float64\n",
      "-----------------------------------------------------\n",
      "-----------------------------------------------------\n",
      "LABEL DISTRIBUTION KEEPING ONLY USERS WITH > 15 REVIEWS\n",
      "We are removing 124401 users\n",
      "Original training size: 250874\n",
      "New training size: 33012\n",
      "We removed 217862 instances from the dataset\n",
      "0    0.980613\n",
      "1    0.019387\n",
      "Name: label, dtype: float64\n",
      "-----------------------------------------------------\n",
      "-----------------------------------------------------\n",
      "LABEL DISTRIBUTION KEEPING ONLY USERS WITH > 20 REVIEWS\n",
      "We are removing 124933 users\n",
      "Original training size: 250874\n",
      "New training size: 23634\n",
      "We removed 227240 instances from the dataset\n",
      "0    0.980071\n",
      "1    0.019929\n",
      "Name: label, dtype: float64\n",
      "-----------------------------------------------------\n"
     ]
    }
   ],
   "source": [
    "proportion_real = []\n",
    "for j in [0,1,5,10,15,20]:\n",
    "    print(\"-----------------------------------------------------\")\n",
    "    print(\"LABEL DISTRIBUTION KEEPING ONLY USERS WITH >\",j,\"REVIEWS\")\n",
    "    copy = train.copy()\n",
    "    filtered = counts[counts['count']<=j]\n",
    "    #print(\"size of counts df reduced from\",len(counts),\"to\",len(filtered))\n",
    "    toDelete = filtered['id'].tolist()\n",
    "    print(\"We are removing\",len(toDelete),\"users\")\n",
    "    print(\"Original training size:\",len(copy))\n",
    "    original_size = len(copy)\n",
    "    copy = copy[~copy['user_id'].isin(toDelete)]\n",
    "    print(\"New training size:\",len(copy))\n",
    "    print(\"We removed\",original_size-len(copy),\"instances from the dataset\")\n",
    "    print(copy.label.value_counts(normalize=True))\n",
    "    proportion_real.append(copy.label.value_counts(normalize=True)[0])\n",
    "    print(\"-----------------------------------------------------\")"
   ]
  },
  {
   "cell_type": "code",
   "execution_count": 47,
   "metadata": {
    "collapsed": false
   },
   "outputs": [
    {
     "data": {
      "image/png": "[encoded data removed]",
      "text/plain": [
       "<Figure size 432x288 with 1 Axes>"
      ]
     },
     "metadata": {},
     "output_type": "display_data"
    }
   ],
   "source": [
    "x = [0,1,5,10,15,20]\n",
    "proportion_real\n",
    "plt.bar(x,proportion_real)\n",
    "plt.ylabel('Proportion of Real Reviews in Dataset')\n",
    "plt.xlabel('Minimum Reviews per User')\n",
    "plt.xticks(x)\n",
    "plt.ylim(.8,1)\n",
    "plt.title('Label Distribution by Min # of Reviews')\n",
    "plt.show()"
   ]
  },
  {
   "cell_type": "markdown",
   "metadata": {},
   "source": [
    "### Summary of Results and Appropriate Data Transformation"
   ]
  },
  {
   "cell_type": "markdown",
   "metadata": {},
   "source": [
    "We found a \"splitting criterion\" of approximately 5 reviews that changes the label balance significantly. However, implementing this fact alone into our dataset might cause some problems, so an alternative approach to encode this information is discussed below. "
   ]
  },
  {
   "cell_type": "markdown",
   "metadata": {},
   "source": [
    "Thinking about the training set at the granularity of a single instance, it would be data leakage to simply add a column that simply gives the total # of reviews given by a user in the set. Luckily, we can use the <i>date </i> column to instead give us the <b> number of reviews by the user up to the date of the current instance </b>, which will circumvent the data leakage issue and still encode what we believe to be (using evidence from above) a feature with fairly significant predictive power. "
   ]
  }
 ],
 "metadata": {
  "anaconda-cloud": {},
  "kernelspec": {
   "display_name": "Python [default]",
   "language": "python",
   "name": "python3"
  },
  "language_info": {
   "codemirror_mode": {
    "name": "ipython",
    "version": 3
   },
   "file_extension": ".py",
   "mimetype": "text/x-python",
   "name": "python",
   "nbconvert_exporter": "python",
   "pygments_lexer": "ipython3",
   "version": "3.5.6"
  }
 },
 "nbformat": 4,
 "nbformat_minor": 1
}
