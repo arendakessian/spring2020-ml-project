{
 "cells": [
  {
   "cell_type": "markdown",
   "metadata": {},
   "source": [
    "## Data and Imports"
   ]
  },
  {
   "cell_type": "code",
   "execution_count": 1,
   "metadata": {},
   "outputs": [],
   "source": [
    "import pickle\n",
    "import pandas as pd\n",
    "import numpy as np\n",
    "from scipy.stats import uniform as sp_rand\n",
    "from sklearn.model_selection import RandomizedSearchCV\n",
    "import random\n",
    "from sklearn.metrics import average_precision_score, roc_auc_score"
   ]
  },
  {
   "cell_type": "code",
   "execution_count": 2,
   "metadata": {},
   "outputs": [],
   "source": [
    "def get_data(dataset,vectorizer):\n",
    "    '''\n",
    "    returns feature matrix for specified dataset and vectorizer\n",
    "    @param dataset: string specifying dataset, \"train\",\"dev\",etc\n",
    "    @param vectorizer: string specifying vectorizer \"binary\",\"count\",etc\n",
    "\n",
    "    '''\n",
    "    with open(f'../data/{dataset}_{vectorizer}_subsampled_data.pckl', 'rb') as f:\n",
    "        return pickle.load(f)\n"
   ]
  },
  {
   "cell_type": "code",
   "execution_count": 3,
   "metadata": {},
   "outputs": [],
   "source": [
    "## getting train_y and dev_y\n",
    "with open('../data/train_labels.pckl', 'rb') as f:\n",
    "    trainY = pickle.load(f)\n",
    "\n",
    "with open('../data/dev_labels.pckl', 'rb') as f:\n",
    "    devY = pickle.load(f)"
   ]
  },
  {
   "cell_type": "markdown",
   "metadata": {},
   "source": [
    "## Perceptron"
   ]
  },
  {
   "cell_type": "code",
   "execution_count": 5,
   "metadata": {},
   "outputs": [
    {
     "name": "stdout",
     "output_type": "stream",
     "text": [
      "--------------------------\n",
      "count\n",
      "Perceptron(alpha=0.0001, class_weight=None, early_stopping=True,\n",
      "           eta0=0.9636627605010293, fit_intercept=True, max_iter=1000,\n",
      "           n_iter_no_change=5, n_jobs=None, penalty='l2', random_state=0,\n",
      "           shuffle=True, tol=0.001, validation_fraction=0.1, verbose=0,\n",
      "           warm_start=False)\n",
      "Val AUC 0.7060673349928509\n",
      "Val AP 0.17427758321442435\n",
      "--------------------------\n",
      "--------------------------\n",
      "tfidf\n",
      "Perceptron(alpha=0.0001, class_weight=None, early_stopping=True,\n",
      "           eta0=0.4375872112626925, fit_intercept=True, max_iter=1000,\n",
      "           n_iter_no_change=5, n_jobs=None, penalty='l1', random_state=0,\n",
      "           shuffle=True, tol=0.001, validation_fraction=0.1, verbose=0,\n",
      "           warm_start=False)\n",
      "Val AUC 0.7394226525165951\n",
      "Val AP 0.2157023479250944\n",
      "--------------------------\n",
      "--------------------------\n",
      "binary\n",
      "Perceptron(alpha=0.0001, class_weight=None, early_stopping=True,\n",
      "           eta0=0.4236547993389047, fit_intercept=False, max_iter=1000,\n",
      "           n_iter_no_change=5, n_jobs=None, penalty='elasticnet',\n",
      "           random_state=0, shuffle=True, tol=0.001, validation_fraction=0.1,\n",
      "           verbose=0, warm_start=False)\n",
      "Val AUC 0.6496913251471955\n",
      "Val AP 0.14967082209990168\n",
      "--------------------------\n"
     ]
    }
   ],
   "source": [
    "from sklearn.linear_model import Perceptron\n",
    "\n",
    "\n",
    "random.seed(100)\n",
    "\n",
    "\n",
    "vectorizers = ['count',\n",
    "               'tfidf',\n",
    "               #'hashing',\n",
    "               'binary',\n",
    "               #'hashing_binary',\n",
    "               ]\n",
    "\n",
    "param_grid = {\"penalty\":[\"l1\",\"l2\",\"elasticnet\",None],\"fit_intercept\":[True,False],\"eta0\":sp_rand()}\n",
    "\n",
    "\n",
    "for vectorizer in vectorizers:\n",
    "    print(\"--------------------------\")\n",
    "    print(vectorizer)\n",
    "    trainX = get_data(\"train\",vectorizer)\n",
    "    valX = get_data(\"dev\",vectorizer)\n",
    "    \n",
    "    clf = Perceptron(early_stopping=True)\n",
    "    \n",
    "    rsearch = RandomizedSearchCV(n_jobs=-1, random_state=0, estimator=clf,param_distributions=param_grid)\n",
    "    \n",
    "    rsearch.fit(trainX,trainY)\n",
    "    \n",
    "    print(rsearch.best_estimator_)\n",
    "    \n",
    "    #ytrain_score = rsearch.predict_proba(trainX)\n",
    "    yval_score = rsearch.decision_function(valX)\n",
    "    \n",
    "    \n",
    "    #print(\"Train AUC\",roc_auc_score(trainY,ytrain_score))\n",
    "    #print(\"Train AP\",average_precision_score(trainY,ytrain_score))\n",
    "    print(\"Val AUC\",roc_auc_score(devY,yval_score))\n",
    "    print(\"Val AP\",average_precision_score(devY,yval_score))\n",
    "    print(\"--------------------------\")\n"
   ]
  },
  {
   "cell_type": "markdown",
   "metadata": {},
   "source": [
    "## Linear SVM"
   ]
  },
  {
   "cell_type": "code",
   "execution_count": 11,
   "metadata": {},
   "outputs": [
    {
     "name": "stdout",
     "output_type": "stream",
     "text": [
      "--------------------------\n",
      "count\n",
      "LinearSVC(C=0.00011009618185158206, class_weight=None, dual=True,\n",
      "          fit_intercept=True, intercept_scaling=1, loss='squared_hinge',\n",
      "          max_iter=1000, multi_class='ovr', penalty='l2', random_state=None,\n",
      "          tol=0.0001, verbose=0)\n",
      "34\n",
      "Val AUC 0.7486690093251024\n",
      "Val AP 0.22622179912459403\n",
      "--------------------------\n",
      "--------------------------\n",
      "tfidf\n"
     ]
    },
    {
     "name": "stderr",
     "output_type": "stream",
     "text": [
      "c:\\python37\\lib\\site-packages\\sklearn\\svm\\_base.py:947: ConvergenceWarning: Liblinear failed to converge, increase the number of iterations.\n",
      "  \"the number of iterations.\", ConvergenceWarning)\n"
     ]
    },
    {
     "name": "stdout",
     "output_type": "stream",
     "text": [
      "LinearSVC(C=0.020329421573461483, class_weight=None, dual=True,\n",
      "          fit_intercept=True, intercept_scaling=1, loss='squared_hinge',\n",
      "          max_iter=1000, multi_class='ovr', penalty='l2', random_state=None,\n",
      "          tol=0.0001, verbose=0)\n",
      "1000\n",
      "Val AUC 0.751496891462659\n",
      "Val AP 0.23177498413147507\n",
      "--------------------------\n",
      "--------------------------\n",
      "binary\n",
      "LinearSVC(C=0.00010810023585783914, class_weight=None, dual=True,\n",
      "          fit_intercept=True, intercept_scaling=1, loss='squared_hinge',\n",
      "          max_iter=1000, multi_class='ovr', penalty='l2', random_state=None,\n",
      "          tol=0.0001, verbose=0)\n",
      "35\n",
      "Val AUC 0.7448183526535971\n",
      "Val AP 0.2216096474871898\n",
      "--------------------------\n"
     ]
    }
   ],
   "source": [
    "from sklearn.svm import LinearSVC\n",
    "import scipy.stats\n",
    "param_grid = {\"penalty\":[\"l1\",\"l2\"],\"loss\":[\"squared_hinge\"],\"C\":scipy.stats.reciprocal(a=1e-4,b=1e2)}\n",
    "\n",
    "for vectorizer in vectorizers:\n",
    "    print(\"--------------------------\")\n",
    "    print(vectorizer)\n",
    "    trainX = get_data(\"train\",vectorizer)\n",
    "    valX = get_data(\"dev\",vectorizer)\n",
    "    \n",
    "    clf = LinearSVC()\n",
    "    \n",
    "    rsearch = RandomizedSearchCV(n_jobs=-1, n_iter=400, estimator=clf,param_distributions=param_grid)\n",
    "    \n",
    "    rsearch.fit(trainX,trainY)\n",
    "    \n",
    "    print(rsearch.best_estimator_)\n",
    "    print(rsearch.best_estimator_.n_iter_)\n",
    "    \n",
    "    #ytrain_score = rsearch.predict(trainX)\n",
    "    yval_score = rsearch.decision_function(valX)\n",
    "    \n",
    "    \n",
    "    #print(\"Train AUC\",roc_auc_score(trainY,ytrain_score))\n",
    "    #print(\"Train AP\",average_precision_score(trainY,ytrain_score))\n",
    "    print(\"Val AUC\",roc_auc_score(devY,yval_score))\n",
    "    print(\"Val AP\",average_precision_score(devY,yval_score))\n",
    "    print(\"--------------------------\")"
   ]
  },
  {
   "cell_type": "code",
   "execution_count": null,
   "metadata": {},
   "outputs": [],
   "source": [
    "from sklearn.svm import LinearSVC\n",
    "import scipy.stats\n",
    "param_grid = {\"penalty\":[\"l1\",\"l2\"],\"loss\":[\"squared_hinge\"],\"C\":scipy.stats.reciprocal(a=1e-4,b=1e2)}\n",
    "\n",
    "for vectorizer in ['tfidf']:\n",
    "    print(\"--------------------------\")\n",
    "    print(vectorizer)\n",
    "    trainX = get_data(\"train\",vectorizer)\n",
    "    valX = get_data(\"dev\",vectorizer)\n",
    "    \n",
    "    clf = LinearSVC(C=0.020329421573461483, class_weight=None, dual=True,\n",
    "          fit_intercept=True, intercept_scaling=1, loss='squared_hinge',\n",
    "          max_iter=1000, multi_class='ovr', penalty='l2', random_state=None,\n",
    "          tol=0.0001, verbose=0)\n",
    "    \n",
    "    #rsearch = RandomizedSearchCV(n_jobs=-1, random_state=0, estimator=clf,param_distributions=param_grid)\n",
    "    \n",
    "    clf.fit(trainX,trainY)\n",
    "    \n",
    "    #print(rsearch.best_estimator_)\n",
    "    #print(rsearch.best_estimator_.n_iter_)\n",
    "    \n",
    "    #ytrain_score = rsearch.predict(trainX)\n",
    "    \n",
    "    \n",
    "    from sklearn.calibration import CalibratedClassifierCV\n",
    "\n",
    "    calibration = CalibratedClassifierCV(clf).fit(trainX, trainY)\n",
    "    \n",
    "    yval_score = calibration.predict_proba(valX)\n",
    "    yval_score = yval_score[:, 1]\n",
    "    \n",
    "    print(\"Val AUC\",roc_auc_score(devY,yval_score))\n",
    "    print(\"Val AP\",average_precision_score(devY,yval_score))\n",
    "    print(\"--------------------------\")"
   ]
  },
  {
   "cell_type": "code",
   "execution_count": 6,
   "metadata": {},
   "outputs": [],
   "source": [
    "with open('../data/best_svm_tfidf.pckl', 'wb') as f:\n",
    "    pickle.dump(calibration, f)"
   ]
  },
  {
   "cell_type": "code",
   "execution_count": 10,
   "metadata": {},
   "outputs": [],
   "source": [
    "with open('../data/best-lr-tfidf.pckl', 'rb') as f:\n",
    "    lr = pickle.load(f)\n",
    "\n",
    "with open('../data/best_svm_tfidf.pckl', 'rb') as f:\n",
    "    svm = pickle.load(f)\n",
    "\n",
    "with open('../data/best_mnb_tfidf.pckl', 'rb') as f:\n",
    "    mnb = pickle.load(f)"
   ]
  },
  {
   "cell_type": "code",
   "execution_count": 14,
   "metadata": {},
   "outputs": [
    {
     "name": "stdout",
     "output_type": "stream",
     "text": [
      "83235\n"
     ]
    }
   ],
   "source": [
    "with open(f'../data/dev_tfidf_subsampled_data.pckl', 'rb') as f:\n",
    "    dev_3 = pickle.load(f)\n",
    "\n",
    "with open(f'../data/train_tfidf_downsampled_data.pckl', 'rb') as f:\n",
    "    train_2 = pickle.load(f)\n",
    "    \n",
    "with open(f'../data/dev_tfidf_downsampled_data.pckl', 'rb') as f:\n",
    "    dev_2 = pickle.load(f)\n",
    "    \n",
    "    \n",
    "sums = (train_2 > 0).sum(axis=0)\n",
    "lim = sums.mean()\n",
    "print(np.asarray(sums > lim)[0].sum())\n",
    "dev_2 = dev_2[:, np.asarray(sums > lim)[0]]"
   ]
  },
  {
   "cell_type": "code",
   "execution_count": 15,
   "metadata": {},
   "outputs": [
    {
     "data": {
      "text/plain": [
       "((35918, 83235), (35918, 2997374))"
      ]
     },
     "execution_count": 15,
     "metadata": {},
     "output_type": "execute_result"
    }
   ],
   "source": [
    "dev_2.shape, dev_3.shape"
   ]
  },
  {
   "cell_type": "code",
   "execution_count": 16,
   "metadata": {},
   "outputs": [
    {
     "data": {
      "text/html": [
       "<div>\n",
       "<style scoped>\n",
       "    .dataframe tbody tr th:only-of-type {\n",
       "        vertical-align: middle;\n",
       "    }\n",
       "\n",
       "    .dataframe tbody tr th {\n",
       "        vertical-align: top;\n",
       "    }\n",
       "\n",
       "    .dataframe thead th {\n",
       "        text-align: right;\n",
       "    }\n",
       "</style>\n",
       "<table border=\"1\" class=\"dataframe\">\n",
       "  <thead>\n",
       "    <tr style=\"text-align: right;\">\n",
       "      <th></th>\n",
       "      <th>lr</th>\n",
       "      <th>svm</th>\n",
       "      <th>mnb</th>\n",
       "    </tr>\n",
       "  </thead>\n",
       "  <tbody>\n",
       "    <tr>\n",
       "      <th>0</th>\n",
       "      <td>0.433468</td>\n",
       "      <td>0.440476</td>\n",
       "      <td>5.807450e-01</td>\n",
       "    </tr>\n",
       "    <tr>\n",
       "      <th>1</th>\n",
       "      <td>0.157820</td>\n",
       "      <td>0.114336</td>\n",
       "      <td>4.623869e-06</td>\n",
       "    </tr>\n",
       "    <tr>\n",
       "      <th>2</th>\n",
       "      <td>0.404492</td>\n",
       "      <td>0.394189</td>\n",
       "      <td>6.714519e-01</td>\n",
       "    </tr>\n",
       "    <tr>\n",
       "      <th>3</th>\n",
       "      <td>0.499979</td>\n",
       "      <td>0.383133</td>\n",
       "      <td>8.584521e-03</td>\n",
       "    </tr>\n",
       "    <tr>\n",
       "      <th>4</th>\n",
       "      <td>0.061132</td>\n",
       "      <td>0.029665</td>\n",
       "      <td>2.530761e-12</td>\n",
       "    </tr>\n",
       "  </tbody>\n",
       "</table>\n",
       "</div>"
      ],
      "text/plain": [
       "         lr       svm           mnb\n",
       "0  0.433468  0.440476  5.807450e-01\n",
       "1  0.157820  0.114336  4.623869e-06\n",
       "2  0.404492  0.394189  6.714519e-01\n",
       "3  0.499979  0.383133  8.584521e-03\n",
       "4  0.061132  0.029665  2.530761e-12"
      ]
     },
     "execution_count": 16,
     "metadata": {},
     "output_type": "execute_result"
    }
   ],
   "source": [
    "predicted_lr = lr.predict_proba(dev_2)[:, 1]\n",
    "predicted_svm = svm.predict_proba(dev_3)[:, 1]\n",
    "predicted_mnb = mnb.predict_proba(dev_3)[:, 1]\n",
    "\n",
    "ensemble_df = pd.DataFrame([predicted_lr, predicted_svm, predicted_mnb]).T\n",
    "ensemble_df.columns = ['lr', 'svm', 'mnb']\n",
    "ensemble_df.head()"
   ]
  },
  {
   "cell_type": "code",
   "execution_count": 21,
   "metadata": {},
   "outputs": [
    {
     "data": {
      "text/html": [
       "<div>\n",
       "<style scoped>\n",
       "    .dataframe tbody tr th:only-of-type {\n",
       "        vertical-align: middle;\n",
       "    }\n",
       "\n",
       "    .dataframe tbody tr th {\n",
       "        vertical-align: top;\n",
       "    }\n",
       "\n",
       "    .dataframe thead th {\n",
       "        text-align: right;\n",
       "    }\n",
       "</style>\n",
       "<table border=\"1\" class=\"dataframe\">\n",
       "  <thead>\n",
       "    <tr style=\"text-align: right;\">\n",
       "      <th></th>\n",
       "      <th>lr</th>\n",
       "      <th>svm</th>\n",
       "      <th>mnb</th>\n",
       "      <th>vote</th>\n",
       "      <th>avg</th>\n",
       "      <th>vote_proba</th>\n",
       "    </tr>\n",
       "  </thead>\n",
       "  <tbody>\n",
       "    <tr>\n",
       "      <th>0</th>\n",
       "      <td>0.433468</td>\n",
       "      <td>0.440476</td>\n",
       "      <td>5.807450e-01</td>\n",
       "      <td>0</td>\n",
       "      <td>0.484896</td>\n",
       "      <td>0.333333</td>\n",
       "    </tr>\n",
       "    <tr>\n",
       "      <th>1</th>\n",
       "      <td>0.157820</td>\n",
       "      <td>0.114336</td>\n",
       "      <td>4.623869e-06</td>\n",
       "      <td>0</td>\n",
       "      <td>0.090720</td>\n",
       "      <td>0.000000</td>\n",
       "    </tr>\n",
       "    <tr>\n",
       "      <th>2</th>\n",
       "      <td>0.404492</td>\n",
       "      <td>0.394189</td>\n",
       "      <td>6.714519e-01</td>\n",
       "      <td>0</td>\n",
       "      <td>0.490044</td>\n",
       "      <td>0.333333</td>\n",
       "    </tr>\n",
       "    <tr>\n",
       "      <th>3</th>\n",
       "      <td>0.499979</td>\n",
       "      <td>0.383133</td>\n",
       "      <td>8.584521e-03</td>\n",
       "      <td>0</td>\n",
       "      <td>0.297232</td>\n",
       "      <td>0.000000</td>\n",
       "    </tr>\n",
       "    <tr>\n",
       "      <th>4</th>\n",
       "      <td>0.061132</td>\n",
       "      <td>0.029665</td>\n",
       "      <td>2.530761e-12</td>\n",
       "      <td>0</td>\n",
       "      <td>0.030266</td>\n",
       "      <td>0.000000</td>\n",
       "    </tr>\n",
       "  </tbody>\n",
       "</table>\n",
       "</div>"
      ],
      "text/plain": [
       "         lr       svm           mnb  vote       avg  vote_proba\n",
       "0  0.433468  0.440476  5.807450e-01     0  0.484896    0.333333\n",
       "1  0.157820  0.114336  4.623869e-06     0  0.090720    0.000000\n",
       "2  0.404492  0.394189  6.714519e-01     0  0.490044    0.333333\n",
       "3  0.499979  0.383133  8.584521e-03     0  0.297232    0.000000\n",
       "4  0.061132  0.029665  2.530761e-12     0  0.030266    0.000000"
      ]
     },
     "execution_count": 21,
     "metadata": {},
     "output_type": "execute_result"
    }
   ],
   "source": [
    "ensemble_df['vote'] = ((ensemble_df[['lr', 'svm', 'mnb']] > 0.5).sum(axis=1) > 2).astype(int)\n",
    "ensemble_df['vote_proba'] = (ensemble_df[['lr', 'svm', 'mnb']] > 0.5).sum(axis=1) / 3\n",
    "ensemble_df['avg'] = ensemble_df[['lr', 'svm', 'mnb']].mean(axis=1)\n",
    "ensemble_df.head()"
   ]
  },
  {
   "cell_type": "code",
   "execution_count": 22,
   "metadata": {},
   "outputs": [
    {
     "name": "stdout",
     "output_type": "stream",
     "text": [
      "vote:\n",
      "Val AUC 0.6792401794888523\n",
      "Val AP 0.17352959562453538\n",
      "\n",
      "vote_proba:\n",
      "Val AUC 0.7303068926722991\n",
      "Val AP 0.19413119702908538\n",
      "\n",
      "avg:\n",
      "Val AUC 0.7665775703833878\n",
      "Val AP 0.24074470944539986\n",
      "\n"
     ]
    }
   ],
   "source": [
    "print('vote:')\n",
    "print(\"Val AUC\",roc_auc_score(devY, ensemble_df['vote']))\n",
    "print(\"Val AP\",average_precision_score(devY, ensemble_df['vote']))\n",
    "print('')\n",
    "print('vote_proba:')\n",
    "print(\"Val AUC\",roc_auc_score(devY, ensemble_df['vote_proba']))\n",
    "print(\"Val AP\",average_precision_score(devY, ensemble_df['vote_proba']))\n",
    "print('')\n",
    "print('avg:')\n",
    "print(\"Val AUC\",roc_auc_score(devY, ensemble_df['avg']))\n",
    "print(\"Val AP\",average_precision_score(devY, ensemble_df['avg']))\n",
    "print('')"
   ]
  },
  {
   "cell_type": "markdown",
   "metadata": {},
   "source": [
    "## Non-Linear SVM"
   ]
  },
  {
   "cell_type": "code",
   "execution_count": null,
   "metadata": {},
   "outputs": [
    {
     "name": "stdout",
     "output_type": "stream",
     "text": [
      "---------------------------------\n",
      "rbf\n",
      "count\n",
      "1000\n",
      "Train AUC 0.6431891242883149\n",
      "Train AP 0.5846210445619413\n",
      "Val AUC 0.48710227133723677\n",
      "Val AP 0.1000083194710632\n",
      "-----------------------------------\n",
      "---------------------------------\n",
      "rbf\n",
      "count\n",
      "5000\n",
      "Train AUC 0.6435958015415004\n",
      "Train AP 0.5849188233638523\n",
      "Val AUC 0.4377501848438885\n",
      "Val AP 0.093414327577478\n",
      "-----------------------------------\n",
      "---------------------------------\n",
      "rbf\n",
      "count\n",
      "10000\n"
     ]
    }
   ],
   "source": [
    "from sklearn import svm\n",
    "from sklearn.kernel_approximation import Nystroem\n",
    "vectorizers = ['count', 'tfidf', 'hashing', 'binary', 'hashing_binary']\n",
    "\n",
    "for vectorizer in vectorizers:\n",
    "    for kernel in [\"rbf\",\"polynomial\"]:\n",
    "        for n in [1000,5000,10000,25000,45000]:\n",
    "            print(\"---------------------------------\")\n",
    "            print(kernel)\n",
    "            print(vectorizer)\n",
    "            print(n)\n",
    "            trainX = get_data(\"train\",vectorizer)\n",
    "            valX = get_data(\"dev\",vectorizer)\n",
    "    \n",
    "            clf = svm.LinearSVC(max_iter=400,tol=1e-2,C=.1)\n",
    "   \n",
    "    \n",
    "            if(kernel==\"rbf\"):\n",
    "                feature_map_nystroem = Nystroem(kernel=kernel,n_components=n)\n",
    "        \n",
    "            else:\n",
    "                feature_map_nystroem = Nystroem(kernel=kernel,degree=2.0,n_components=n)\n",
    "        \n",
    "            train_transformed = feature_map_nystroem.fit_transform(trainX)\n",
    "    \n",
    "            val_transformed = feature_map_nystroem.fit_transform(valX)\n",
    "\n",
    "    \n",
    "            clf.fit(train_transformed,trainY)\n",
    "    \n",
    "            ytrain_score = clf.predict(train_transformed)\n",
    "            yval_score = clf.predict(val_transformed)\n",
    "    \n",
    "    \n",
    "            print(\"Train AUC\",roc_auc_score(trainY,ytrain_score))\n",
    "            print(\"Train AP\",average_precision_score(trainY,ytrain_score))\n",
    "            print(\"Val AUC\",roc_auc_score(devY,yval_score))\n",
    "            print(\"Val AP\",average_precision_score(devY,yval_score))\n",
    "    \n",
    "            print(\"-----------------------------------\")\n",
    "\n",
    "    \n",
    "    \n"
   ]
  },
  {
   "cell_type": "code",
   "execution_count": null,
   "metadata": {},
   "outputs": [],
   "source": []
  }
 ],
 "metadata": {
  "anaconda-cloud": {},
  "kernelspec": {
   "display_name": "Python 3",
   "language": "python",
   "name": "python3"
  },
  "language_info": {
   "codemirror_mode": {
    "name": "ipython",
    "version": 3
   },
   "file_extension": ".py",
   "mimetype": "text/x-python",
   "name": "python",
   "nbconvert_exporter": "python",
   "pygments_lexer": "ipython3",
   "version": "3.7.0"
  }
 },
 "nbformat": 4,
 "nbformat_minor": 4
}
