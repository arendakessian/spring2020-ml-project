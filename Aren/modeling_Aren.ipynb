{
 "cells": [
  {
   "cell_type": "markdown",
   "metadata": {},
   "source": [
    "## Data and Imports"
   ]
  },
  {
   "cell_type": "code",
   "execution_count": 3,
   "metadata": {},
   "outputs": [],
   "source": [
    "import pickle\n",
    "import pandas as pd\n",
    "import numpy as np\n",
    "from scipy.stats import uniform as sp_rand\n",
    "from sklearn.model_selection import RandomizedSearchCV\n",
    "import random\n",
    "from sklearn.metrics import average_precision_score, roc_auc_score"
   ]
  },
  {
   "cell_type": "code",
   "execution_count": 2,
   "metadata": {},
   "outputs": [],
   "source": [
    "def get_data(dataset,vectorizer):\n",
    "    '''\n",
    "    returns feature matrix for specified dataset and vectorizer\n",
    "    @param dataset: string specifying dataset, \"train\",\"dev\",etc\n",
    "    @param vectorizer: string specifying vectorizer \"binary\",\"count\",etc\n",
    "\n",
    "    '''\n",
    "    with open(f'../data/{dataset}_{vectorizer}_downsampled_data.pckl', 'rb') as f:\n",
    "        return pickle.load(f)\n"
   ]
  },
  {
   "cell_type": "code",
   "execution_count": 4,
   "metadata": {},
   "outputs": [],
   "source": [
    "## getting train_y and dev_y\n",
    "with open('../data/train_labels.pckl', 'rb') as f:\n",
    "    trainY = pickle.load(f)\n",
    "\n",
    "with open('../data/dev_labels.pckl', 'rb') as f:\n",
    "    devY = pickle.load(f)"
   ]
  },
  {
   "cell_type": "markdown",
   "metadata": {},
   "source": [
    "## Perceptron"
   ]
  },
  {
   "cell_type": "code",
   "execution_count": 6,
   "metadata": {},
   "outputs": [
    {
     "name": "stdout",
     "output_type": "stream",
     "text": [
      "(51638, 2997374)\n",
      "(51638, 2997374)\n",
      "(51638, 8388612)\n",
      "(51638, 2997374)\n",
      "(51638, 8388612)\n"
     ]
    }
   ],
   "source": [
    "vecs = ['count', 'tfidf', 'hashing', 'binary', 'hashing_binary']\n",
    "for vec in vecs:\n",
    "    trainX = get_data(\"train\",vec)\n",
    "    print(trainX.shape)"
   ]
  },
  {
   "cell_type": "code",
   "execution_count": null,
   "metadata": {
    "collapsed": true
   },
   "outputs": [],
   "source": [
    "from sklearn.linear_model import Perceptron\n",
    "\n",
    "\n",
    "random.seed(100)\n",
    "\n",
    "##TODO pass in loguniform\n",
    "\n",
    "vectorizers = ['count', 'tfidf', 'hashing', 'binary', 'hashing_binary']\n",
    "\n",
    "param_grid = {\"penalty\":[\"l1\",\"l2\",\"elasticnet\",None],\"fit_intercept\":[True,False],\"eta0\":[.10,.5,1]}\n",
    "\n",
    "\n",
    "for vectorizer in vectorizers:\n",
    "    print(\"--------------------------\")\n",
    "    print(vectorizer)\n",
    "    trainX = get_data(\"train\",vectorizer)\n",
    "    valX = get_data(\"dev\",vectorizer)\n",
    "    \n",
    "    clf = Perceptron(early_stopping=True)\n",
    "    \n",
    "    rsearch = RandomizedSearchCV(estimator=clf,param_distributions=param_grid)\n",
    "    \n",
    "    rsearch.fit(trainX,trainY)\n",
    "    \n",
    "    ytrain_score = rsearch.predict(trainX)\n",
    "    yval_score = rsearch.predict(valX)\n",
    "    \n",
    "    \n",
    "    print(\"Train AUC\",roc_auc_score(trainY,ytrain_score))\n",
    "    print(\"Train AP\",average_precision_score(trainY,ytrain_score))\n",
    "    print(\"Val AUC\",roc_auc_score(devY,yval_score))\n",
    "    print(\"Val AP\",average_precision_score(devY,yval_score))\n",
    "    print(\"--------------------------\")\n"
   ]
  },
  {
   "cell_type": "markdown",
   "metadata": {},
   "source": [
    "## SVM"
   ]
  },
  {
   "cell_type": "code",
   "execution_count": null,
   "metadata": {},
   "outputs": [],
   "source": [
    "from sklearn import svm\n",
    "from sklearn.kernel_approximation import Nystroem\n",
    "vectorizers = ['count', 'tfidf', 'hashing', 'binary', 'hashing_binary']\n",
    "\n",
    "for vectorizer in vectorizers:\n",
    "    for kernel in [\"rbf\",\"polynomial\"]:\n",
    "        for n in [1000,5000,10000,25000,45000]:\n",
    "            print(\"---------------------------------\")\n",
    "            print(kernel)\n",
    "            print(vectorizer)\n",
    "            print(n)\n",
    "            trainX = get_data(\"train\",vectorizer)\n",
    "            valX = get_data(\"dev\",vectorizer)\n",
    "    \n",
    "            clf = svm.LinearSVC(max_iter=400,tol=1e-2,C=.1)\n",
    "   \n",
    "    \n",
    "            if(kernel==\"rbf\"):\n",
    "                feature_map_nystroem = Nystroem(kernel=kernel,n_components=500)\n",
    "        \n",
    "            else:\n",
    "                feature_map_nystroem = Nystroem(kernel=kernel,degree=2.0,n_components=500)\n",
    "        \n",
    "            train_transformed = feature_map_nystroem.fit_transform(trainX)\n",
    "    \n",
    "            val_transformed = feature_map_nystroem.fit_transform(valX)\n",
    "\n",
    "    \n",
    "            clf.fit(train_transformed,trainY)\n",
    "    \n",
    "            ytrain_score = clf.predict(train_transformed)\n",
    "            yval_score = clf.predict(val_transformed)\n",
    "    \n",
    "    \n",
    "            print(\"Train AUC\",roc_auc_score(trainY,ytrain_score))\n",
    "            print(\"Train AP\",average_precision_score(trainY,ytrain_score))\n",
    "            print(\"Val AUC\",roc_auc_score(devY,yval_score))\n",
    "            print(\"Val AP\",average_precision_score(devY,yval_score))\n",
    "    \n",
    "            print(\"-----------------------------------\")\n",
    "\n",
    "    \n",
    "    \n"
   ]
  },
  {
   "cell_type": "code",
   "execution_count": null,
   "metadata": {},
   "outputs": [],
   "source": []
  }
 ],
 "metadata": {
  "anaconda-cloud": {},
  "kernelspec": {
   "display_name": "Python 3",
   "language": "python",
   "name": "python3"
  },
  "language_info": {
   "codemirror_mode": {
    "name": "ipython",
    "version": 3
   },
   "file_extension": ".py",
   "mimetype": "text/x-python",
   "name": "python",
   "nbconvert_exporter": "python",
   "pygments_lexer": "ipython3",
   "version": "3.6.10"
  }
 },
 "nbformat": 4,
 "nbformat_minor": 4
}
