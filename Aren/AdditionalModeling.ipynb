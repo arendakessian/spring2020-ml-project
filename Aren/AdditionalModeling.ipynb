{
 "cells": [
  {
   "cell_type": "code",
   "execution_count": 1,
   "metadata": {},
   "outputs": [],
   "source": [
    "import pickle\n",
    "import pandas as pd\n",
    "import numpy as np\n",
    "from scipy.stats import uniform as sp_rand\n",
    "from sklearn.model_selection import RandomizedSearchCV\n",
    "import random\n",
    "from sklearn.metrics import average_precision_score, roc_auc_score\n",
    "from sklearn.preprocessing import MaxAbsScaler\n",
    "from sklearn.decomposition import TruncatedSVD as PCA"
   ]
  },
  {
   "cell_type": "code",
   "execution_count": 2,
   "metadata": {},
   "outputs": [],
   "source": [
    "def get_data(dataset,vectorizer):\n",
    "    '''\n",
    "    returns feature matrix for specified dataset and vectorizer\n",
    "    @param dataset: string specifying dataset, \"train\",\"dev\",etc\n",
    "    @param vectorizer: string specifying vectorizer \"binary\",\"count\",etc\n",
    "\n",
    "    '''\n",
    "    with open(f'../data/{dataset}_{vectorizer}_subsampled_data.pckl', 'rb') as f:\n",
    "        return pickle.load(f)\n"
   ]
  },
  {
   "cell_type": "code",
   "execution_count": 3,
   "metadata": {},
   "outputs": [],
   "source": [
    "with open('../data/train_labels.pckl', 'rb') as f:\n",
    "    trainY = pickle.load(f)\n",
    "\n",
    "with open('../data/dev_labels.pckl', 'rb') as f:\n",
    "    devY = pickle.load(f)"
   ]
  },
  {
   "cell_type": "code",
   "execution_count": 4,
   "metadata": {},
   "outputs": [],
   "source": [
    "def data_transformation(train,\n",
    "                        dev,\n",
    "                        last4=False,\n",
    "                        all_except_last4=False,\n",
    "                        truncatedSVD=False,\n",
    "                        scaling=False,\n",
    "                        ngram_30=False,\n",
    "                        ngram_mean=False,\n",
    "                        ncomponent=None,\n",
    "                        ):\n",
    "    train_tf = train.copy()\n",
    "    dev_tf = dev.copy()\n",
    "    \n",
    "    if last4:\n",
    "        train_tf = train_tf[:,-4:]\n",
    "        dev_tf = dev_tf[:,-4:]\n",
    "        \n",
    "    if all_except_last4:\n",
    "        train_tf = train_tf[:,:-4]\n",
    "        dev_tf = dev_tf[:,:-4]\n",
    "        \n",
    "    if ngram_mean:\n",
    "        sums = (train_tf > 0).sum(axis=0)\n",
    "        lim = sums.mean()\n",
    "        train_tf = train_tf[:, np.asarray(sums > lim)[0]]\n",
    "        dev_tf = dev_tf[:, np.asarray(sums > lim)[0]]\n",
    "    \n",
    "    if ngram_30:\n",
    "        sums = (train_tf > 0).sum(axis=0)\n",
    "        lim = 30\n",
    "        train_tf = train_tf[:, np.asarray(sums > lim)[0]]\n",
    "        dev_tf = dev_tf[:, np.asarray(sums > lim)[0]]\n",
    "        \n",
    "    if scaling:\n",
    "        scaler = MaxAbsScaler()\n",
    "        train_tf = scaler.fit_transform(train_tf)\n",
    "        dev_tf = scaler.transform(dev_tf)\n",
    "        \n",
    "    if truncatedSVD:\n",
    "        pca = PCA(n_components=ncomponent,random_state=0)\n",
    "        train_tf = pca.fit_transform(train_tf)\n",
    "        dev_tf = pca.transform(dev_tf)\n",
    "    \n",
    "    return train_tf, dev_tf\n",
    "    "
   ]
  },
  {
   "cell_type": "code",
   "execution_count": 5,
   "metadata": {},
   "outputs": [],
   "source": [
    "def revert():\n",
    "    train = get_data(\"train\", \"tfidf\")\n",
    "    dev = get_data(\"dev\", \"tfidf\")\n",
    "    return train, dev"
   ]
  },
  {
   "cell_type": "code",
   "execution_count": 18,
   "metadata": {},
   "outputs": [],
   "source": [
    "def getSVMresults(string, train, dev, l1=False):\n",
    "    print(string)\n",
    "\n",
    "    if l1:\n",
    "        penalty = 'l1'\n",
    "        dual = False\n",
    "    else:\n",
    "        penalty = 'l2'\n",
    "        dual = True\n",
    "\n",
    "    clf = LinearSVC(C=0.020329421573461483,\n",
    "                    dual=dual,\n",
    "                    penalty=penalty, random_state=0,\n",
    "                    )\n",
    "    clf.fit(train, trainY)\n",
    "    \n",
    "    yval_score = clf.decision_function(dev)\n",
    "\n",
    "    print(\"Val AUC\", roc_auc_score(devY, yval_score))\n",
    "    print(\"Val AP\", average_precision_score(devY, yval_score))\n",
    "    print(\"-----------------------------\")   "
   ]
  },
  {
   "cell_type": "code",
   "execution_count": 33,
   "metadata": {},
   "outputs": [],
   "source": [
    "def getMNBresults(string, train, dev, svd=False):\n",
    "    print(string)\n",
    "    \n",
    "    nb_multi = MultinomialNB(alpha=0.17693089816649998)\n",
    "    \n",
    "    if svd:\n",
    "        train += abs(train.min())\n",
    "        dev += abs(dev.min())\n",
    "        #print(f'min is: {train.min()}')\n",
    "    \n",
    "    nb_multi.fit(train, trainY)\n",
    "    \n",
    "    nb_dev_proba = nb_multi.predict_proba(dev)[:, 1]\n",
    "\n",
    "    nb_dev_auc = print(\"VAL AUC\", roc_auc_score(devY, nb_dev_proba))\n",
    "    nb_dev_ap = print(\"VAL AP\", average_precision_score(devY, nb_dev_proba))\n",
    "    \n",
    "    if string == 'no mods':\n",
    "        import pickle\n",
    "        with open('../data/best_mnb_tfidf.pckl', 'wb') as f:\n",
    "            pickle.dump(nb_multi, f)\n",
    "\n",
    "    print(\"-----------------------------\")"
   ]
  },
  {
   "cell_type": "markdown",
   "metadata": {},
   "source": [
    "### SVM"
   ]
  },
  {
   "cell_type": "code",
   "execution_count": 9,
   "metadata": {},
   "outputs": [
    {
     "name": "stdout",
     "output_type": "stream",
     "text": [
      "no mods\n",
      "[LibLinear]"
     ]
    },
    {
     "name": "stderr",
     "output_type": "stream",
     "text": [
      "c:\\python37\\lib\\site-packages\\sklearn\\svm\\_base.py:947: ConvergenceWarning: Liblinear failed to converge, increase the number of iterations.\n",
      "  \"the number of iterations.\", ConvergenceWarning)\n"
     ]
    },
    {
     "name": "stdout",
     "output_type": "stream",
     "text": [
      "Val AUC 0.7514917776749358\n",
      "Val AP 0.2317726239381011\n",
      "-----------------------------\n",
      "last4\n",
      "[LibLinear]"
     ]
    },
    {
     "name": "stderr",
     "output_type": "stream",
     "text": [
      "c:\\python37\\lib\\site-packages\\sklearn\\svm\\_base.py:947: ConvergenceWarning: Liblinear failed to converge, increase the number of iterations.\n",
      "  \"the number of iterations.\", ConvergenceWarning)\n"
     ]
    },
    {
     "name": "stdout",
     "output_type": "stream",
     "text": [
      "Val AUC 0.6941519462634351\n",
      "Val AP 0.18116968617844315\n",
      "-----------------------------\n",
      "all but last 4\n",
      "[LibLinear]Val AUC 0.7125164711534802\n",
      "Val AP 0.2053572619567911\n",
      "-----------------------------\n",
      "scaling\n",
      "[LibLinear]Val AUC 0.7334506913637129\n",
      "Val AP 0.21935211298471108\n",
      "-----------------------------\n",
      "truncatedSVD100\n",
      "[LibLinear]"
     ]
    },
    {
     "name": "stderr",
     "output_type": "stream",
     "text": [
      "c:\\python37\\lib\\site-packages\\sklearn\\svm\\_base.py:947: ConvergenceWarning: Liblinear failed to converge, increase the number of iterations.\n",
      "  \"the number of iterations.\", ConvergenceWarning)\n"
     ]
    },
    {
     "name": "stdout",
     "output_type": "stream",
     "text": [
      "Val AUC 0.7402465754611585\n",
      "Val AP 0.2219357880331605\n",
      "-----------------------------\n",
      "truncatedSVD10\n",
      "[LibLinear]Val AUC 0.714849059164995\n",
      "Val AP 0.20162762249021143\n",
      "-----------------------------\n"
     ]
    },
    {
     "name": "stderr",
     "output_type": "stream",
     "text": [
      "c:\\python37\\lib\\site-packages\\sklearn\\svm\\_base.py:947: ConvergenceWarning: Liblinear failed to converge, increase the number of iterations.\n",
      "  \"the number of iterations.\", ConvergenceWarning)\n"
     ]
    }
   ],
   "source": [
    "from sklearn.svm import LinearSVC\n",
    "import scipy.stats\n",
    "\n",
    "train, dev = revert()\n",
    "\n",
    "getSVMresults(\"no mods\", train, dev)\n",
    "\n",
    "train_tf, dev_tf = data_transformation(train, dev, last4=True)\n",
    "getSVMresults(\"last4\", train_tf, dev_tf)\n",
    "\n",
    "train_tf, dev_tf = data_transformation(train, dev, all_except_last4=True)\n",
    "getSVMresults(\"all but last 4\", train_tf, dev_tf)\n",
    "\n",
    "train_tf, dev_tf = data_transformation(train, dev, scaling=True)\n",
    "getSVMresults(\"scaling\", train_tf, dev_tf)\n",
    "\n",
    "train_tf, dev_tf = data_transformation(train, dev, truncatedSVD=True, ncomponent=100)\n",
    "getSVMresults(\"truncatedSVD100\", train_tf, dev_tf)\n",
    "\n",
    "train_tf, dev_tf = data_transformation(train, dev, truncatedSVD=True, ncomponent=10)\n",
    "getSVMresults(\"truncatedSVD10\", train_tf, dev_tf)"
   ]
  },
  {
   "cell_type": "code",
   "execution_count": 19,
   "metadata": {},
   "outputs": [
    {
     "name": "stdout",
     "output_type": "stream",
     "text": [
      "with L1\n",
      "Val AUC 0.7204560173481427\n",
      "Val AP 0.20606592195047516\n",
      "-----------------------------\n",
      "ngram_mean\n"
     ]
    },
    {
     "name": "stderr",
     "output_type": "stream",
     "text": [
      "c:\\python37\\lib\\site-packages\\sklearn\\svm\\_base.py:947: ConvergenceWarning: Liblinear failed to converge, increase the number of iterations.\n",
      "  \"the number of iterations.\", ConvergenceWarning)\n"
     ]
    },
    {
     "name": "stdout",
     "output_type": "stream",
     "text": [
      "Val AUC 0.7512333615016391\n",
      "Val AP 0.2316057835286238\n",
      "-----------------------------\n",
      "ngram_30\n"
     ]
    },
    {
     "name": "stderr",
     "output_type": "stream",
     "text": [
      "c:\\python37\\lib\\site-packages\\sklearn\\svm\\_base.py:947: ConvergenceWarning: Liblinear failed to converge, increase the number of iterations.\n",
      "  \"the number of iterations.\", ConvergenceWarning)\n"
     ]
    },
    {
     "name": "stdout",
     "output_type": "stream",
     "text": [
      "Val AUC 0.7503096814704876\n",
      "Val AP 0.23059991152936476\n",
      "-----------------------------\n",
      "scaling + svd100\n",
      "Val AUC 0.6917416193343989\n",
      "Val AP 0.19332778082469648\n",
      "-----------------------------\n",
      "last 4 + scaling\n",
      "Val AUC 0.6903680151775861\n",
      "Val AP 0.176578647251165\n",
      "-----------------------------\n"
     ]
    }
   ],
   "source": [
    "getSVMresults('with L1', train, dev, l1=True)\n",
    "\n",
    "train_tf, dev_tf = data_transformation(train, dev, ngram_mean=True)\n",
    "getSVMresults(\"ngram_mean\", train_tf, dev_tf)\n",
    "\n",
    "train_tf, dev_tf = data_transformation(train, dev, ngram_30=True)\n",
    "getSVMresults(\"ngram_30\", train_tf, dev_tf)\n",
    "\n",
    "train_tf, dev_tf = data_transformation(train, dev, truncatedSVD=True, scaling=True, ncomponent=100)\n",
    "getSVMresults(\"scaling + svd100\", train_tf, dev_tf)\n",
    "\n",
    "train_tf, dev_tf = data_transformation(train, dev, last4=True, scaling=True)\n",
    "getSVMresults(\"last 4 + scaling\", train_tf, dev_tf)"
   ]
  },
  {
   "cell_type": "markdown",
   "metadata": {},
   "source": [
    "### MNB"
   ]
  },
  {
   "cell_type": "code",
   "execution_count": 34,
   "metadata": {},
   "outputs": [
    {
     "name": "stdout",
     "output_type": "stream",
     "text": [
      "no mods\n",
      "VAL AUC 0.7498575657215163\n",
      "VAL AP 0.2293512205357953\n",
      "-----------------------------\n"
     ]
    }
   ],
   "source": [
    "from sklearn.naive_bayes import MultinomialNB\n",
    "from sklearn.utils.fixes import loguniform\n",
    "\n",
    "train, dev = revert()\n",
    "\n",
    "getMNBresults(\"no mods\", train, dev)"
   ]
  },
  {
   "cell_type": "code",
   "execution_count": 21,
   "metadata": {},
   "outputs": [
    {
     "name": "stdout",
     "output_type": "stream",
     "text": [
      "no mods\n",
      "VAL AUC 0.7498575657215163\n",
      "VAL AP 0.2293512205357953\n",
      "-----------------------------\n",
      "last4\n",
      "VAL AUC 0.6581026055173183\n",
      "VAL AP 0.1437128131114489\n",
      "-----------------------------\n",
      "all but last 4\n",
      "VAL AUC 0.7070023469057676\n",
      "VAL AP 0.20591464071739765\n",
      "-----------------------------\n",
      "scaling\n",
      "VAL AUC 0.6536068300836146\n",
      "VAL AP 0.159505790364585\n",
      "-----------------------------\n"
     ]
    }
   ],
   "source": [
    "train_tf, dev_tf = data_transformation(train, dev, last4=True)\n",
    "getMNBresults(\"last4\", train_tf, dev_tf)\n",
    "\n",
    "train_tf, dev_tf = data_transformation(train, dev, all_except_last4=True)\n",
    "getMNBresults(\"all but last 4\", train_tf, dev_tf)\n",
    "\n",
    "train_tf, dev_tf = data_transformation(train, dev, scaling=True)\n",
    "getMNBresults(\"scaling\", train_tf, dev_tf)"
   ]
  },
  {
   "cell_type": "code",
   "execution_count": 31,
   "metadata": {},
   "outputs": [
    {
     "name": "stdout",
     "output_type": "stream",
     "text": [
      "truncatedSVD100\n",
      "VAL AUC 0.7096800773626037\n",
      "VAL AP 0.18745670852850765\n",
      "-----------------------------\n",
      "truncatedSVD10\n",
      "VAL AUC 0.6878866303842578\n",
      "VAL AP 0.15705489949022805\n",
      "-----------------------------\n"
     ]
    }
   ],
   "source": [
    "train_tf, dev_tf = data_transformation(train, dev, truncatedSVD=True, ncomponent=100)\n",
    "getMNBresults(\"truncatedSVD100\", train_tf, dev_tf, svd=True)\n",
    "\n",
    "train_tf, dev_tf = data_transformation(train, dev, truncatedSVD=True, ncomponent=10)\n",
    "getMNBresults(\"truncatedSVD10\", train_tf, dev_tf, svd=True)"
   ]
  },
  {
   "cell_type": "code",
   "execution_count": 32,
   "metadata": {},
   "outputs": [
    {
     "name": "stdout",
     "output_type": "stream",
     "text": [
      "ngram_mean\n",
      "VAL AUC 0.7157689633180022\n",
      "VAL AP 0.18875477473370467\n",
      "-----------------------------\n",
      "ngram_30\n",
      "VAL AUC 0.6931802543914015\n",
      "VAL AP 0.16490223532898143\n",
      "-----------------------------\n",
      "scaling + svd100\n",
      "VAL AUC 0.67029364609327\n",
      "VAL AP 0.1807745196643682\n",
      "-----------------------------\n",
      "last 4 + scaling\n",
      "VAL AUC 0.6793984223370249\n",
      "VAL AP 0.16104718364310758\n",
      "-----------------------------\n"
     ]
    }
   ],
   "source": [
    "train_tf, dev_tf = data_transformation(train, dev, ngram_mean=True)\n",
    "getMNBresults(\"ngram_mean\", train_tf, dev_tf)\n",
    "\n",
    "train_tf, dev_tf = data_transformation(train, dev, ngram_30=True)\n",
    "getMNBresults(\"ngram_30\", train_tf, dev_tf)\n",
    "\n",
    "train_tf, dev_tf = data_transformation(train, dev, truncatedSVD=True, scaling=True, ncomponent=100)\n",
    "getMNBresults(\"scaling + svd100\", train_tf, dev_tf, svd=True)\n",
    "\n",
    "train_tf, dev_tf = data_transformation(train, dev, last4=True, scaling=True)\n",
    "getMNBresults(\"last 4 + scaling\", train_tf, dev_tf)"
   ]
  },
  {
   "cell_type": "code",
   "execution_count": null,
   "metadata": {},
   "outputs": [],
   "source": []
  }
 ],
 "metadata": {
  "kernelspec": {
   "display_name": "Python 3",
   "language": "python",
   "name": "python3"
  },
  "language_info": {
   "codemirror_mode": {
    "name": "ipython",
    "version": 3
   },
   "file_extension": ".py",
   "mimetype": "text/x-python",
   "name": "python",
   "nbconvert_exporter": "python",
   "pygments_lexer": "ipython3",
   "version": "3.7.0"
  }
 },
 "nbformat": 4,
 "nbformat_minor": 4
}
