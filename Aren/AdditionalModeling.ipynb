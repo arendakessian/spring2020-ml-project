{
 "cells": [
  {
   "cell_type": "code",
   "execution_count": 1,
   "metadata": {},
   "outputs": [],
   "source": [
    "import pickle\n",
    "import pandas as pd\n",
    "import numpy as np\n",
    "from scipy.stats import uniform as sp_rand\n",
    "from sklearn.model_selection import RandomizedSearchCV\n",
    "import random\n",
    "from sklearn.metrics import average_precision_score, roc_auc_score\n",
    "from sklearn.preprocessing import MaxAbsScaler\n",
    "from sklearn.decomposition import TruncatedSVD as PCA"
   ]
  },
  {
   "cell_type": "code",
   "execution_count": 2,
   "metadata": {},
   "outputs": [],
   "source": [
    "def get_data(dataset,vectorizer):\n",
    "    '''\n",
    "    returns feature matrix for specified dataset and vectorizer\n",
    "    @param dataset: string specifying dataset, \"train\",\"dev\",etc\n",
    "    @param vectorizer: string specifying vectorizer \"binary\",\"count\",etc\n",
    "\n",
    "    '''\n",
    "    with open(f'../data/{dataset}_{vectorizer}_subsampled_data.pckl', 'rb') as f:\n",
    "        return pickle.load(f)\n"
   ]
  },
  {
   "cell_type": "code",
   "execution_count": null,
   "metadata": {},
   "outputs": [],
   "source": [
    "with open('../data/train_labels.pckl', 'rb') as f:\n",
    "    trainY = pickle.load(f)\n",
    "\n",
    "with open('../data/dev_labels.pckl', 'rb') as f:\n",
    "    devY = pickle.load(f)"
   ]
  },
  {
   "cell_type": "code",
   "execution_count": 19,
   "metadata": {},
   "outputs": [],
   "source": [
    "def data_transformation(train,dev,last4=False,truncatedSVD=False,scaling=False,ngram=False,ncomponent=None):\n",
    "    if(last4):\n",
    "        train = train[:,:-4]\n",
    "        dev = dev[:,:-4]\n",
    "        \n",
    "    if(ngram):\n",
    "        sums = (train > 0).sum(axis=0)\n",
    "        lim = sums.mean()\n",
    "        train = train[:, np.asarray(sums > lim)[0]]\n",
    "        dev = dev[:, np.asarray(sums > lim)[0]]\n",
    "        \n",
    "    if(scaling):\n",
    "        scaler = MaxAbsScaler()\n",
    "        train = scaler.fit_transform(train)\n",
    "        dev = scaler.transform(dev)\n",
    "        \n",
    "    if(truncatedSVD):\n",
    "        pca = PCA(n_components=ncomponent,random_state=0)\n",
    "        train = pca.fit_transform(train)\n",
    "        dev = pca.transform(dev)\n",
    "    \n",
    "    return train,dev\n",
    "    "
   ]
  },
  {
   "cell_type": "code",
   "execution_count": 20,
   "metadata": {},
   "outputs": [],
   "source": [
    "def revert():\n",
    "    train = get_data(\"train\",\"tfidf\")\n",
    "    dev = get_data(\"dev\",\"tfidf\")\n",
    "    return train,dev"
   ]
  },
  {
   "cell_type": "code",
   "execution_count": null,
   "metadata": {},
   "outputs": [],
   "source": [
    "def getSVMresults(string,train,dev):\n",
    "    print(string)\n",
    "    clf = LinearSVC()\n",
    "    param_grid = {\"penalty\":[\"l1\",\"l2\"],\"loss\":[\"squared_hinge\"],\"C\":scipy.stats.reciprocal(a=1e-4,b=1e2)}\n",
    "    rsearch = RandomizedSearchCV(n_jobs=-1, estimator=clf,param_distributions=param_grid)\n",
    "\n",
    "    rsearch.fit(train,trainY) \n",
    "    print(rsearch.best_estimator_)\n",
    "\n",
    "    yval_score = rsearch.decision_function(dev)\n",
    "\n",
    "    print(\"Val AUC\",roc_auc_score(devY,yval_score))\n",
    "    print(\"Val AP\",average_precision_score(devY,yval_score))\n",
    "    print(\"-----------------------------\")   "
   ]
  },
  {
   "cell_type": "code",
   "execution_count": null,
   "metadata": {},
   "outputs": [],
   "source": [
    "def getMNBresults(string,train,dev):\n",
    "    print(string)\n",
    "    param_dist = {'alpha': loguniform(1e-4, 1e0)}\n",
    "    nb_multi = MultinomialNB()  \n",
    "    rsearch = RandomizedSearchCV(nb_multi, param_distributions=param_dist, random_state=22)\n",
    "    rsearch.fit(train, trainY)\n",
    "    print(rsearch.best_params_)\n",
    "\n",
    "    nb_dev_proba = random_search.predict_proba(dev)\n",
    "\n",
    "    nb_dev_auc = print(\"VAL AUC\",roc_auc_score(devY, nb_dev_proba[:, 1]))\n",
    "    nb_dev_ap = print(\"VAL AP\",average_precision_score(devY, nb_dev_proba[:, 1]))\n",
    "\n",
    "    print(\"-----------------------------\")"
   ]
  },
  {
   "cell_type": "markdown",
   "metadata": {},
   "source": [
    "### SVM"
   ]
  },
  {
   "cell_type": "code",
   "execution_count": null,
   "metadata": {},
   "outputs": [],
   "source": [
    "from sklearn.svm import LinearSVC\n",
    "import scipy.stats\n",
    "\n",
    "getSVMresults(\"no mods\",train,dev)\n",
    "train, dev = revert()\n",
    "\n",
    "\n",
    "train,dev = data_transformation(train,dev,last4=True)\n",
    "getSVMresults(\"last4\",train,dev)\n",
    "train_dev = revert()\n",
    "\n",
    "\n",
    "train,dev = data_transformation(train,dev,truncatedSVD=True,scaling=True,ngram=True,ncomponent=100)\n",
    "getSVMresults(\"all but last 4\",train,dev)\n",
    "train,dev = revert()\n",
    "\n",
    "\n",
    "train,dev = data_transformation(train,dev,scaling=True)\n",
    "getSVMresults(\"scaling\",train,dev)\n",
    "train,dev = revert()\n",
    "\n",
    "\n",
    "train,dev = data_transformation(train,dev,truncatedSVD=True,ncomponent=100)\n",
    "getSVMresults(\"truncatedSVD100\",train,dev)\n",
    "train,dev = revert()\n",
    "\n",
    "\n",
    "train,dev = data_transformation(train,dev,truncatedSVD=True,ncomponent=10)\n",
    "getSVMresults(\"truncatedSVD10\",train,dev)\n",
    "train,dev = revert()\n",
    "\n",
    "\n",
    "train,dev = data_transformation(train,dev,ngram=True)\n",
    "getSVMresults(\"NGRAMS\",train,dev)\n",
    "train,dev = revert()\n",
    "\n",
    "\n",
    "train,dev = data_transformation(train,dev,truncatedSVD=True,scaling=True,ncomponent=100)\n",
    "getSVMresults(\"scaling + svd100\",train,dev)\n",
    "train,dev = revert()\n",
    "\n",
    "\n",
    "train,dev = data_transformation(train,dev,last4=True,scaling=True)\n",
    "getSVMresults(\"last 4+ scaling\",train,dev)\n",
    "train,dev = revert()"
   ]
  },
  {
   "cell_type": "markdown",
   "metadata": {},
   "source": [
    "### MNB"
   ]
  },
  {
   "cell_type": "code",
   "execution_count": null,
   "metadata": {},
   "outputs": [],
   "source": [
    "from sklearn.naive_bayes import MultinomialNB\n",
    "from sklearn.utils.fixes import loguniform\n",
    "param_dist = {'alpha': loguniform(1e-4, 1e0)}\n",
    "\n",
    "\n",
    "train,dev = revert()\n",
    "getMNBresults(\"no mod\",train,dev)\n",
    "train,dev = revert()\n",
    "\n",
    "\n",
    "train,dev = data_transformation(train,dev,last4=True)\n",
    "getMNBresults(\"last4,train,dev\")\n",
    "train,dev = revert()\n",
    "\n",
    "\n",
    "train,dev = data_transformation(train,dev,truncatedSVD=True,scaling=True,ngram=True,ncomponent=100)\n",
    "getMNBresults(\"all except last 4\",train,dev)\n",
    "train,dev = revert()\n",
    "\n",
    "\n",
    "train,dev = data_transformation(train,dev,scaling=True)\n",
    "getMNBresults(\"scaling\",train,dev)\n",
    "train,dev = revert()\n",
    "\n",
    "\n",
    "train,dev = data_transformation(train,dev,truncatedSVD=True,ncomponent=100)\n",
    "getMNBresults(\"truncatedSVD 100\",train,dev)\n",
    "train,dev = revert()\n",
    "\n",
    "\n",
    "train,dev = data_transformation(train,dev,truncatedSVD=True,ncomponent=10)\n",
    "getMNBresults(\"truncatedSVD 10\",train,dev)\n",
    "train,dev = revert()\n",
    "\n",
    "\n",
    "train,dev = data_transformation(train,dev,ngram=True)\n",
    "getMNBresults(\"ngram\",train,dev)\n",
    "train,dev = revert()\n",
    "\n",
    "\n",
    "\n",
    "train,dev = data_transformation(train,dev,truncatedSVD=True,scaling=True,ncomponent=100)\n",
    "getMNBresults(\"svd + scaling\",train,dev)\n",
    "train,dev = revert()\n",
    "\n",
    "\n",
    "train,dev = data_transformation(train,dev,last4=True,scaling=True)\n",
    "getMNBresults(\"last4+scaling\",train,dev)\n",
    "train,dev = revert()"
   ]
  }
 ],
 "metadata": {
  "kernelspec": {
   "display_name": "Python 3",
   "language": "python",
   "name": "python3"
  },
  "language_info": {
   "codemirror_mode": {
    "name": "ipython",
    "version": 3
   },
   "file_extension": ".py",
   "mimetype": "text/x-python",
   "name": "python",
   "nbconvert_exporter": "python",
   "pygments_lexer": "ipython3",
   "version": "3.6.10"
  }
 },
 "nbformat": 4,
 "nbformat_minor": 4
}
