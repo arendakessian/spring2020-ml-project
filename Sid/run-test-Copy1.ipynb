{
 "cells": [
  {
   "cell_type": "code",
   "execution_count": 61,
   "metadata": {},
   "outputs": [],
   "source": [
    "import pickle\n",
    "import pandas as pd\n",
    "import numpy as np\n",
    "from sklearn.linear_model import LogisticRegression\n",
    "from sklearn.svm import LinearSVC\n",
    "from sklearn.naive_bayes import MultinomialNB"
   ]
  },
  {
   "cell_type": "code",
   "execution_count": 15,
   "metadata": {},
   "outputs": [],
   "source": [
    "with open('../data/best_lr_retrained_tfidf.pckl', 'rb') as f:\n",
    "    lr = pickle.load(f)\n",
    "\n",
    "with open('../data/best_svm_retrained_tfidf.pckl', 'rb') as f:\n",
    "    svm = pickle.load(f)\n",
    "\n",
    "with open('../data/best_mnb_retrained_tfidf.pckl', 'rb') as f:\n",
    "    mnb = pickle.load(f)"
   ]
  },
  {
   "cell_type": "code",
   "execution_count": 40,
   "metadata": {},
   "outputs": [],
   "source": [
    "with open(f'../data/test_tfidf_subsampled_data_3.pckl', 'rb') as f:\n",
    "    test_full = pickle.load(f)\n",
    "\n",
    "with open(f'../data/test_tfidf_subsampled_data_sliced_2.pckl', 'rb') as f:\n",
    "    test_sliced = pickle.load(f)"
   ]
  },
  {
   "cell_type": "code",
   "execution_count": 41,
   "metadata": {},
   "outputs": [
    {
     "data": {
      "text/plain": [
       "((72165, 2997374), (72165, 83235))"
      ]
     },
     "execution_count": 41,
     "metadata": {},
     "output_type": "execute_result"
    }
   ],
   "source": [
    "test_full.shape, test_sliced.shape"
   ]
  },
  {
   "cell_type": "code",
   "execution_count": 43,
   "metadata": {},
   "outputs": [],
   "source": [
    "predicted_lr = lr.predict_proba(test_sliced)[:, 1]\n",
    "predicted_svm = svm.predict_proba(test_full)[:, 1]\n",
    "predicted_mnb = mnb.predict_proba(test_full)[:, 1]\n",
    "\n",
    "with open('predicted_test_labels.pckl', 'wb') as f:\n",
    "    pickle.dump((predicted_lr,\n",
    "                 predicted_svm,\n",
    "                 predicted_mnb),\n",
    "                f)"
   ]
  },
  {
   "cell_type": "code",
   "execution_count": 44,
   "metadata": {},
   "outputs": [
    {
     "data": {
      "text/plain": [
       "array([0.3965505 , 0.55176287, 0.63057129, 0.59796197, 0.5513886 ,\n",
       "       0.51795874, 0.73287245, 0.42567349, 0.60286262, 0.58485538])"
      ]
     },
     "execution_count": 44,
     "metadata": {},
     "output_type": "execute_result"
    }
   ],
   "source": [
    "predicted_lr[:10]"
   ]
  },
  {
   "cell_type": "code",
   "execution_count": 45,
   "metadata": {},
   "outputs": [
    {
     "data": {
      "text/plain": [
       "array([0.39629447, 0.49678376, 0.64997718, 0.67418289, 0.58199489,\n",
       "       0.40619709, 0.7068675 , 0.43030727, 0.55686505, 0.51671582])"
      ]
     },
     "execution_count": 45,
     "metadata": {},
     "output_type": "execute_result"
    }
   ],
   "source": [
    "predicted_svm[:10]"
   ]
  },
  {
   "cell_type": "code",
   "execution_count": 46,
   "metadata": {},
   "outputs": [
    {
     "data": {
      "text/plain": [
       "array([0.295664  , 0.81981651, 0.34628548, 0.76782082, 0.85840238,\n",
       "       0.00964206, 0.82809496, 0.12949945, 0.48101807, 0.50140059])"
      ]
     },
     "execution_count": 46,
     "metadata": {},
     "output_type": "execute_result"
    }
   ],
   "source": [
    "predicted_mnb[:10]"
   ]
  },
  {
   "cell_type": "code",
   "execution_count": 48,
   "metadata": {},
   "outputs": [
    {
     "data": {
      "text/plain": [
       "(26539, 25362, 26899)"
      ]
     },
     "execution_count": 48,
     "metadata": {},
     "output_type": "execute_result"
    }
   ],
   "source": [
    "(predicted_lr > 0.5).sum(), (predicted_svm > 0.5).sum(), (predicted_mnb > 0.5).sum()"
   ]
  },
  {
   "cell_type": "code",
   "execution_count": 53,
   "metadata": {},
   "outputs": [
    {
     "data": {
      "text/html": [
       "<div>\n",
       "<style scoped>\n",
       "    .dataframe tbody tr th:only-of-type {\n",
       "        vertical-align: middle;\n",
       "    }\n",
       "\n",
       "    .dataframe tbody tr th {\n",
       "        vertical-align: top;\n",
       "    }\n",
       "\n",
       "    .dataframe thead th {\n",
       "        text-align: right;\n",
       "    }\n",
       "</style>\n",
       "<table border=\"1\" class=\"dataframe\">\n",
       "  <thead>\n",
       "    <tr style=\"text-align: right;\">\n",
       "      <th></th>\n",
       "      <th>lr</th>\n",
       "      <th>svm</th>\n",
       "      <th>mnb</th>\n",
       "      <th>vote</th>\n",
       "      <th>vote_proba</th>\n",
       "      <th>avg</th>\n",
       "    </tr>\n",
       "  </thead>\n",
       "  <tbody>\n",
       "    <tr>\n",
       "      <th>0</th>\n",
       "      <td>0.396550</td>\n",
       "      <td>0.396294</td>\n",
       "      <td>0.295664</td>\n",
       "      <td>0</td>\n",
       "      <td>0.000000</td>\n",
       "      <td>0.362836</td>\n",
       "    </tr>\n",
       "    <tr>\n",
       "      <th>1</th>\n",
       "      <td>0.551763</td>\n",
       "      <td>0.496784</td>\n",
       "      <td>0.819817</td>\n",
       "      <td>0</td>\n",
       "      <td>0.666667</td>\n",
       "      <td>0.622788</td>\n",
       "    </tr>\n",
       "    <tr>\n",
       "      <th>2</th>\n",
       "      <td>0.630571</td>\n",
       "      <td>0.649977</td>\n",
       "      <td>0.346285</td>\n",
       "      <td>0</td>\n",
       "      <td>0.666667</td>\n",
       "      <td>0.542278</td>\n",
       "    </tr>\n",
       "    <tr>\n",
       "      <th>3</th>\n",
       "      <td>0.597962</td>\n",
       "      <td>0.674183</td>\n",
       "      <td>0.767821</td>\n",
       "      <td>1</td>\n",
       "      <td>1.000000</td>\n",
       "      <td>0.679989</td>\n",
       "    </tr>\n",
       "    <tr>\n",
       "      <th>4</th>\n",
       "      <td>0.551389</td>\n",
       "      <td>0.581995</td>\n",
       "      <td>0.858402</td>\n",
       "      <td>1</td>\n",
       "      <td>1.000000</td>\n",
       "      <td>0.663929</td>\n",
       "    </tr>\n",
       "  </tbody>\n",
       "</table>\n",
       "</div>"
      ],
      "text/plain": [
       "         lr       svm       mnb  vote  vote_proba       avg\n",
       "0  0.396550  0.396294  0.295664     0    0.000000  0.362836\n",
       "1  0.551763  0.496784  0.819817     0    0.666667  0.622788\n",
       "2  0.630571  0.649977  0.346285     0    0.666667  0.542278\n",
       "3  0.597962  0.674183  0.767821     1    1.000000  0.679989\n",
       "4  0.551389  0.581995  0.858402     1    1.000000  0.663929"
      ]
     },
     "execution_count": 53,
     "metadata": {},
     "output_type": "execute_result"
    }
   ],
   "source": [
    "ensemble_df = pd.DataFrame([predicted_lr, predicted_svm, predicted_mnb]).T\n",
    "ensemble_df.columns = ['lr', 'svm', 'mnb']\n",
    "ensemble_df['vote'] = ((ensemble_df[['lr', 'svm', 'mnb']] > 0.5).sum(axis=1) > 2).astype(int)\n",
    "ensemble_df['vote_proba'] = (ensemble_df[['lr', 'svm', 'mnb']] > 0.5).sum(axis=1) / 3\n",
    "ensemble_df['avg'] = ensemble_df[['lr', 'svm', 'mnb']].mean(axis=1)\n",
    "ensemble_df.head()"
   ]
  },
  {
   "cell_type": "code",
   "execution_count": 56,
   "metadata": {},
   "outputs": [],
   "source": [
    "ensemble_df['avg'].to_csv('../data/predictions.csv', index=False, header=False)"
   ]
  },
  {
   "cell_type": "code",
   "execution_count": null,
   "metadata": {},
   "outputs": [],
   "source": []
  }
 ],
 "metadata": {
  "kernelspec": {
   "display_name": "Python 3",
   "language": "python",
   "name": "python3"
  },
  "language_info": {
   "codemirror_mode": {
    "name": "ipython",
    "version": 3
   },
   "file_extension": ".py",
   "mimetype": "text/x-python",
   "name": "python",
   "nbconvert_exporter": "python",
   "pygments_lexer": "ipython3",
   "version": "3.7.0"
  }
 },
 "nbformat": 4,
 "nbformat_minor": 2
}
