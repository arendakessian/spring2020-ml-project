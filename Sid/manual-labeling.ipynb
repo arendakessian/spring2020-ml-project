{
 "cells": [
  {
   "cell_type": "code",
   "execution_count": 1,
   "metadata": {},
   "outputs": [],
   "source": [
    "import pandas as pd\n",
    "\n",
    "train = pd.read_csv('../data/train.csv')"
   ]
  },
  {
   "cell_type": "code",
   "execution_count": 28,
   "metadata": {},
   "outputs": [],
   "source": [
    "import random\n",
    "\n",
    "n = random.randint(1, 24)"
   ]
  },
  {
   "cell_type": "code",
   "execution_count": 30,
   "metadata": {},
   "outputs": [],
   "source": [
    "subset = train[train['label'] == 0].sample(n=n, random_state=4)\n",
    "subset_2 = train[train['label'] == 1].sample(n=25 - n, random_state=9)\n",
    "subset = subset.append(subset_2)\n",
    "labels = subset['label']\n",
    "subset.drop('label', axis=1, inplace=True)\n",
    "assert labels.sum() > 1"
   ]
  },
  {
   "cell_type": "code",
   "execution_count": null,
   "metadata": {},
   "outputs": [],
   "source": [
    "predictions = []"
   ]
  },
  {
   "cell_type": "code",
   "execution_count": 33,
   "metadata": {
    "scrolled": false
   },
   "outputs": [
    {
     "name": "stdout",
     "output_type": "stream",
     "text": [
      "\n",
      "Consistently great food whether brunch or dinner.\n",
      "\n",
      "Is the above review fake? 1\n",
      "\n",
      "outside of the super long wait. the food is always excellent\n",
      "\n",
      "Is the above review fake? 0\n",
      "\n",
      "We stopped in around 10 pm after dinner for some of the famous cheesecake.  Definitely worth it!  We went with the raspberry swirl and it was by far the best cheesecake I've ever had (and I'm a girl who loves her cheesecake!).  It was the perfect temperature with a great spongecake \"crust\" and big enough to share.  To make the experience even better was our extremely nice, prompt and helpful waiter.  We'll definitely be back!\n",
      "\n",
      "Is the above review fake? 0\n",
      "\n",
      "I went here a couple of times and i have tried some of the items Breakroom has to offer. My favorite items are the Pork Belly Sandwich, Breakroom Fries, and the Mint Lemonade. The Pork Belly Sandwich is awesome, i like the fatty pork belly and it tastes great withe the runny egg. The Breakroom fries is the epitome of happiness, it has bacon, pork belly, jalapenos, cheese and a runny egg, It tastes great with everything in it.The Mint Lemonade is very very refreshing, especially for the summer. Will definitely being coming back to try more items on the menu. the staff was awesome and pretty chill, the food takes awhile but its worth the wait.\n",
      "\n",
      "Is the above review fake? 1\n",
      "\n",
      "We went to this place for drinks and light appetizers/meal in the early evening but were disappointed. The food was so so. We ordered fries, meatballs in southern tomato sauce and catfish tacos. They were also out of 2 of their beers on the menu which was disappointing. However the service was friendly and prompt.\n",
      "\n",
      "Is the above review fake? 0\n",
      "\n",
      "Great Place to bring a date. Very large wine selection and the food is very good. service can be a little slow on busy nights. All in all a good spot.\n",
      "\n",
      "Is the above review fake? 0\n",
      "\n",
      "In the movie \"Re-animator\" Jeffery Combs a.k.a. Howard P. Lovecraft's  heart's desire is to give life back to the dead. This is course the story of Brooklyn. The rotting corpse of Williamsburg, Green-point, the South Slope, Sunset park...etc.  Have been and continue to receive blood=money as they were the last places where the Capitalist-fascist could buy low and sell at enormous profits to satisfy their rapacious  greed and lust. Folks who were priced out of Manhattan now face the irony that all of this re-animation has made Brooklyn the 2nd most expensive city in America right behind Manhattan.  Is  Queens  the new Brooklyn and The Bronx the new Queens? The Universe is laughing is there a Texas size asteroid heading our way. It's now 5th Avenue turn for a transfusion. What was once a dessert of faceless buildings and anonymous store fronts is now slowing getting its \"color-back.\" I even noticed and Art Gallery near 20th street. Let's hope it does not suffer the same fate as 4th Avenue, now the home to \"luxury\" -read- price gouging condo's built by immigrant architects just off the boat from East Germany. I missed the memo  where expedient ugliness has become the new standard model. Speaking of the late Eastern Europe, the one good thing to come out of it, besides the Stasi and Marcus Wolf,  is the wonderful food.  The restaurant KORZO has taken the best and delivers it with great style and panache. Everything on the menu is wonderful.  Having eaten there several times  I highly recommend you stopping in for dinner and to sample their wonderful selection of beer and cocktails. They have an art gallery in the back with some very interesting paintings but I would have preferred portraits of Uncle Joe Stalin, Eric Honecker, Bela Kun and Janos Kadar for company. The only drawback is that it is right next door to a Tattoo Parlor!  What is it with these god dam tattoos? I mean what!!!!!  -what happens when you are 60 and the ink has faded and gravity has started its remorseless work? Hey Grandma is that a Jackson Pollack on your butt?\n",
      "\n",
      "Is the above review fake? 1\n",
      "\n",
      "Great food & great service.  Risotto with fish was perfect.  Great salads   Goor ravioli w butter.   Everything was perfect.   One of the best restaurants we went to in NY.  Ask for Alexandra table\n",
      "\n",
      "Is the above review fake? 1\n",
      "\n",
      "Out of this world.  One of my favorite places.  This is the definition of great food.\n",
      "\n",
      "Is the above review fake? 1\n",
      "\n",
      "Yes! I ate here a while back and it was one of the best meals I have had in a long time.\n",
      "\n",
      "Is the above review fake? 0\n",
      "\n",
      "Great times, great pizza. Yum yum.\n",
      "\n",
      "Is the above review fake? 1\n",
      "\n",
      "I used to like this place. Maybe diner time is better here, but after experiencing by far THE WORST brunch , I may not go back. I was expecting the same friendly service for brunch . I mean come on, people are usually recovering from a hangover Sunday morning, a little TLC. the mascarpone pancakes were too thick, dry , and the mascarpone looked and tasted like a huge scoop of butter. My wife's eggs were a bit too salty and buttery(she ordered the frittata w/ artichokes and smoked motz). I was rushed through the ordering process with my wife. A larger group sat next to us, and our server forgot all about us. I had to get her attention several times to get a refill on water and coffee. what should only have taken 1 hour took 2 and a half because the servers were too busy taking care of the larger groups.My wife had to get up to give the server our credit card. Never again.\n",
      "\n",
      "Is the above review fake? 0\n",
      "\n",
      "Without a doubt I am coming back again, They make delicious dishes and they are all worth trying. I really Enjoyed the meals.\n",
      "\n",
      "Is the above review fake? 1\n",
      "\n",
      "This gem has some of the best food I have ever eaten.  Interesting takes on classics.  Homemade comfort foods was a twist.  One of my favorite things is the peanut butter and jelly bacon cheeseburger!   The menu is not substantial.   The restaurant is not large and with a smaller menu, children may not fair as well if they are picky eaters.   I have been numerous times and have tried many different dishes.  All were wonderfully prepared.  Wait staff is extremely courteous and prompt.   Only thing to remember is bring cash, they don't take credit or debit cards.\n",
      "\n",
      "Is the above review fake? 0\n"
     ]
    }
   ],
   "source": [
    "for review in subset['review'].tolist()[len(predictions):]:\n",
    "    print('')\n",
    "    print(review)\n",
    "    \n",
    "    predictions.append(int(input('\\nIs the above review fake? ')))"
   ]
  },
  {
   "cell_type": "code",
   "execution_count": 34,
   "metadata": {},
   "outputs": [
    {
     "data": {
      "text/plain": [
       "25"
      ]
     },
     "execution_count": 34,
     "metadata": {},
     "output_type": "execute_result"
    }
   ],
   "source": [
    "len(predictions)"
   ]
  },
  {
   "cell_type": "code",
   "execution_count": 37,
   "metadata": {},
   "outputs": [
    {
     "name": "stdout",
     "output_type": "stream",
     "text": [
      "AUC: 0.6057692307692308\n",
      "mAP: 0.5876923076923077\n",
      "Accuracy: 0.6\n",
      "Precision: 0.6666666666666666\n",
      "Recall: 0.46153846153846156\n"
     ]
    }
   ],
   "source": [
    "from sklearn.metrics import roc_auc_score, average_precision_score, precision_score, recall_score, accuracy_score\n",
    "\n",
    "labels_subset = labels[:len(predictions)]\n",
    "\n",
    "print(f'AUC: {roc_auc_score(labels_subset, predictions)}')\n",
    "print(f'mAP: {average_precision_score(labels_subset, predictions)}')\n",
    "print(f'Accuracy: {accuracy_score(labels_subset, predictions)}')\n",
    "print(f'Precision: {precision_score(labels_subset, predictions)}')\n",
    "print(f'Recall: {recall_score(labels_subset, predictions)}')"
   ]
  },
  {
   "cell_type": "code",
   "execution_count": null,
   "metadata": {},
   "outputs": [],
   "source": []
  }
 ],
 "metadata": {
  "kernelspec": {
   "display_name": "Python 3",
   "language": "python",
   "name": "python3"
  },
  "language_info": {
   "codemirror_mode": {
    "name": "ipython",
    "version": 3
   },
   "file_extension": ".py",
   "mimetype": "text/x-python",
   "name": "python",
   "nbconvert_exporter": "python",
   "pygments_lexer": "ipython3",
   "version": "3.7.0"
  }
 },
 "nbformat": 4,
 "nbformat_minor": 2
}
