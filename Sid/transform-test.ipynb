{
 "cells": [
  {
   "cell_type": "code",
   "execution_count": 2,
   "metadata": {},
   "outputs": [],
   "source": [
    "import pandas as pd\n",
    "import numpy as np\n",
    "import pickle\n",
    "\n",
    "train = pd.read_csv('../data/train.csv')\n",
    "dev = pd.read_csv('../data/dev.csv')\n",
    "test = pd.read_csv('../data/test_no_label.csv')"
   ]
  },
  {
   "cell_type": "code",
   "execution_count": null,
   "metadata": {},
   "outputs": [],
   "source": [
    "# all of this code is taken from other notebooks and modified for working with 'test' instead of dev"
   ]
  },
  {
   "cell_type": "code",
   "execution_count": 3,
   "metadata": {},
   "outputs": [],
   "source": [
    "num_exclam_test = pd.Series(test['review'].str.count('!'))\n",
    "\n",
    "num_caps_test = (test['review'].str.extractall(r'(\\b[A-Z]{2,}\\b)') # extract all capitalized words with len >= 2\n",
    "                               .groupby(level=0).size()                         # count by each index\n",
    "                               .reindex(test['review'].index, fill_value=0))     # fill the missing with 0"
   ]
  },
  {
   "cell_type": "code",
   "execution_count": 4,
   "metadata": {},
   "outputs": [],
   "source": [
    "train_ex = list(train.ex_id)\n",
    "dev_ex = list(dev.ex_id)\n",
    "test_ex = list(test.ex_id)\n",
    "combined = pd.concat([train, dev, test],axis=0)\n",
    "\n",
    "def engineered_df(df):\n",
    "    rolling_rev = []\n",
    "    user_dict = {}\n",
    "    for index,row in df.iterrows():\n",
    "        curr_date = row['date']\n",
    "        curr_user = row['user_id']\n",
    "        \n",
    "        if(curr_user not in user_dict):\n",
    "            dates = df.loc[df.user_id == curr_user,'date'].tolist()\n",
    "            dates.sort()\n",
    "            user_dict[curr_user] = dates\n",
    "        index = user_dict[curr_user].index(curr_date)\n",
    "        \n",
    "        rolling_rev.append(index)\n",
    "        \n",
    "    df['reviewsToDate'] = rolling_rev\n",
    "    return df\n",
    "\n",
    "combined = engineered_df(combined)\n",
    "\n",
    "train = combined[combined['ex_id'].isin(train_ex)]\n",
    "dev = combined[combined['ex_id'].isin(dev_ex)]\n",
    "test = combined[combined['ex_id'].isin(test_ex)]"
   ]
  },
  {
   "cell_type": "code",
   "execution_count": 10,
   "metadata": {},
   "outputs": [],
   "source": [
    "test_rating = test['rating']"
   ]
  },
  {
   "cell_type": "code",
   "execution_count": 8,
   "metadata": {},
   "outputs": [],
   "source": [
    "with open('../data/idx_train.pckl', 'rb') as f:\n",
    "    indices = pickle.load(f)"
   ]
  },
  {
   "cell_type": "code",
   "execution_count": 9,
   "metadata": {},
   "outputs": [],
   "source": [
    "train = train.loc[indices]"
   ]
  },
  {
   "cell_type": "code",
   "execution_count": 12,
   "metadata": {},
   "outputs": [],
   "source": [
    "from nltk.stem import PorterStemmer\n",
    "from sklearn.feature_extraction.text import CountVectorizer, TfidfVectorizer\n",
    "\n",
    "class StemmedDict(dict):\n",
    "    def __missing__(self, key):\n",
    "        res = self[key] = port.stem(key)\n",
    "        return res\n",
    "\n",
    "stemmed = StemmedDict()\n",
    "port = PorterStemmer()\n",
    "analyzer = CountVectorizer(stop_words='english',\n",
    "                           ngram_range=(1, 2)).build_analyzer()\n",
    "\n",
    "def stem_words(doc):\n",
    "    return [' '.join([stemmed[word] for word in ngram.split()])\n",
    "            for ngram in analyzer(doc)]"
   ]
  },
  {
   "cell_type": "code",
   "execution_count": 13,
   "metadata": {},
   "outputs": [],
   "source": [
    "tf = TfidfVectorizer(analyzer=stem_words)\n",
    "\n",
    "vectorizers = {'tfidf': tf,\n",
    "               }"
   ]
  },
  {
   "cell_type": "code",
   "execution_count": 14,
   "metadata": {},
   "outputs": [
    {
     "name": "stdout",
     "output_type": "stream",
     "text": [
      "finished tfidf\n"
     ]
    }
   ],
   "source": [
    "for name, vectorizer in vectorizers.items():\n",
    "    train_transformed = vectorizer.fit_transform(train['review'])\n",
    "    print(f'finished {name}')\n",
    "\n",
    "    del train_transformed"
   ]
  },
  {
   "cell_type": "code",
   "execution_count": 15,
   "metadata": {},
   "outputs": [
    {
     "name": "stdout",
     "output_type": "stream",
     "text": [
      "finished tfidf\n"
     ]
    }
   ],
   "source": [
    "for name, vectorizer in vectorizers.items():\n",
    "    test_transformed = vectorizer.transform(test['review'])\n",
    "    print(f'finished {name}')\n",
    "\n",
    "    with open(f'../data/test_{name}_vectorized.pckl', 'wb') as f:\n",
    "        pickle.dump(test_transformed, f)"
   ]
  },
  {
   "cell_type": "code",
   "execution_count": 19,
   "metadata": {},
   "outputs": [],
   "source": [
    "with open(f'../data/train_tfidf_subsampled_data.pckl', 'rb') as f:\n",
    "    train_vectorized = pickle.load(f)"
   ]
  },
  {
   "cell_type": "code",
   "execution_count": 22,
   "metadata": {},
   "outputs": [
    {
     "name": "stdout",
     "output_type": "stream",
     "text": [
      "83235\n"
     ]
    }
   ],
   "source": [
    "from scipy import sparse\n",
    "\n",
    "vectorized_data = test_transformed\n",
    "caps = num_caps_test\n",
    "exclam = num_exclam_test\n",
    "rev_counts = test['reviewsToDate']\n",
    "ratings = test_rating\n",
    "\n",
    "caps = caps.values.reshape(-1, 1)\n",
    "exclam = exclam.values.reshape(-1, 1)\n",
    "rev_counts = rev_counts.values.reshape(-1, 1)\n",
    "ratings = ratings.values.reshape(-1, 1)\n",
    "\n",
    "full_data = sparse.hstack((vectorized_data,\n",
    "                           sparse.csr_matrix(caps),\n",
    "                           sparse.csr_matrix(exclam),\n",
    "                           sparse.csr_matrix(rev_counts),\n",
    "                           sparse.csr_matrix(ratings),\n",
    "                           ))\n",
    "\n",
    "# for some reason, this isn't an actual CSR matrix...\n",
    "full_data = full_data.tocsr()\n",
    "\n",
    "sums = (train_vectorized > 0).sum(axis=0)\n",
    "lim = sums.mean()\n",
    "print(np.asarray(sums > lim)[0].sum())\n",
    "sliced_data = full_data[:, np.asarray(sums > lim)[0]]\n",
    "\n",
    "with open(f'../data/test_tfidf_subsampled_data_sliced.pckl', 'wb') as f:\n",
    "    pickle.dump(sliced_data, f)"
   ]
  },
  {
   "cell_type": "code",
   "execution_count": null,
   "metadata": {},
   "outputs": [],
   "source": []
  }
 ],
 "metadata": {
  "kernelspec": {
   "display_name": "Python 3",
   "language": "python",
   "name": "python3"
  },
  "language_info": {
   "codemirror_mode": {
    "name": "ipython",
    "version": 3
   },
   "file_extension": ".py",
   "mimetype": "text/x-python",
   "name": "python",
   "nbconvert_exporter": "python",
   "pygments_lexer": "ipython3",
   "version": "3.7.0"
  }
 },
 "nbformat": 4,
 "nbformat_minor": 2
}
