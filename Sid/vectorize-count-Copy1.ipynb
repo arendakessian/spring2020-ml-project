{
 "cells": [
  {
   "cell_type": "code",
   "execution_count": 1,
   "metadata": {},
   "outputs": [],
   "source": [
    "from sklearn.feature_extraction.text import CountVectorizer, TfidfVectorizer, HashingVectorizer\n",
    "import pandas as pd\n",
    "import numpy as np\n",
    "import pickle"
   ]
  },
  {
   "cell_type": "code",
   "execution_count": 2,
   "metadata": {},
   "outputs": [],
   "source": [
    "train = pd.read_csv('../data/train.csv')"
   ]
  },
  {
   "cell_type": "code",
   "execution_count": 3,
   "metadata": {},
   "outputs": [],
   "source": [
    "dev = pd.read_csv('../data/dev.csv')"
   ]
  },
  {
   "cell_type": "code",
   "execution_count": 5,
   "metadata": {},
   "outputs": [
    {
     "data": {
      "text/plain": [
       "[\"The food at snack is a selection of popular Greek dishes. The appetizer tray is good as is the Greek salad. We were underwhelmed with the main courses. There are 4-5 tables here so it's sometimes hard to get seated.\",\n",
       " \"This little place in Soho is wonderful. I had a lamb sandwich and a glass of wine. The price shocked me for how small the serving was, but then again, this is Soho. The staff can be a little snotty and rude, but the food is great, just don't expect world-class service.\",\n",
       " 'ordered lunch for 15 from Snack last Friday. \\xa0On time, nothing missing and the food was great. \\xa0I have added it to the regular company lunch list, as everyone enjoyed their meal.',\n",
       " \"This is a beautiful quaint little restaurant on a pretty street. \\xa0If you're strolling through soho around lunchtime, this would be a great place to stop for a bite. I heard the reviews about the lamb sandwich, so I had to try it. I'm very happy that i did. Every single ingredient - from the bread to the onions and tomatoes, the lamb and the sauce - was delicious. These four stars are well deserved because of the tasty sandwich and great ambiance. \\xa0I would recommend this place to anyone.\",\n",
       " 'Snack is great place for a \\xa0casual sit down lunch- especially on a cold winter day. \\xa0In many ways the restaurant mirrors the food- simple yet unique. \\xa0The avgolemono soup was lemony perfection and the butter bean salad hearty yet light. \\xa0The greek coffee is different...they sweeten it with honey which makes for an interesting thickness and sweet spice. I definitely plan on going back for dinner. \\xa0If the small space doesn\\'t suit you their sister restaurant Snack Taverna in the West Village is just as good, if not better...and more \"upscale\" with waiters who make you feel well taken care of.']"
      ]
     },
     "execution_count": 5,
     "metadata": {},
     "output_type": "execute_result"
    }
   ],
   "source": [
    "train.head()['review'].tolist()"
   ]
  },
  {
   "cell_type": "code",
   "execution_count": 6,
   "metadata": {},
   "outputs": [
    {
     "data": {
      "text/html": [
       "<div>\n",
       "<style scoped>\n",
       "    .dataframe tbody tr th:only-of-type {\n",
       "        vertical-align: middle;\n",
       "    }\n",
       "\n",
       "    .dataframe tbody tr th {\n",
       "        vertical-align: top;\n",
       "    }\n",
       "\n",
       "    .dataframe thead th {\n",
       "        text-align: right;\n",
       "    }\n",
       "</style>\n",
       "<table border=\"1\" class=\"dataframe\">\n",
       "  <thead>\n",
       "    <tr style=\"text-align: right;\">\n",
       "      <th></th>\n",
       "      <th>ex_id</th>\n",
       "      <th>user_id</th>\n",
       "      <th>prod_id</th>\n",
       "      <th>rating</th>\n",
       "      <th>label</th>\n",
       "      <th>date</th>\n",
       "      <th>review</th>\n",
       "    </tr>\n",
       "  </thead>\n",
       "  <tbody>\n",
       "    <tr>\n",
       "      <th>0</th>\n",
       "      <td>0</td>\n",
       "      <td>923</td>\n",
       "      <td>0</td>\n",
       "      <td>3.0</td>\n",
       "      <td>1</td>\n",
       "      <td>2014-12-08</td>\n",
       "      <td>The food at snack is a selection of popular Gr...</td>\n",
       "    </tr>\n",
       "    <tr>\n",
       "      <th>1</th>\n",
       "      <td>1</td>\n",
       "      <td>924</td>\n",
       "      <td>0</td>\n",
       "      <td>3.0</td>\n",
       "      <td>1</td>\n",
       "      <td>2013-05-16</td>\n",
       "      <td>This little place in Soho is wonderful. I had ...</td>\n",
       "    </tr>\n",
       "    <tr>\n",
       "      <th>2</th>\n",
       "      <td>2</td>\n",
       "      <td>925</td>\n",
       "      <td>0</td>\n",
       "      <td>4.0</td>\n",
       "      <td>1</td>\n",
       "      <td>2013-07-01</td>\n",
       "      <td>ordered lunch for 15 from Snack last Friday.  ...</td>\n",
       "    </tr>\n",
       "    <tr>\n",
       "      <th>3</th>\n",
       "      <td>3</td>\n",
       "      <td>926</td>\n",
       "      <td>0</td>\n",
       "      <td>4.0</td>\n",
       "      <td>1</td>\n",
       "      <td>2011-07-28</td>\n",
       "      <td>This is a beautiful quaint little restaurant o...</td>\n",
       "    </tr>\n",
       "    <tr>\n",
       "      <th>4</th>\n",
       "      <td>4</td>\n",
       "      <td>927</td>\n",
       "      <td>0</td>\n",
       "      <td>4.0</td>\n",
       "      <td>1</td>\n",
       "      <td>2010-11-01</td>\n",
       "      <td>Snack is great place for a  casual sit down lu...</td>\n",
       "    </tr>\n",
       "  </tbody>\n",
       "</table>\n",
       "</div>"
      ],
      "text/plain": [
       "   ex_id  user_id  prod_id  rating  label        date  \\\n",
       "0      0      923        0     3.0      1  2014-12-08   \n",
       "1      1      924        0     3.0      1  2013-05-16   \n",
       "2      2      925        0     4.0      1  2013-07-01   \n",
       "3      3      926        0     4.0      1  2011-07-28   \n",
       "4      4      927        0     4.0      1  2010-11-01   \n",
       "\n",
       "                                              review  \n",
       "0  The food at snack is a selection of popular Gr...  \n",
       "1  This little place in Soho is wonderful. I had ...  \n",
       "2  ordered lunch for 15 from Snack last Friday.  ...  \n",
       "3  This is a beautiful quaint little restaurant o...  \n",
       "4  Snack is great place for a  casual sit down lu...  "
      ]
     },
     "execution_count": 6,
     "metadata": {},
     "output_type": "execute_result"
    }
   ],
   "source": [
    "train.head()"
   ]
  },
  {
   "cell_type": "code",
   "execution_count": 4,
   "metadata": {},
   "outputs": [],
   "source": [
    "with open('../data/idx_train.pckl', 'rb') as f:\n",
    "    indices = pickle.load(f)"
   ]
  },
  {
   "cell_type": "code",
   "execution_count": 5,
   "metadata": {},
   "outputs": [],
   "source": [
    "train = train.loc[indices]"
   ]
  },
  {
   "cell_type": "code",
   "execution_count": 6,
   "metadata": {},
   "outputs": [],
   "source": [
    "from nltk.stem import PorterStemmer\n",
    "\n",
    "class StemmedDict(dict):\n",
    "    def __missing__(self, key):\n",
    "        res = self[key] = port.stem(key)\n",
    "        return res\n",
    "\n",
    "stemmed = StemmedDict()\n",
    "port = PorterStemmer()\n",
    "analyzer = CountVectorizer(stop_words='english',\n",
    "                           ngram_range=(1, 2)).build_analyzer()\n",
    "\n",
    "def stem_words(doc):\n",
    "    return [' '.join([stemmed[word] for word in ngram.split()])\n",
    "            for ngram in analyzer(doc)]"
   ]
  },
  {
   "cell_type": "code",
   "execution_count": 7,
   "metadata": {},
   "outputs": [],
   "source": [
    "n_feature_hashes = 2 ** 23  # we have at least 13m ngrams so we have a lot of collisions if taking 2^20\n",
    "\n",
    "cv = CountVectorizer(analyzer=stem_words)\n",
    "tf = TfidfVectorizer(analyzer=stem_words)\n",
    "hs = HashingVectorizer(analyzer=stem_words,\n",
    "                       n_features=n_feature_hashes)\n",
    "bn = CountVectorizer(analyzer=stem_words, binary=True)  # binary version\n",
    "hs_bn = HashingVectorizer(analyzer=stem_words,\n",
    "                          binary=True,\n",
    "                          n_features=n_feature_hashes)\n",
    "\n",
    "vectorizers = {'count': cv,\n",
    "               'tfidf': tf,\n",
    "               #'hashing': hs,\n",
    "               'binary': bn,\n",
    "               #'hashing_binary': hs_bn,\n",
    "               }"
   ]
  },
  {
   "cell_type": "code",
   "execution_count": null,
   "metadata": {
    "scrolled": true
   },
   "outputs": [
    {
     "name": "stdout",
     "output_type": "stream",
     "text": [
      "finished count\n",
      "finished tfidf\n"
     ]
    }
   ],
   "source": [
    "for name, vectorizer in vectorizers.items():\n",
    "    train_transformed = vectorizer.fit_transform(train['review'])\n",
    "    print(f'finished {name}')\n",
    "\n",
    "    with open(f'../data/train_{name}_vectorized.pckl', 'wb') as f:\n",
    "        pickle.dump(train_transformed, f)\n",
    "    del train_transformed"
   ]
  },
  {
   "cell_type": "code",
   "execution_count": null,
   "metadata": {},
   "outputs": [],
   "source": [
    "for name, vectorizer in vectorizers.items():\n",
    "    dev_transformed = vectorizer.transform(dev['review'])\n",
    "    print(f'finished {name}')\n",
    "\n",
    "    with open(f'../data/dev_{name}_vectorized.pckl', 'wb') as f:\n",
    "        pickle.dump(dev_transformed, f)\n",
    "    del dev_transformed"
   ]
  },
  {
   "cell_type": "code",
   "execution_count": null,
   "metadata": {},
   "outputs": [],
   "source": [
    "with open('../data/train_labels.pckl', 'wb') as f:\n",
    "    pickle.dump(train['label'], f)\n",
    "    \n",
    "with open('../data/dev_labels.pckl', 'wb') as f:\n",
    "    pickle.dump(dev['label'], f)"
   ]
  },
  {
   "cell_type": "code",
   "execution_count": null,
   "metadata": {},
   "outputs": [],
   "source": [
    "with open('../data/vectorizers.pckl', 'wb') as f:\n",
    "    # pickle.dump(vectorizers, f)\n",
    "    pass  # ends up being a 2gb file. lol"
   ]
  }
 ],
 "metadata": {
  "kernelspec": {
   "display_name": "Python 3",
   "language": "python",
   "name": "python3"
  },
  "language_info": {
   "codemirror_mode": {
    "name": "ipython",
    "version": 3
   },
   "file_extension": ".py",
   "mimetype": "text/x-python",
   "name": "python",
   "nbconvert_exporter": "python",
   "pygments_lexer": "ipython3",
   "version": "3.7.0"
  }
 },
 "nbformat": 4,
 "nbformat_minor": 2
}
