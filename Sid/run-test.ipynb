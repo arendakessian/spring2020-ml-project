{
 "cells": [
  {
   "cell_type": "code",
   "execution_count": 1,
   "metadata": {},
   "outputs": [],
   "source": [
    "import pickle\n",
    "import pandas as pd\n",
    "import numpy as np\n",
    "from sklearn.linear_model import LogisticRegression\n",
    "from sklearn.svm import LinearSVC\n",
    "from sklearn.naive_bayes import MultinomialNB"
   ]
  },
  {
   "cell_type": "code",
   "execution_count": 2,
   "metadata": {},
   "outputs": [],
   "source": [
    "with open('../data/best_lr_retrained_tfidf.pckl', 'rb') as f:\n",
    "    lr = pickle.load(f)\n",
    "\n",
    "with open('../data/best_svm_retrained_tfidf.pckl', 'rb') as f:\n",
    "    svm = pickle.load(f)\n",
    "\n",
    "with open('../data/best_mnb_retrained_tfidf.pckl', 'rb') as f:\n",
    "    mnb = pickle.load(f)"
   ]
  },
  {
   "cell_type": "code",
   "execution_count": 3,
   "metadata": {},
   "outputs": [],
   "source": [
    "with open(f'../data/test_tfidf_subsampled_data_3.pckl', 'rb') as f:\n",
    "    test_full = pickle.load(f)\n",
    "\n",
    "with open(f'../data/test_tfidf_subsampled_data_sliced_2.pckl', 'rb') as f:\n",
    "    test_sliced = pickle.load(f)"
   ]
  },
  {
   "cell_type": "code",
   "execution_count": 4,
   "metadata": {},
   "outputs": [
    {
     "data": {
      "text/plain": [
       "((72165, 4047745), (72165, 98489))"
      ]
     },
     "execution_count": 4,
     "metadata": {},
     "output_type": "execute_result"
    }
   ],
   "source": [
    "test_full.shape, test_sliced.shape"
   ]
  },
  {
   "cell_type": "code",
   "execution_count": 5,
   "metadata": {},
   "outputs": [],
   "source": [
    "predicted_lr = lr.predict_proba(test_sliced)[:, 1]\n",
    "predicted_svm = svm.predict_proba(test_full)[:, 1]\n",
    "predicted_mnb = mnb.predict_proba(test_full)[:, 1]\n",
    "\n",
    "with open('predicted_test_labels.pckl', 'wb') as f:\n",
    "    pickle.dump((predicted_lr,\n",
    "                 predicted_svm,\n",
    "                 predicted_mnb),\n",
    "                f)"
   ]
  },
  {
   "cell_type": "code",
   "execution_count": 6,
   "metadata": {},
   "outputs": [
    {
     "data": {
      "text/plain": [
       "array([0.1580181 , 0.32280205, 0.45910523, 0.44793096, 0.33488793,\n",
       "       0.45373827, 0.61693852, 0.27379469, 0.5152519 , 0.32494541])"
      ]
     },
     "execution_count": 6,
     "metadata": {},
     "output_type": "execute_result"
    }
   ],
   "source": [
    "predicted_lr[:10]"
   ]
  },
  {
   "cell_type": "code",
   "execution_count": 7,
   "metadata": {},
   "outputs": [
    {
     "data": {
      "text/plain": [
       "array([0.25657769, 0.36497999, 0.54282186, 0.61058831, 0.44647988,\n",
       "       0.3269297 , 0.64856411, 0.33657698, 0.47931043, 0.388763  ])"
      ]
     },
     "execution_count": 7,
     "metadata": {},
     "output_type": "execute_result"
    }
   ],
   "source": [
    "predicted_svm[:10]"
   ]
  },
  {
   "cell_type": "code",
   "execution_count": 8,
   "metadata": {},
   "outputs": [
    {
     "data": {
      "text/plain": [
       "array([4.35291490e-02, 1.83143485e-01, 8.60648832e-02, 5.69041774e-01,\n",
       "       5.88446288e-01, 5.53086361e-04, 5.46054150e-01, 3.43760906e-02,\n",
       "       1.01969620e-01, 2.25691819e-01])"
      ]
     },
     "execution_count": 8,
     "metadata": {},
     "output_type": "execute_result"
    }
   ],
   "source": [
    "predicted_mnb[:10]"
   ]
  },
  {
   "cell_type": "code",
   "execution_count": 9,
   "metadata": {},
   "outputs": [
    {
     "data": {
      "text/plain": [
       "(16290, 17689, 7404)"
      ]
     },
     "execution_count": 9,
     "metadata": {},
     "output_type": "execute_result"
    }
   ],
   "source": [
    "(predicted_lr > 0.5).sum(), (predicted_svm > 0.5).sum(), (predicted_mnb > 0.5).sum()"
   ]
  },
  {
   "cell_type": "code",
   "execution_count": 10,
   "metadata": {},
   "outputs": [
    {
     "data": {
      "text/html": [
       "<div>\n",
       "<style scoped>\n",
       "    .dataframe tbody tr th:only-of-type {\n",
       "        vertical-align: middle;\n",
       "    }\n",
       "\n",
       "    .dataframe tbody tr th {\n",
       "        vertical-align: top;\n",
       "    }\n",
       "\n",
       "    .dataframe thead th {\n",
       "        text-align: right;\n",
       "    }\n",
       "</style>\n",
       "<table border=\"1\" class=\"dataframe\">\n",
       "  <thead>\n",
       "    <tr style=\"text-align: right;\">\n",
       "      <th></th>\n",
       "      <th>lr</th>\n",
       "      <th>svm</th>\n",
       "      <th>mnb</th>\n",
       "      <th>vote</th>\n",
       "      <th>vote_proba</th>\n",
       "      <th>avg</th>\n",
       "    </tr>\n",
       "  </thead>\n",
       "  <tbody>\n",
       "    <tr>\n",
       "      <th>0</th>\n",
       "      <td>0.158018</td>\n",
       "      <td>0.256578</td>\n",
       "      <td>0.043529</td>\n",
       "      <td>0</td>\n",
       "      <td>0.000000</td>\n",
       "      <td>0.152708</td>\n",
       "    </tr>\n",
       "    <tr>\n",
       "      <th>1</th>\n",
       "      <td>0.322802</td>\n",
       "      <td>0.364980</td>\n",
       "      <td>0.183143</td>\n",
       "      <td>0</td>\n",
       "      <td>0.000000</td>\n",
       "      <td>0.290309</td>\n",
       "    </tr>\n",
       "    <tr>\n",
       "      <th>2</th>\n",
       "      <td>0.459105</td>\n",
       "      <td>0.542822</td>\n",
       "      <td>0.086065</td>\n",
       "      <td>0</td>\n",
       "      <td>0.333333</td>\n",
       "      <td>0.362664</td>\n",
       "    </tr>\n",
       "    <tr>\n",
       "      <th>3</th>\n",
       "      <td>0.447931</td>\n",
       "      <td>0.610588</td>\n",
       "      <td>0.569042</td>\n",
       "      <td>0</td>\n",
       "      <td>0.666667</td>\n",
       "      <td>0.542520</td>\n",
       "    </tr>\n",
       "    <tr>\n",
       "      <th>4</th>\n",
       "      <td>0.334888</td>\n",
       "      <td>0.446480</td>\n",
       "      <td>0.588446</td>\n",
       "      <td>0</td>\n",
       "      <td>0.333333</td>\n",
       "      <td>0.456605</td>\n",
       "    </tr>\n",
       "  </tbody>\n",
       "</table>\n",
       "</div>"
      ],
      "text/plain": [
       "         lr       svm       mnb  vote  vote_proba       avg\n",
       "0  0.158018  0.256578  0.043529     0    0.000000  0.152708\n",
       "1  0.322802  0.364980  0.183143     0    0.000000  0.290309\n",
       "2  0.459105  0.542822  0.086065     0    0.333333  0.362664\n",
       "3  0.447931  0.610588  0.569042     0    0.666667  0.542520\n",
       "4  0.334888  0.446480  0.588446     0    0.333333  0.456605"
      ]
     },
     "execution_count": 10,
     "metadata": {},
     "output_type": "execute_result"
    }
   ],
   "source": [
    "ensemble_df = pd.DataFrame([predicted_lr, predicted_svm, predicted_mnb]).T\n",
    "ensemble_df.columns = ['lr', 'svm', 'mnb']\n",
    "ensemble_df['vote'] = ((ensemble_df[['lr', 'svm', 'mnb']] > 0.5).sum(axis=1) > 2).astype(int)\n",
    "ensemble_df['vote_proba'] = (ensemble_df[['lr', 'svm', 'mnb']] > 0.5).sum(axis=1) / 3\n",
    "ensemble_df['avg'] = ensemble_df[['lr', 'svm', 'mnb']].mean(axis=1)\n",
    "ensemble_df.head()"
   ]
  },
  {
   "cell_type": "code",
   "execution_count": 11,
   "metadata": {},
   "outputs": [],
   "source": [
    "ensemble_df['avg'].to_csv('../data/predictions.csv', index=False, header=False)"
   ]
  },
  {
   "cell_type": "code",
   "execution_count": 12,
   "metadata": {},
   "outputs": [
    {
     "data": {
      "text/plain": [
       "(72165, 6)"
      ]
     },
     "execution_count": 12,
     "metadata": {},
     "output_type": "execute_result"
    }
   ],
   "source": [
    "ensemble_df.shape"
   ]
  }
 ],
 "metadata": {
  "kernelspec": {
   "display_name": "Python 3",
   "language": "python",
   "name": "python3"
  },
  "language_info": {
   "codemirror_mode": {
    "name": "ipython",
    "version": 3
   },
   "file_extension": ".py",
   "mimetype": "text/x-python",
   "name": "python",
   "nbconvert_exporter": "python",
   "pygments_lexer": "ipython3",
   "version": "3.7.0"
  }
 },
 "nbformat": 4,
 "nbformat_minor": 2
}
