{
 "cells": [
  {
   "cell_type": "code",
   "execution_count": 1,
   "metadata": {},
   "outputs": [],
   "source": [
    "import pickle\n",
    "import pandas as pd"
   ]
  },
  {
   "cell_type": "code",
   "execution_count": 2,
   "metadata": {},
   "outputs": [],
   "source": [
    "from sklearn.ensemble import GradientBoostingClassifier\n",
    "from sklearn.model_selection import RandomizedSearchCV\n",
    "from scipy.stats import randint as sp_randint\n",
    "from scipy.stats import loguniform as sp_loguniform\n",
    "from scipy.stats import uniform as sp_uniform\n",
    "from sklearn.metrics import roc_auc_score, average_precision_score"
   ]
  },
  {
   "cell_type": "code",
   "execution_count": 110,
   "metadata": {},
   "outputs": [
    {
     "name": "stdout",
     "output_type": "stream",
     "text": [
      "Fitting 3 folds for each of 400 candidates, totalling 1200 fits\n"
     ]
    },
    {
     "name": "stderr",
     "output_type": "stream",
     "text": [
      "[Parallel(n_jobs=-1)]: Using backend LokyBackend with 12 concurrent workers.\n",
      "[Parallel(n_jobs=-1)]: Done   8 tasks      | elapsed:  2.2min\n",
      "[Parallel(n_jobs=-1)]: Done 104 tasks      | elapsed: 26.8min\n",
      "[Parallel(n_jobs=-1)]: Done 264 tasks      | elapsed: 67.4min\n",
      "[Parallel(n_jobs=-1)]: Done 488 tasks      | elapsed: 122.6min\n",
      "[Parallel(n_jobs=-1)]: Done 776 tasks      | elapsed: 195.9min\n",
      "[Parallel(n_jobs=-1)]: Done 1128 tasks      | elapsed: 283.6min\n",
      "[Parallel(n_jobs=-1)]: Done 1200 out of 1200 | elapsed: 300.4min finished\n"
     ]
    },
    {
     "name": "stdout",
     "output_type": "stream",
     "text": [
      "Vectorizer: count\n",
      "ROC: 0.6819107404492792\n",
      "AP: 0.16201575439726315\n",
      "Fitting 3 folds for each of 400 candidates, totalling 1200 fits\n"
     ]
    },
    {
     "name": "stderr",
     "output_type": "stream",
     "text": [
      "[Parallel(n_jobs=-1)]: Using backend LokyBackend with 12 concurrent workers.\n",
      "[Parallel(n_jobs=-1)]: Done   8 tasks      | elapsed:  2.1min\n",
      "[Parallel(n_jobs=-1)]: Done 104 tasks      | elapsed: 26.7min\n",
      "[Parallel(n_jobs=-1)]: Done 264 tasks      | elapsed: 67.8min\n",
      "[Parallel(n_jobs=-1)]: Done 488 tasks      | elapsed: 122.8min\n",
      "[Parallel(n_jobs=-1)]: Done 776 tasks      | elapsed: 196.3min\n",
      "[Parallel(n_jobs=-1)]: Done 1128 tasks      | elapsed: 284.5min\n",
      "[Parallel(n_jobs=-1)]: Done 1200 out of 1200 | elapsed: 301.4min finished\n"
     ]
    },
    {
     "name": "stdout",
     "output_type": "stream",
     "text": [
      "Vectorizer: tfidf\n",
      "ROC: 0.691101227852712\n",
      "AP: 0.16784015444764283\n",
      "Fitting 3 folds for each of 400 candidates, totalling 1200 fits\n"
     ]
    },
    {
     "name": "stderr",
     "output_type": "stream",
     "text": [
      "[Parallel(n_jobs=-1)]: Using backend LokyBackend with 12 concurrent workers.\n",
      "[Parallel(n_jobs=-1)]: Done   8 tasks      | elapsed:  2.2min\n",
      "[Parallel(n_jobs=-1)]: Done 104 tasks      | elapsed: 26.7min\n",
      "[Parallel(n_jobs=-1)]: Done 264 tasks      | elapsed: 67.7min\n",
      "[Parallel(n_jobs=-1)]: Done 488 tasks      | elapsed: 123.1min\n",
      "[Parallel(n_jobs=-1)]: Done 776 tasks      | elapsed: 196.6min\n",
      "[Parallel(n_jobs=-1)]: Done 1128 tasks      | elapsed: 285.2min\n",
      "[Parallel(n_jobs=-1)]: Done 1200 out of 1200 | elapsed: 302.0min finished\n"
     ]
    },
    {
     "name": "stdout",
     "output_type": "stream",
     "text": [
      "Vectorizer: binary\n",
      "ROC: 0.6855494637488514\n",
      "AP: 0.16397459392759944\n"
     ]
    }
   ],
   "source": [
    "vectorizers = ['count',\n",
    "               'tfidf',\n",
    "               #'hashing',\n",
    "               'binary',\n",
    "               #'hashing_binary',\n",
    "               ]\n",
    "\n",
    "with open('../data/train_labels.pckl', 'rb') as f:\n",
    "    train_labels = pickle.load(f)\n",
    "with open('../data/dev_labels.pckl', 'rb') as f:\n",
    "    dev_labels = pickle.load(f)\n",
    "\n",
    "cv = {}\n",
    "    \n",
    "for vectorizer in vectorizers:\n",
    "    with open(f'../data/train_{vectorizer}_downsampled_data.pckl', 'rb') as f:\n",
    "        train = pickle.load(f)\n",
    "    with open(f'../data/dev_{vectorizer}_downsampled_data.pckl', 'rb') as f:\n",
    "        dev = pickle.load(f)\n",
    "\n",
    "    gb = GradientBoostingClassifier(random_state=0)\n",
    "    \n",
    "    params = {'n_estimators': sp_randint(100, 400),\n",
    "              'loss': ['deviance', 'exponential'],\n",
    "              'learning_rate': sp_loguniform(0.2, 2),\n",
    "              'min_weight_fraction_leaf': sp_uniform(scale=0.25),\n",
    "              'max_depth': sp_randint(3, 8),\n",
    "              'max_features': ['sqrt'],\n",
    "              }\n",
    "    \n",
    "    cv[vectorizer] = RandomizedSearchCV(gb,\n",
    "                                        params,\n",
    "                                        n_iter=400,\n",
    "                                        n_jobs=-1,\n",
    "                                        cv=3,\n",
    "                                        random_state=0,\n",
    "                                        verbose=3,\n",
    "                                        scoring='precision',\n",
    "                                        # return_train_score=True,\n",
    "                                        )\n",
    "    cv[vectorizer].fit(train, train_labels)\n",
    "    predicted = cv[vectorizer].predict(dev)\n",
    "    \n",
    "    print(f'Vectorizer: {vectorizer}')\n",
    "    print(f'ROC: {roc_auc_score(dev_labels, predicted)}')\n",
    "    print(f'AP: {average_precision_score(dev_labels, predicted)}')"
   ]
  },
  {
   "cell_type": "code",
   "execution_count": 111,
   "metadata": {},
   "outputs": [
    {
     "data": {
      "text/plain": [
       "GradientBoostingClassifier(ccp_alpha=0.0, criterion='friedman_mse', init=None,\n",
       "                           learning_rate=1.2206327782300102, loss='exponential',\n",
       "                           max_depth=5, max_features='sqrt',\n",
       "                           max_leaf_nodes=None, min_impurity_decrease=0.0,\n",
       "                           min_impurity_split=None, min_samples_leaf=1,\n",
       "                           min_samples_split=2,\n",
       "                           min_weight_fraction_leaf=0.00406319716934242,\n",
       "                           n_estimators=383, n_iter_no_change=None,\n",
       "                           presort='deprecated', random_state=0, subsample=1.0,\n",
       "                           tol=0.0001, validation_fraction=0.1, verbose=0,\n",
       "                           warm_start=False)"
      ]
     },
     "execution_count": 111,
     "metadata": {},
     "output_type": "execute_result"
    }
   ],
   "source": [
    "cv['count'].best_estimator_"
   ]
  },
  {
   "cell_type": "code",
   "execution_count": 120,
   "metadata": {},
   "outputs": [
    {
     "data": {
      "text/html": [
       "<div>\n",
       "<style scoped>\n",
       "    .dataframe tbody tr th:only-of-type {\n",
       "        vertical-align: middle;\n",
       "    }\n",
       "\n",
       "    .dataframe tbody tr th {\n",
       "        vertical-align: top;\n",
       "    }\n",
       "\n",
       "    .dataframe thead th {\n",
       "        text-align: right;\n",
       "    }\n",
       "</style>\n",
       "<table border=\"1\" class=\"dataframe\">\n",
       "  <thead>\n",
       "    <tr style=\"text-align: right;\">\n",
       "      <th></th>\n",
       "      <th>mean_fit_time</th>\n",
       "      <th>std_fit_time</th>\n",
       "      <th>mean_score_time</th>\n",
       "      <th>std_score_time</th>\n",
       "      <th>param_learning_rate</th>\n",
       "      <th>param_loss</th>\n",
       "      <th>param_max_depth</th>\n",
       "      <th>param_max_features</th>\n",
       "      <th>param_min_weight_fraction_leaf</th>\n",
       "      <th>param_n_estimators</th>\n",
       "      <th>params</th>\n",
       "      <th>split0_test_score</th>\n",
       "      <th>split1_test_score</th>\n",
       "      <th>split2_test_score</th>\n",
       "      <th>mean_test_score</th>\n",
       "      <th>std_test_score</th>\n",
       "      <th>rank_test_score</th>\n",
       "    </tr>\n",
       "  </thead>\n",
       "  <tbody>\n",
       "    <tr>\n",
       "      <th>325</th>\n",
       "      <td>416.091812</td>\n",
       "      <td>20.759148</td>\n",
       "      <td>0.609805</td>\n",
       "      <td>0.056193</td>\n",
       "      <td>0.295091</td>\n",
       "      <td>exponential</td>\n",
       "      <td>6</td>\n",
       "      <td>sqrt</td>\n",
       "      <td>0.00017924</td>\n",
       "      <td>315</td>\n",
       "      <td>{'learning_rate': 0.295091100156139, 'loss': '...</td>\n",
       "      <td>0.662227</td>\n",
       "      <td>0.613964</td>\n",
       "      <td>0.665739</td>\n",
       "      <td>0.647310</td>\n",
       "      <td>0.023623</td>\n",
       "      <td>1</td>\n",
       "    </tr>\n",
       "    <tr>\n",
       "      <th>353</th>\n",
       "      <td>396.128441</td>\n",
       "      <td>11.764218</td>\n",
       "      <td>0.638813</td>\n",
       "      <td>0.058813</td>\n",
       "      <td>1.22063</td>\n",
       "      <td>exponential</td>\n",
       "      <td>5</td>\n",
       "      <td>sqrt</td>\n",
       "      <td>0.0040632</td>\n",
       "      <td>383</td>\n",
       "      <td>{'learning_rate': 1.2206327782300102, 'loss': ...</td>\n",
       "      <td>0.660280</td>\n",
       "      <td>0.614205</td>\n",
       "      <td>0.659808</td>\n",
       "      <td>0.644764</td>\n",
       "      <td>0.021610</td>\n",
       "      <td>2</td>\n",
       "    </tr>\n",
       "    <tr>\n",
       "      <th>123</th>\n",
       "      <td>240.754756</td>\n",
       "      <td>3.182229</td>\n",
       "      <td>0.336742</td>\n",
       "      <td>0.044853</td>\n",
       "      <td>0.379144</td>\n",
       "      <td>deviance</td>\n",
       "      <td>3</td>\n",
       "      <td>sqrt</td>\n",
       "      <td>0.00663064</td>\n",
       "      <td>272</td>\n",
       "      <td>{'learning_rate': 0.37914354750246104, 'loss':...</td>\n",
       "      <td>0.655172</td>\n",
       "      <td>0.625437</td>\n",
       "      <td>0.641824</td>\n",
       "      <td>0.640811</td>\n",
       "      <td>0.012160</td>\n",
       "      <td>3</td>\n",
       "    </tr>\n",
       "    <tr>\n",
       "      <th>388</th>\n",
       "      <td>261.683304</td>\n",
       "      <td>3.719908</td>\n",
       "      <td>0.269729</td>\n",
       "      <td>0.038827</td>\n",
       "      <td>0.234058</td>\n",
       "      <td>deviance</td>\n",
       "      <td>3</td>\n",
       "      <td>sqrt</td>\n",
       "      <td>0.00123228</td>\n",
       "      <td>281</td>\n",
       "      <td>{'learning_rate': 0.2340576077784236, 'loss': ...</td>\n",
       "      <td>0.644678</td>\n",
       "      <td>0.622054</td>\n",
       "      <td>0.644952</td>\n",
       "      <td>0.637228</td>\n",
       "      <td>0.010730</td>\n",
       "      <td>4</td>\n",
       "    </tr>\n",
       "    <tr>\n",
       "      <th>91</th>\n",
       "      <td>173.451642</td>\n",
       "      <td>3.498112</td>\n",
       "      <td>0.262726</td>\n",
       "      <td>0.046961</td>\n",
       "      <td>0.760724</td>\n",
       "      <td>deviance</td>\n",
       "      <td>3</td>\n",
       "      <td>sqrt</td>\n",
       "      <td>0.00676725</td>\n",
       "      <td>204</td>\n",
       "      <td>{'learning_rate': 0.7607239710034676, 'loss': ...</td>\n",
       "      <td>0.614785</td>\n",
       "      <td>0.627527</td>\n",
       "      <td>0.669175</td>\n",
       "      <td>0.637162</td>\n",
       "      <td>0.023226</td>\n",
       "      <td>5</td>\n",
       "    </tr>\n",
       "  </tbody>\n",
       "</table>\n",
       "</div>"
      ],
      "text/plain": [
       "     mean_fit_time  std_fit_time  mean_score_time  std_score_time  \\\n",
       "325     416.091812     20.759148         0.609805        0.056193   \n",
       "353     396.128441     11.764218         0.638813        0.058813   \n",
       "123     240.754756      3.182229         0.336742        0.044853   \n",
       "388     261.683304      3.719908         0.269729        0.038827   \n",
       "91      173.451642      3.498112         0.262726        0.046961   \n",
       "\n",
       "    param_learning_rate   param_loss param_max_depth param_max_features  \\\n",
       "325            0.295091  exponential               6               sqrt   \n",
       "353             1.22063  exponential               5               sqrt   \n",
       "123            0.379144     deviance               3               sqrt   \n",
       "388            0.234058     deviance               3               sqrt   \n",
       "91             0.760724     deviance               3               sqrt   \n",
       "\n",
       "    param_min_weight_fraction_leaf param_n_estimators  \\\n",
       "325                     0.00017924                315   \n",
       "353                      0.0040632                383   \n",
       "123                     0.00663064                272   \n",
       "388                     0.00123228                281   \n",
       "91                      0.00676725                204   \n",
       "\n",
       "                                                params  split0_test_score  \\\n",
       "325  {'learning_rate': 0.295091100156139, 'loss': '...           0.662227   \n",
       "353  {'learning_rate': 1.2206327782300102, 'loss': ...           0.660280   \n",
       "123  {'learning_rate': 0.37914354750246104, 'loss':...           0.655172   \n",
       "388  {'learning_rate': 0.2340576077784236, 'loss': ...           0.644678   \n",
       "91   {'learning_rate': 0.7607239710034676, 'loss': ...           0.614785   \n",
       "\n",
       "     split1_test_score  split2_test_score  mean_test_score  std_test_score  \\\n",
       "325           0.613964           0.665739         0.647310        0.023623   \n",
       "353           0.614205           0.659808         0.644764        0.021610   \n",
       "123           0.625437           0.641824         0.640811        0.012160   \n",
       "388           0.622054           0.644952         0.637228        0.010730   \n",
       "91            0.627527           0.669175         0.637162        0.023226   \n",
       "\n",
       "     rank_test_score  \n",
       "325                1  \n",
       "353                2  \n",
       "123                3  \n",
       "388                4  \n",
       "91                 5  "
      ]
     },
     "execution_count": 120,
     "metadata": {},
     "output_type": "execute_result"
    }
   ],
   "source": [
    "results = pd.DataFrame.from_dict(cv['tfidf'].cv_results_)\n",
    "results.sort_values(by='rank_test_score', ascending=True).head()"
   ]
  },
  {
   "cell_type": "code",
   "execution_count": 121,
   "metadata": {},
   "outputs": [
    {
     "data": {
      "text/plain": [
       "(400, 17)"
      ]
     },
     "execution_count": 121,
     "metadata": {},
     "output_type": "execute_result"
    }
   ],
   "source": [
    "results.shape"
   ]
  },
  {
   "cell_type": "code",
   "execution_count": 122,
   "metadata": {},
   "outputs": [
    {
     "data": {
      "text/plain": [
       "<matplotlib.axes._subplots.AxesSubplot at 0x156d581a4e0>"
      ]
     },
     "execution_count": 122,
     "metadata": {},
     "output_type": "execute_result"
    },
    {
     "data": {
      "image/png": "[encoded data removed]",
      "text/plain": [
       "<Figure size 432x288 with 1 Axes>"
      ]
     },
     "metadata": {},
     "output_type": "display_data"
    }
   ],
   "source": [
    "import seaborn as sns\n",
    "import matplotlib.pyplot as plt\n",
    "%matplotlib inline\n",
    "\n",
    "sns.scatterplot(x='param_min_weight_fraction_leaf',\n",
    "                y='mean_test_score',\n",
    "                data=results.fillna('non'),\n",
    "                hue='param_loss',\n",
    "                )\n",
    "#plt.legend(loc='best')"
   ]
  },
  {
   "cell_type": "code",
   "execution_count": null,
   "metadata": {},
   "outputs": [],
   "source": []
  }
 ],
 "metadata": {
  "kernelspec": {
   "display_name": "Python 3",
   "language": "python",
   "name": "python3"
  },
  "language_info": {
   "codemirror_mode": {
    "name": "ipython",
    "version": 3
   },
   "file_extension": ".py",
   "mimetype": "text/x-python",
   "name": "python",
   "nbconvert_exporter": "python",
   "pygments_lexer": "ipython3",
   "version": "3.7.0"
  }
 },
 "nbformat": 4,
 "nbformat_minor": 2
}
