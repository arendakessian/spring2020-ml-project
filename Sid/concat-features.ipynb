{
 "cells": [
  {
   "cell_type": "code",
   "execution_count": 6,
   "metadata": {},
   "outputs": [],
   "source": [
    "import pickle\n",
    "from scipy import sparse"
   ]
  },
  {
   "cell_type": "code",
   "execution_count": 10,
   "metadata": {},
   "outputs": [],
   "source": [
    "vectorizers = ['count', 'tfidf', 'hashing', 'binary', 'hashing_binary']\n",
    "\n",
    "with open('../data/downsampled_idx_train.pckl', 'rb') as f:\n",
    "    indices = pickle.load(f)\n",
    "\n",
    "for vectorizer in vectorizers:\n",
    "    for dataset in ['train', 'dev']:\n",
    "        with open(f'../data/{dataset}_{vectorizer}_vectorized.pckl', 'rb') as f:\n",
    "            vectorized_data = pickle.load(f)\n",
    "        \n",
    "        with open(f'../data/{dataset}_num_caps.pckl', 'rb') as f:\n",
    "            caps = pickle.load(f)\n",
    "        \n",
    "        with open(f'../data/{dataset}_num_exclam.pckl', 'rb') as f:\n",
    "            exclam = pickle.load(f)\n",
    "            \n",
    "        with open(f'../data/{dataset}_reviewsToDate.pckl', 'rb') as f:\n",
    "            rev_counts = pickle.load(f)\n",
    "            \n",
    "        with open(f'../data/{dataset}_ratings.pckl', 'rb') as f:\n",
    "            ratings = pickle.load(f)\n",
    "        \n",
    "        caps = caps.values.reshape(-1, 1)\n",
    "        exclam = exclam.values.reshape(-1, 1)\n",
    "        rev_counts = rev_counts.values.reshape(-1, 1)\n",
    "        ratings = ratings.values.reshape(-1, 1)\n",
    "        \n",
    "        # more features\n",
    "        \n",
    "        full_data = sparse.hstack((vectorized_data,\n",
    "                                   sparse.csr_matrix(caps),\n",
    "                                   sparse.csr_matrix(exclam),\n",
    "                                   sparse.csr_matrix(rev_counts),\n",
    "                                   sparse.csr_matrix(ratings),\n",
    "                                   # more features\n",
    "                                   ))\n",
    "\n",
    "        # for some reason, this isn't an actual CSR matrix...\n",
    "        full_data = full_data.tocsr()\n",
    "        \n",
    "        if dataset == 'train':\n",
    "            # downsample using the indices from `downsample.ipynb`\n",
    "            full_data = full_data[indices]\n",
    "\n",
    "        with open(f'../data/{dataset}_{vectorizer}_downsampled_data.pckl', 'wb') as f:\n",
    "            pickle.dump(full_data, f)"
   ]
  }
 ],
 "metadata": {
  "kernelspec": {
   "display_name": "Python 3",
   "language": "python",
   "name": "python3"
  },
  "language_info": {
   "codemirror_mode": {
    "name": "ipython",
    "version": 3
   },
   "file_extension": ".py",
   "mimetype": "text/x-python",
   "name": "python",
   "nbconvert_exporter": "python",
   "pygments_lexer": "ipython3",
   "version": "3.7.0"
  }
 },
 "nbformat": 4,
 "nbformat_minor": 2
}
