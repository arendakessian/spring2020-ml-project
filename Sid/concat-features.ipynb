{
 "cells": [
  {
   "cell_type": "code",
   "execution_count": 2,
   "metadata": {},
   "outputs": [
    {
     "data": {
      "text/plain": [
       "['should_be_empty.txt',\n",
       " 'train_num_caps.pckl',\n",
       " 'train_num_exclam.pckl',\n",
       " 'dev_num_caps.pckl',\n",
       " 'dev_num_exclam.pckl']"
      ]
     },
     "execution_count": 2,
     "metadata": {},
     "output_type": "execute_result"
    }
   ],
   "source": [
    "import os\n",
    "import pickle\n",
    "from scipy import sparse\n",
    "os.listdir('../data')"
   ]
  },
  {
   "cell_type": "code",
   "execution_count": null,
   "metadata": {},
   "outputs": [],
   "source": [
    "vectorizers = ['count', 'tfidf', 'hashing', 'binary', 'hashing_binary']\n",
    "\n",
    "for vectorizer in vectorizers:\n",
    "    for dataset in ['train', 'dev']:\n",
    "        with open(f'../data/{dataset}_{vectorizer}_vectorized.pckl', 'rb') as f:\n",
    "            vectorized_data = pickle.load(f)\n",
    "        \n",
    "        with open(f'../data/{dataset}_num_caps.pckl', 'rb') as f:\n",
    "            caps = pickle.load(f)\n",
    "        \n",
    "        with open(f'../data/{dataset}_num_exclam.pckl', 'rb') as f:\n",
    "            exclam = pickle.load(f)\n",
    "            \n",
    "        # more features\n",
    "        \n",
    "        caps = caps.values.reshape(-1, 1)\n",
    "        exclam = exclam.values.reshape(-1, 1)\n",
    "        \n",
    "        full_data = sparse.hstack((vectorized_data,\n",
    "                                   sparse.csr_matrix(caps),\n",
    "                                   sparse.csr_matrix(exclam),\n",
    "                                   # more features\n",
    "                                   ))\n",
    "        \n",
    "        with open(f'../data/{dataset}_{vectorizer}_full_data.pckl', 'wb') as f:\n",
    "            pickle.dump(full_data, f)"
   ]
  }
 ],
 "metadata": {
  "kernelspec": {
   "display_name": "Python 3",
   "language": "python",
   "name": "python3"
  },
  "language_info": {
   "codemirror_mode": {
    "name": "ipython",
    "version": 3
   },
   "file_extension": ".py",
   "mimetype": "text/x-python",
   "name": "python",
   "nbconvert_exporter": "python",
   "pygments_lexer": "ipython3",
   "version": "3.6.9"
  }
 },
 "nbformat": 4,
 "nbformat_minor": 2
}
