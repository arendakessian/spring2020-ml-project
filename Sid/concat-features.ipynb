{
 "cells": [
  {
   "cell_type": "code",
   "execution_count": 6,
   "metadata": {},
   "outputs": [],
   "source": [
    "import pickle\n",
    "from scipy import sparse"
   ]
  },
  {
   "cell_type": "code",
   "execution_count": null,
   "metadata": {},
   "outputs": [],
   "source": [
    "with open('../data/downsampled_idx_train.pckl', 'rb') as f:\n",
    "    indices = pickle.load(f)"
   ]
  },
  {
   "cell_type": "code",
   "execution_count": 11,
   "metadata": {},
   "outputs": [
    {
     "ename": "IndexError",
     "evalue": "index 51638 is out of bounds for axis 0 with size 51638",
     "output_type": "error",
     "traceback": [
      "\u001b[1;31m---------------------------------------------------------------------------\u001b[0m",
      "\u001b[1;31mIndexError\u001b[0m                                Traceback (most recent call last)",
      "\u001b[1;32m<ipython-input-11-6aafe964bdfe>\u001b[0m in \u001b[0;36m<module>\u001b[1;34m()\u001b[0m\n\u001b[0;32m     26\u001b[0m             \u001b[1;31m# downsample using the indices from `downsample.ipynb`\u001b[0m\u001b[1;33m\u001b[0m\u001b[1;33m\u001b[0m\u001b[0m\n\u001b[0;32m     27\u001b[0m             \u001b[0mcaps\u001b[0m \u001b[1;33m=\u001b[0m \u001b[0mcaps\u001b[0m\u001b[1;33m[\u001b[0m\u001b[0mindices\u001b[0m\u001b[1;33m]\u001b[0m\u001b[1;33m\u001b[0m\u001b[0m\n\u001b[1;32m---> 28\u001b[1;33m             \u001b[0mcaps\u001b[0m \u001b[1;33m=\u001b[0m \u001b[0mcaps\u001b[0m\u001b[1;33m[\u001b[0m\u001b[0mindices\u001b[0m\u001b[1;33m]\u001b[0m\u001b[1;33m\u001b[0m\u001b[0m\n\u001b[0m\u001b[0;32m     29\u001b[0m             \u001b[0mcaps\u001b[0m \u001b[1;33m=\u001b[0m \u001b[0mcaps\u001b[0m\u001b[1;33m[\u001b[0m\u001b[0mindices\u001b[0m\u001b[1;33m]\u001b[0m\u001b[1;33m\u001b[0m\u001b[0m\n\u001b[0;32m     30\u001b[0m \u001b[1;33m\u001b[0m\u001b[0m\n",
      "\u001b[1;31mIndexError\u001b[0m: index 51638 is out of bounds for axis 0 with size 51638"
     ]
    }
   ],
   "source": [
    "vectorizers = ['count', 'tfidf', 'hashing', 'binary', 'hashing_binary']\n",
    "\n",
    "for vectorizer in vectorizers:\n",
    "    for dataset in ['train', 'dev']:\n",
    "        with open(f'../data/{dataset}_{vectorizer}_vectorized.pckl', 'rb') as f:\n",
    "            vectorized_data = pickle.load(f)\n",
    "        \n",
    "        with open(f'../data/{dataset}_num_caps.pckl', 'rb') as f:\n",
    "            caps = pickle.load(f)\n",
    "        \n",
    "        with open(f'../data/{dataset}_num_exclam.pckl', 'rb') as f:\n",
    "            exclam = pickle.load(f)\n",
    "            \n",
    "        with open(f'../data/{dataset}_reviewsToDate.pckl', 'rb') as f:\n",
    "            rev_counts = pickle.load(f)\n",
    "            \n",
    "        with open(f'../data/{dataset}_ratings.pckl', 'rb') as f:\n",
    "            ratings = pickle.load(f)\n",
    "        \n",
    "        caps = caps.values.reshape(-1, 1)\n",
    "        exclam = exclam.values.reshape(-1, 1)\n",
    "        rev_counts = rev_counts.values.reshape(-1, 1)\n",
    "        ratings = ratings.values.reshape(-1, 1)\n",
    "        \n",
    "        if dataset == 'train':\n",
    "            # downsample using the indices from `downsample.ipynb`\n",
    "            caps = caps[indices]\n",
    "            exclam = exclam[indices]\n",
    "            rev_counts = rev_counts[indices]\n",
    "            ratings = ratings[indices]\n",
    "        \n",
    "        # more features\n",
    "        \n",
    "        full_data = sparse.hstack((vectorized_data,\n",
    "                                   sparse.csr_matrix(caps),\n",
    "                                   sparse.csr_matrix(exclam),\n",
    "                                   sparse.csr_matrix(rev_counts),\n",
    "                                   sparse.csr_matrix(ratings),\n",
    "                                   # more features\n",
    "                                   ))\n",
    "\n",
    "        # for some reason, this isn't an actual CSR matrix...\n",
    "        full_data = full_data.tocsr()\n",
    "\n",
    "        with open(f'../data/{dataset}_{vectorizer}_downsampled_data.pckl', 'wb') as f:\n",
    "            pickle.dump(full_data, f)"
   ]
  }
 ],
 "metadata": {
  "kernelspec": {
   "display_name": "Python 3",
   "language": "python",
   "name": "python3"
  },
  "language_info": {
   "codemirror_mode": {
    "name": "ipython",
    "version": 3
   },
   "file_extension": ".py",
   "mimetype": "text/x-python",
   "name": "python",
   "nbconvert_exporter": "python",
   "pygments_lexer": "ipython3",
   "version": "3.7.0"
  }
 },
 "nbformat": 4,
 "nbformat_minor": 2
}
