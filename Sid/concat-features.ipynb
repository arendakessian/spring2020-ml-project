{
 "cells": [
  {
   "cell_type": "code",
   "execution_count": 1,
   "metadata": {},
   "outputs": [
    {
     "data": {
      "text/plain": [
       "['dev.csv',\n",
       " 'dev_binary_full_data.pckl',\n",
       " 'dev_binary_vectorized.pckl',\n",
       " 'dev_count_full_data.pckl',\n",
       " 'dev_count_vectorized.pckl',\n",
       " 'dev_hashing_binary_full_data.pckl',\n",
       " 'dev_hashing_binary_vectorized.pckl',\n",
       " 'dev_hashing_full_data.pckl',\n",
       " 'dev_hashing_vectorized.pckl',\n",
       " 'dev_labels.pckl',\n",
       " 'dev_num_caps.pckl',\n",
       " 'dev_num_exclam.pckl',\n",
       " 'dev_ratings.pckl',\n",
       " 'dev_reviewsToDate.pckl',\n",
       " 'dev_tfidf_full_data.pckl',\n",
       " 'dev_tfidf_vectorized.pckl',\n",
       " 'should_be_empty.txt',\n",
       " 'train.csv',\n",
       " 'train_binary_full_data.pckl',\n",
       " 'train_binary_vectorized.pckl',\n",
       " 'train_count_full_data.pckl',\n",
       " 'train_count_vectorized.pckl',\n",
       " 'train_hashing_binary_full_data.pckl',\n",
       " 'train_hashing_binary_vectorized.pckl',\n",
       " 'train_hashing_full_data.pckl',\n",
       " 'train_hashing_vectorized.pckl',\n",
       " 'train_labels.pckl',\n",
       " 'train_num_caps.pckl',\n",
       " 'train_num_exclam.pckl',\n",
       " 'train_ratings.pckl',\n",
       " 'train_reviewsToDate.pckl',\n",
       " 'train_tfidf_full_data.pckl',\n",
       " 'train_tfidf_vectorized.pckl']"
      ]
     },
     "execution_count": 1,
     "metadata": {},
     "output_type": "execute_result"
    }
   ],
   "source": [
    "import os\n",
    "import pickle\n",
    "from scipy import sparse\n",
    "os.listdir('../data')"
   ]
  },
  {
   "cell_type": "code",
   "execution_count": 2,
   "metadata": {},
   "outputs": [],
   "source": [
    "vectorizers = ['count', 'tfidf', 'hashing', 'binary', 'hashing_binary']\n",
    "\n",
    "for vectorizer in vectorizers:\n",
    "    for dataset in ['train', 'dev']:\n",
    "        with open(f'../data/{dataset}_{vectorizer}_vectorized.pckl', 'rb') as f:\n",
    "            vectorized_data = pickle.load(f)\n",
    "        \n",
    "        with open(f'../data/{dataset}_num_caps.pckl', 'rb') as f:\n",
    "            caps = pickle.load(f)\n",
    "        \n",
    "        with open(f'../data/{dataset}_num_exclam.pckl', 'rb') as f:\n",
    "            exclam = pickle.load(f)\n",
    "            \n",
    "        with open(f'../data/{dataset}_reviewsToDate.pckl', 'rb') as f:\n",
    "            rev_counts = pickle.load(f)\n",
    "            \n",
    "        with open(f'../data/{dataset}_ratings.pckl', 'rb') as f:\n",
    "            ratings = pickle.load(f)\n",
    "        \n",
    "        caps = caps.values.reshape(-1, 1)\n",
    "        exclam = exclam.values.reshape(-1, 1)\n",
    "        rev_counts = rev_counts.values.reshape(-1, 1)\n",
    "        ratings = ratings.values.reshape(-1, 1)\n",
    "        \n",
    "        # more features\n",
    "        \n",
    "        full_data = sparse.hstack((vectorized_data,\n",
    "                                   sparse.csr_matrix(caps),\n",
    "                                   sparse.csr_matrix(exclam),\n",
    "                                   sparse.csr_matrix(rev_counts),\n",
    "                                   sparse.csr_matrix(ratings),\n",
    "                                   # more features\n",
    "                                   ))\n",
    "        \n",
    "        with open(f'../data/{dataset}_{vectorizer}_full_data.pckl', 'wb') as f:\n",
    "            pickle.dump(full_data, f)"
   ]
  },
  {
   "cell_type": "code",
   "execution_count": null,
   "metadata": {},
   "outputs": [],
   "source": []
  }
 ],
 "metadata": {
  "kernelspec": {
   "display_name": "Python 3",
   "language": "python",
   "name": "python3"
  },
  "language_info": {
   "codemirror_mode": {
    "name": "ipython",
    "version": 3
   },
   "file_extension": ".py",
   "mimetype": "text/x-python",
   "name": "python",
   "nbconvert_exporter": "python",
   "pygments_lexer": "ipython3",
   "version": "3.7.0"
  }
 },
 "nbformat": 4,
 "nbformat_minor": 2
}
