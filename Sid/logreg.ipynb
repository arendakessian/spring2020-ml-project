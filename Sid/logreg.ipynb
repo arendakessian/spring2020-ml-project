{
 "cells": [
  {
   "cell_type": "code",
   "execution_count": 1,
   "metadata": {},
   "outputs": [],
   "source": [
    "import pickle\n",
    "import pandas as pd"
   ]
  },
  {
   "cell_type": "code",
   "execution_count": 2,
   "metadata": {},
   "outputs": [],
   "source": [
    "from sklearn.linear_model import LogisticRegression\n",
    "from sklearn.model_selection import RandomizedSearchCV\n",
    "from scipy.stats import loguniform as sp_loguniform\n",
    "from sklearn.metrics import roc_auc_score, average_precision_score"
   ]
  },
  {
   "cell_type": "code",
   "execution_count": 10,
   "metadata": {
    "scrolled": false
   },
   "outputs": [
    {
     "name": "stdout",
     "output_type": "stream",
     "text": [
      "Fitting 3 folds for each of 20 candidates, totalling 60 fits\n"
     ]
    },
    {
     "name": "stderr",
     "output_type": "stream",
     "text": [
      "[Parallel(n_jobs=6)]: Using backend LokyBackend with 6 concurrent workers.\n",
      "[Parallel(n_jobs=6)]: Done  26 tasks      | elapsed:  7.1min\n",
      "[Parallel(n_jobs=6)]: Done  60 out of  60 | elapsed: 15.1min finished\n"
     ]
    },
    {
     "name": "stdout",
     "output_type": "stream",
     "text": [
      "Vectorizer: count\n",
      "ROC: 0.6793121632715193\n",
      "AP: 0.1542325970164089\n",
      "Fitting 3 folds for each of 20 candidates, totalling 60 fits\n"
     ]
    },
    {
     "name": "stderr",
     "output_type": "stream",
     "text": [
      "[Parallel(n_jobs=6)]: Using backend LokyBackend with 6 concurrent workers.\n",
      "[Parallel(n_jobs=6)]: Done  26 tasks      | elapsed:  5.5min\n",
      "[Parallel(n_jobs=6)]: Done  60 out of  60 | elapsed: 12.0min finished\n",
      "c:\\python37\\lib\\site-packages\\sklearn\\linear_model\\_logistic.py:940: ConvergenceWarning: lbfgs failed to converge (status=1):\n",
      "STOP: TOTAL NO. of ITERATIONS REACHED LIMIT.\n",
      "\n",
      "Increase the number of iterations (max_iter) or scale the data as shown in:\n",
      "    https://scikit-learn.org/stable/modules/preprocessing.html\n",
      "Please also refer to the documentation for alternative solver options:\n",
      "    https://scikit-learn.org/stable/modules/linear_model.html#logistic-regression\n",
      "  extra_warning_msg=_LOGISTIC_SOLVER_CONVERGENCE_MSG)\n"
     ]
    },
    {
     "name": "stdout",
     "output_type": "stream",
     "text": [
      "Vectorizer: tfidf\n",
      "ROC: 0.6927242268496622\n",
      "AP: 0.16676491464105941\n",
      "Fitting 3 folds for each of 20 candidates, totalling 60 fits\n"
     ]
    },
    {
     "name": "stderr",
     "output_type": "stream",
     "text": [
      "[Parallel(n_jobs=6)]: Using backend LokyBackend with 6 concurrent workers.\n",
      "[Parallel(n_jobs=6)]: Done  26 tasks      | elapsed:   43.4s\n",
      "[Parallel(n_jobs=6)]: Done  60 out of  60 | elapsed:  4.8min finished\n"
     ]
    },
    {
     "name": "stdout",
     "output_type": "stream",
     "text": [
      "Vectorizer: hashing\n",
      "ROC: 0.667750458372069\n",
      "AP: 0.1475686148987282\n",
      "Fitting 3 folds for each of 20 candidates, totalling 60 fits\n"
     ]
    },
    {
     "name": "stderr",
     "output_type": "stream",
     "text": [
      "[Parallel(n_jobs=6)]: Using backend LokyBackend with 6 concurrent workers.\n",
      "[Parallel(n_jobs=6)]: Done  26 tasks      | elapsed:  7.2min\n",
      "[Parallel(n_jobs=6)]: Done  60 out of  60 | elapsed: 15.1min finished\n"
     ]
    },
    {
     "name": "stdout",
     "output_type": "stream",
     "text": [
      "Vectorizer: binary\n",
      "ROC: 0.6792179829318415\n",
      "AP: 0.1541160861591423\n",
      "Fitting 3 folds for each of 20 candidates, totalling 60 fits\n"
     ]
    },
    {
     "name": "stderr",
     "output_type": "stream",
     "text": [
      "[Parallel(n_jobs=6)]: Using backend LokyBackend with 6 concurrent workers.\n",
      "[Parallel(n_jobs=6)]: Done  26 tasks      | elapsed:  1.2min\n",
      "[Parallel(n_jobs=6)]: Done  60 out of  60 | elapsed:  4.6min finished\n"
     ]
    },
    {
     "name": "stdout",
     "output_type": "stream",
     "text": [
      "Vectorizer: hashing_binary\n",
      "ROC: 0.6644179337307476\n",
      "AP: 0.14607753082311264\n"
     ]
    }
   ],
   "source": [
    "vectorizers = ['count', 'tfidf', 'hashing', 'binary', 'hashing_binary']\n",
    "\n",
    "with open('../data/train_labels.pckl', 'rb') as f:\n",
    "    train_labels = pickle.load(f)\n",
    "with open('../data/dev_labels.pckl', 'rb') as f:\n",
    "    dev_labels = pickle.load(f)\n",
    "\n",
    "cv = {}\n",
    "    \n",
    "for vectorizer in vectorizers:\n",
    "    with open(f'../data/train_{vectorizer}_downsampled_data.pckl', 'rb') as f:\n",
    "        train = pickle.load(f)\n",
    "    with open(f'../data/dev_{vectorizer}_downsampled_data.pckl', 'rb') as f:\n",
    "        dev = pickle.load(f)\n",
    "    \n",
    "    lr = LogisticRegression(random_state=0)\n",
    "    \n",
    "    params = {'C': sp_loguniform(1e-10, 1e4),\n",
    "              }\n",
    "    \n",
    "    cv[vectorizer] = RandomizedSearchCV(lr,\n",
    "                                        params,\n",
    "                                        n_iter=20,\n",
    "                                        n_jobs=6,\n",
    "                                        cv=3,\n",
    "                                        random_state=0,\n",
    "                                        verbose=3,\n",
    "                                        scoring='roc_auc',\n",
    "                                        return_train_score=True,\n",
    "                                        pre_dispatch='n_jobs',\n",
    "                                        )\n",
    "    cv[vectorizer].fit(train, train_labels)\n",
    "    predicted = cv[vectorizer].predict(dev)\n",
    "    \n",
    "    print(f'Vectorizer: {vectorizer}')\n",
    "    print(f'ROC: {roc_auc_score(dev_labels, predicted)}')\n",
    "    print(f'AP: {average_precision_score(dev_labels, predicted)}')"
   ]
  },
  {
   "cell_type": "code",
   "execution_count": 11,
   "metadata": {},
   "outputs": [
    {
     "data": {
      "text/html": [
       "<div>\n",
       "<style scoped>\n",
       "    .dataframe tbody tr th:only-of-type {\n",
       "        vertical-align: middle;\n",
       "    }\n",
       "\n",
       "    .dataframe tbody tr th {\n",
       "        vertical-align: top;\n",
       "    }\n",
       "\n",
       "    .dataframe thead th {\n",
       "        text-align: right;\n",
       "    }\n",
       "</style>\n",
       "<table border=\"1\" class=\"dataframe\">\n",
       "  <thead>\n",
       "    <tr style=\"text-align: right;\">\n",
       "      <th></th>\n",
       "      <th>mean_fit_time</th>\n",
       "      <th>std_fit_time</th>\n",
       "      <th>mean_score_time</th>\n",
       "      <th>std_score_time</th>\n",
       "      <th>param_C</th>\n",
       "      <th>params</th>\n",
       "      <th>split0_test_score</th>\n",
       "      <th>split1_test_score</th>\n",
       "      <th>split2_test_score</th>\n",
       "      <th>mean_test_score</th>\n",
       "      <th>std_test_score</th>\n",
       "      <th>rank_test_score</th>\n",
       "      <th>split0_train_score</th>\n",
       "      <th>split1_train_score</th>\n",
       "      <th>split2_train_score</th>\n",
       "      <th>mean_train_score</th>\n",
       "      <th>std_train_score</th>\n",
       "    </tr>\n",
       "  </thead>\n",
       "  <tbody>\n",
       "    <tr>\n",
       "      <th>0</th>\n",
       "      <td>98.848432</td>\n",
       "      <td>5.253069</td>\n",
       "      <td>0.077023</td>\n",
       "      <td>0.004961</td>\n",
       "      <td>0.0048238</td>\n",
       "      <td>{'C': 0.004823797354254945}</td>\n",
       "      <td>0.731751</td>\n",
       "      <td>0.715614</td>\n",
       "      <td>0.731568</td>\n",
       "      <td>0.726311</td>\n",
       "      <td>0.007564</td>\n",
       "      <td>9</td>\n",
       "      <td>0.866374</td>\n",
       "      <td>0.868059</td>\n",
       "      <td>0.865609</td>\n",
       "      <td>0.866680</td>\n",
       "      <td>0.001024</td>\n",
       "    </tr>\n",
       "    <tr>\n",
       "      <th>1</th>\n",
       "      <td>129.267354</td>\n",
       "      <td>1.017002</td>\n",
       "      <td>0.065011</td>\n",
       "      <td>0.004965</td>\n",
       "      <td>1.02956</td>\n",
       "      <td>{'C': 1.0295587388218506}</td>\n",
       "      <td>0.672920</td>\n",
       "      <td>0.656138</td>\n",
       "      <td>0.675052</td>\n",
       "      <td>0.668037</td>\n",
       "      <td>0.008459</td>\n",
       "      <td>13</td>\n",
       "      <td>0.999599</td>\n",
       "      <td>0.999689</td>\n",
       "      <td>0.999664</td>\n",
       "      <td>0.999651</td>\n",
       "      <td>0.000038</td>\n",
       "    </tr>\n",
       "    <tr>\n",
       "      <th>2</th>\n",
       "      <td>129.225668</td>\n",
       "      <td>1.417217</td>\n",
       "      <td>0.074017</td>\n",
       "      <td>0.027802</td>\n",
       "      <td>0.0274592</td>\n",
       "      <td>{'C': 0.027459161097086515}</td>\n",
       "      <td>0.712219</td>\n",
       "      <td>0.695572</td>\n",
       "      <td>0.710726</td>\n",
       "      <td>0.706172</td>\n",
       "      <td>0.007520</td>\n",
       "      <td>11</td>\n",
       "      <td>0.973425</td>\n",
       "      <td>0.974094</td>\n",
       "      <td>0.972883</td>\n",
       "      <td>0.973467</td>\n",
       "      <td>0.000495</td>\n",
       "    </tr>\n",
       "    <tr>\n",
       "      <th>3</th>\n",
       "      <td>96.196164</td>\n",
       "      <td>2.855103</td>\n",
       "      <td>0.057353</td>\n",
       "      <td>0.007043</td>\n",
       "      <td>0.00424976</td>\n",
       "      <td>{'C': 0.004249761540849927}</td>\n",
       "      <td>0.732823</td>\n",
       "      <td>0.716928</td>\n",
       "      <td>0.732764</td>\n",
       "      <td>0.727505</td>\n",
       "      <td>0.007479</td>\n",
       "      <td>8</td>\n",
       "      <td>0.858534</td>\n",
       "      <td>0.860242</td>\n",
       "      <td>0.857652</td>\n",
       "      <td>0.858809</td>\n",
       "      <td>0.001075</td>\n",
       "    </tr>\n",
       "    <tr>\n",
       "      <th>4</th>\n",
       "      <td>23.963786</td>\n",
       "      <td>0.671882</td>\n",
       "      <td>0.078020</td>\n",
       "      <td>0.005353</td>\n",
       "      <td>8.53429e-05</td>\n",
       "      <td>{'C': 8.534285959741679e-05}</td>\n",
       "      <td>0.735271</td>\n",
       "      <td>0.739463</td>\n",
       "      <td>0.743266</td>\n",
       "      <td>0.739333</td>\n",
       "      <td>0.003265</td>\n",
       "      <td>2</td>\n",
       "      <td>0.754780</td>\n",
       "      <td>0.757500</td>\n",
       "      <td>0.752326</td>\n",
       "      <td>0.754869</td>\n",
       "      <td>0.002113</td>\n",
       "    </tr>\n",
       "  </tbody>\n",
       "</table>\n",
       "</div>"
      ],
      "text/plain": [
       "   mean_fit_time  std_fit_time  mean_score_time  std_score_time      param_C  \\\n",
       "0      98.848432      5.253069         0.077023        0.004961    0.0048238   \n",
       "1     129.267354      1.017002         0.065011        0.004965      1.02956   \n",
       "2     129.225668      1.417217         0.074017        0.027802    0.0274592   \n",
       "3      96.196164      2.855103         0.057353        0.007043   0.00424976   \n",
       "4      23.963786      0.671882         0.078020        0.005353  8.53429e-05   \n",
       "\n",
       "                         params  split0_test_score  split1_test_score  \\\n",
       "0   {'C': 0.004823797354254945}           0.731751           0.715614   \n",
       "1     {'C': 1.0295587388218506}           0.672920           0.656138   \n",
       "2   {'C': 0.027459161097086515}           0.712219           0.695572   \n",
       "3   {'C': 0.004249761540849927}           0.732823           0.716928   \n",
       "4  {'C': 8.534285959741679e-05}           0.735271           0.739463   \n",
       "\n",
       "   split2_test_score  mean_test_score  std_test_score  rank_test_score  \\\n",
       "0           0.731568         0.726311        0.007564                9   \n",
       "1           0.675052         0.668037        0.008459               13   \n",
       "2           0.710726         0.706172        0.007520               11   \n",
       "3           0.732764         0.727505        0.007479                8   \n",
       "4           0.743266         0.739333        0.003265                2   \n",
       "\n",
       "   split0_train_score  split1_train_score  split2_train_score  \\\n",
       "0            0.866374            0.868059            0.865609   \n",
       "1            0.999599            0.999689            0.999664   \n",
       "2            0.973425            0.974094            0.972883   \n",
       "3            0.858534            0.860242            0.857652   \n",
       "4            0.754780            0.757500            0.752326   \n",
       "\n",
       "   mean_train_score  std_train_score  \n",
       "0          0.866680         0.001024  \n",
       "1          0.999651         0.000038  \n",
       "2          0.973467         0.000495  \n",
       "3          0.858809         0.001075  \n",
       "4          0.754869         0.002113  "
      ]
     },
     "execution_count": 11,
     "metadata": {},
     "output_type": "execute_result"
    }
   ],
   "source": [
    "results = pd.DataFrame.from_dict(cv['count'].cv_results_)\n",
    "results.head()"
   ]
  },
  {
   "cell_type": "code",
   "execution_count": 13,
   "metadata": {},
   "outputs": [
    {
     "data": {
      "text/html": [
       "<div>\n",
       "<style scoped>\n",
       "    .dataframe tbody tr th:only-of-type {\n",
       "        vertical-align: middle;\n",
       "    }\n",
       "\n",
       "    .dataframe tbody tr th {\n",
       "        vertical-align: top;\n",
       "    }\n",
       "\n",
       "    .dataframe thead th {\n",
       "        text-align: right;\n",
       "    }\n",
       "</style>\n",
       "<table border=\"1\" class=\"dataframe\">\n",
       "  <thead>\n",
       "    <tr style=\"text-align: right;\">\n",
       "      <th></th>\n",
       "      <th>mean_fit_time</th>\n",
       "      <th>std_fit_time</th>\n",
       "      <th>mean_score_time</th>\n",
       "      <th>std_score_time</th>\n",
       "      <th>param_C</th>\n",
       "      <th>params</th>\n",
       "      <th>split0_test_score</th>\n",
       "      <th>split1_test_score</th>\n",
       "      <th>split2_test_score</th>\n",
       "      <th>mean_test_score</th>\n",
       "      <th>std_test_score</th>\n",
       "      <th>rank_test_score</th>\n",
       "      <th>split0_train_score</th>\n",
       "      <th>split1_train_score</th>\n",
       "      <th>split2_train_score</th>\n",
       "      <th>mean_train_score</th>\n",
       "      <th>std_train_score</th>\n",
       "    </tr>\n",
       "  </thead>\n",
       "  <tbody>\n",
       "    <tr>\n",
       "      <th>16</th>\n",
       "      <td>4.420669</td>\n",
       "      <td>0.107287</td>\n",
       "      <td>0.046344</td>\n",
       "      <td>0.004785</td>\n",
       "      <td>1.91892e-10</td>\n",
       "      <td>{'C': 1.9189230701349653e-10}</td>\n",
       "      <td>0.727774</td>\n",
       "      <td>0.737868</td>\n",
       "      <td>0.736232</td>\n",
       "      <td>0.733958</td>\n",
       "      <td>0.004423</td>\n",
       "      <td>4</td>\n",
       "      <td>0.739900</td>\n",
       "      <td>0.738856</td>\n",
       "      <td>0.735051</td>\n",
       "      <td>0.737936</td>\n",
       "      <td>0.002084</td>\n",
       "    </tr>\n",
       "    <tr>\n",
       "      <th>14</th>\n",
       "      <td>5.012135</td>\n",
       "      <td>0.471528</td>\n",
       "      <td>0.059015</td>\n",
       "      <td>0.003561</td>\n",
       "      <td>9.87427e-10</td>\n",
       "      <td>{'C': 9.87426582710606e-10}</td>\n",
       "      <td>0.727775</td>\n",
       "      <td>0.737867</td>\n",
       "      <td>0.736231</td>\n",
       "      <td>0.733958</td>\n",
       "      <td>0.004423</td>\n",
       "      <td>5</td>\n",
       "      <td>0.739901</td>\n",
       "      <td>0.738857</td>\n",
       "      <td>0.735051</td>\n",
       "      <td>0.737936</td>\n",
       "      <td>0.002084</td>\n",
       "    </tr>\n",
       "    <tr>\n",
       "      <th>15</th>\n",
       "      <td>4.418333</td>\n",
       "      <td>0.051267</td>\n",
       "      <td>0.064018</td>\n",
       "      <td>0.009099</td>\n",
       "      <td>1.65886e-09</td>\n",
       "      <td>{'C': 1.6588617595953374e-09}</td>\n",
       "      <td>0.727774</td>\n",
       "      <td>0.737867</td>\n",
       "      <td>0.736231</td>\n",
       "      <td>0.733957</td>\n",
       "      <td>0.004423</td>\n",
       "      <td>6</td>\n",
       "      <td>0.739901</td>\n",
       "      <td>0.738859</td>\n",
       "      <td>0.735052</td>\n",
       "      <td>0.737937</td>\n",
       "      <td>0.002084</td>\n",
       "    </tr>\n",
       "    <tr>\n",
       "      <th>9</th>\n",
       "      <td>19.997863</td>\n",
       "      <td>0.732492</td>\n",
       "      <td>0.082351</td>\n",
       "      <td>0.013579</td>\n",
       "      <td>2.33443e-05</td>\n",
       "      <td>{'C': 2.3344321920849887e-05}</td>\n",
       "      <td>0.730861</td>\n",
       "      <td>0.740060</td>\n",
       "      <td>0.739644</td>\n",
       "      <td>0.736855</td>\n",
       "      <td>0.004242</td>\n",
       "      <td>3</td>\n",
       "      <td>0.746418</td>\n",
       "      <td>0.747999</td>\n",
       "      <td>0.742796</td>\n",
       "      <td>0.745738</td>\n",
       "      <td>0.002178</td>\n",
       "    </tr>\n",
       "    <tr>\n",
       "      <th>4</th>\n",
       "      <td>23.963786</td>\n",
       "      <td>0.671882</td>\n",
       "      <td>0.078020</td>\n",
       "      <td>0.005353</td>\n",
       "      <td>8.53429e-05</td>\n",
       "      <td>{'C': 8.534285959741679e-05}</td>\n",
       "      <td>0.735271</td>\n",
       "      <td>0.739463</td>\n",
       "      <td>0.743266</td>\n",
       "      <td>0.739333</td>\n",
       "      <td>0.003265</td>\n",
       "      <td>2</td>\n",
       "      <td>0.754780</td>\n",
       "      <td>0.757500</td>\n",
       "      <td>0.752326</td>\n",
       "      <td>0.754869</td>\n",
       "      <td>0.002113</td>\n",
       "    </tr>\n",
       "  </tbody>\n",
       "</table>\n",
       "</div>"
      ],
      "text/plain": [
       "    mean_fit_time  std_fit_time  mean_score_time  std_score_time      param_C  \\\n",
       "16       4.420669      0.107287         0.046344        0.004785  1.91892e-10   \n",
       "14       5.012135      0.471528         0.059015        0.003561  9.87427e-10   \n",
       "15       4.418333      0.051267         0.064018        0.009099  1.65886e-09   \n",
       "9       19.997863      0.732492         0.082351        0.013579  2.33443e-05   \n",
       "4       23.963786      0.671882         0.078020        0.005353  8.53429e-05   \n",
       "\n",
       "                           params  split0_test_score  split1_test_score  \\\n",
       "16  {'C': 1.9189230701349653e-10}           0.727774           0.737868   \n",
       "14    {'C': 9.87426582710606e-10}           0.727775           0.737867   \n",
       "15  {'C': 1.6588617595953374e-09}           0.727774           0.737867   \n",
       "9   {'C': 2.3344321920849887e-05}           0.730861           0.740060   \n",
       "4    {'C': 8.534285959741679e-05}           0.735271           0.739463   \n",
       "\n",
       "    split2_test_score  mean_test_score  std_test_score  rank_test_score  \\\n",
       "16           0.736232         0.733958        0.004423                4   \n",
       "14           0.736231         0.733958        0.004423                5   \n",
       "15           0.736231         0.733957        0.004423                6   \n",
       "9            0.739644         0.736855        0.004242                3   \n",
       "4            0.743266         0.739333        0.003265                2   \n",
       "\n",
       "    split0_train_score  split1_train_score  split2_train_score  \\\n",
       "16            0.739900            0.738856            0.735051   \n",
       "14            0.739901            0.738857            0.735051   \n",
       "15            0.739901            0.738859            0.735052   \n",
       "9             0.746418            0.747999            0.742796   \n",
       "4             0.754780            0.757500            0.752326   \n",
       "\n",
       "    mean_train_score  std_train_score  \n",
       "16          0.737936         0.002084  \n",
       "14          0.737936         0.002084  \n",
       "15          0.737937         0.002084  \n",
       "9           0.745738         0.002178  \n",
       "4           0.754869         0.002113  "
      ]
     },
     "execution_count": 13,
     "metadata": {},
     "output_type": "execute_result"
    }
   ],
   "source": [
    "results.sort_values(by='param_C').head()"
   ]
  },
  {
   "cell_type": "code",
   "execution_count": 19,
   "metadata": {},
   "outputs": [
    {
     "data": {
      "image/png": "[encoded data removed]",
      "text/plain": [
       "<Figure size 432x288 with 1 Axes>"
      ]
     },
     "metadata": {},
     "output_type": "display_data"
    },
    {
     "data": {
      "image/png": "[encoded data removed]",
      "text/plain": [
       "<Figure size 432x288 with 1 Axes>"
      ]
     },
     "metadata": {},
     "output_type": "display_data"
    },
    {
     "data": {
      "image/png": "[encoded data removed]",
      "text/plain": [
       "<Figure size 432x288 with 1 Axes>"
      ]
     },
     "metadata": {},
     "output_type": "display_data"
    },
    {
     "data": {
      "image/png": "[encoded data removed]",
      "text/plain": [
       "<Figure size 432x288 with 1 Axes>"
      ]
     },
     "metadata": {},
     "output_type": "display_data"
    },
    {
     "data": {
      "image/png": "[encoded data removed]",
      "text/plain": [
       "<Figure size 432x288 with 1 Axes>"
      ]
     },
     "metadata": {},
     "output_type": "display_data"
    }
   ],
   "source": [
    "import seaborn as sns\n",
    "import matplotlib.pyplot as plt\n",
    "%matplotlib inline\n",
    "\n",
    "for k, vec in cv.items():\n",
    "    results = pd.DataFrame.from_dict(vec.cv_results_)\n",
    "    plt.xscale('log')\n",
    "    sns.scatterplot(x='param_C', y='mean_test_score', data=results)\n",
    "    plt.title(k)\n",
    "    plt.show()"
   ]
  },
  {
   "cell_type": "code",
   "execution_count": 18,
   "metadata": {},
   "outputs": [
    {
     "data": {
      "text/plain": [
       "['count: 1.34e-04',\n",
       " 'tfidf: 1.10e-01',\n",
       " 'hashing: 4.82e-03',\n",
       " 'binary: 1.34e-04',\n",
       " 'hashing_binary: 4.82e-03']"
      ]
     },
     "execution_count": 18,
     "metadata": {},
     "output_type": "execute_result"
    }
   ],
   "source": [
    "[f'{k}: {v.best_estimator_.C:.2e}' for k, v in cv.items()]"
   ]
  },
  {
   "cell_type": "code",
   "execution_count": null,
   "metadata": {},
   "outputs": [
    {
     "name": "stdout",
     "output_type": "stream",
     "text": [
      "Fitting 3 folds for each of 100 candidates, totalling 300 fits\n"
     ]
    },
    {
     "name": "stderr",
     "output_type": "stream",
     "text": [
      "[Parallel(n_jobs=6)]: Using backend LokyBackend with 6 concurrent workers.\n",
      "[Parallel(n_jobs=6)]: Done  26 tasks      | elapsed:  3.9min\n",
      "[Parallel(n_jobs=6)]: Done 122 tasks      | elapsed: 17.9min\n",
      "[Parallel(n_jobs=6)]: Done 282 tasks      | elapsed: 31.8min\n",
      "[Parallel(n_jobs=6)]: Done 300 out of 300 | elapsed: 33.3min finished\n"
     ]
    },
    {
     "name": "stdout",
     "output_type": "stream",
     "text": [
      "Vectorizer: count\n",
      "ROC: 0.6824659601824518\n",
      "AP: 0.1561411056103147\n",
      "Fitting 3 folds for each of 100 candidates, totalling 300 fits\n"
     ]
    },
    {
     "name": "stderr",
     "output_type": "stream",
     "text": [
      "[Parallel(n_jobs=6)]: Using backend LokyBackend with 6 concurrent workers.\n",
      "[Parallel(n_jobs=6)]: Done  26 tasks      | elapsed:  2.7min\n",
      "[Parallel(n_jobs=6)]: Done 122 tasks      | elapsed: 11.9min\n",
      "[Parallel(n_jobs=6)]: Done 282 tasks      | elapsed: 21.9min\n",
      "[Parallel(n_jobs=6)]: Done 300 out of 300 | elapsed: 22.6min finished\n"
     ]
    },
    {
     "name": "stdout",
     "output_type": "stream",
     "text": [
      "Vectorizer: tfidf\n",
      "ROC: 0.6927763586025801\n",
      "AP: 0.16498424060330158\n",
      "Fitting 3 folds for each of 100 candidates, totalling 300 fits\n"
     ]
    },
    {
     "name": "stderr",
     "output_type": "stream",
     "text": [
      "[Parallel(n_jobs=6)]: Using backend LokyBackend with 6 concurrent workers.\n",
      "[Parallel(n_jobs=6)]: Done  26 tasks      | elapsed:  1.0min\n",
      "[Parallel(n_jobs=6)]: Done 122 tasks      | elapsed:  6.0min\n",
      "[Parallel(n_jobs=6)]: Done 282 tasks      | elapsed: 13.3min\n",
      "[Parallel(n_jobs=6)]: Done 300 out of 300 | elapsed: 14.8min finished\n"
     ]
    },
    {
     "name": "stdout",
     "output_type": "stream",
     "text": [
      "Vectorizer: hashing\n",
      "ROC: 0.5\n",
      "AP: 0.101564675093268\n",
      "Fitting 3 folds for each of 100 candidates, totalling 300 fits\n"
     ]
    },
    {
     "name": "stderr",
     "output_type": "stream",
     "text": [
      "[Parallel(n_jobs=6)]: Using backend LokyBackend with 6 concurrent workers.\n",
      "[Parallel(n_jobs=6)]: Done  26 tasks      | elapsed:  3.7min\n",
      "[Parallel(n_jobs=6)]: Done 122 tasks      | elapsed: 17.4min\n",
      "[Parallel(n_jobs=6)]: Done 282 tasks      | elapsed: 30.7min\n",
      "[Parallel(n_jobs=6)]: Done 300 out of 300 | elapsed: 32.1min finished\n"
     ]
    },
    {
     "name": "stdout",
     "output_type": "stream",
     "text": [
      "Vectorizer: binary\n",
      "ROC: 0.6849821051408348\n",
      "AP: 0.15780968628581854\n",
      "Fitting 3 folds for each of 100 candidates, totalling 300 fits\n"
     ]
    },
    {
     "name": "stderr",
     "output_type": "stream",
     "text": [
      "[Parallel(n_jobs=6)]: Using backend LokyBackend with 6 concurrent workers.\n",
      "[Parallel(n_jobs=6)]: Done  26 tasks      | elapsed:  1.0min\n"
     ]
    }
   ],
   "source": [
    "vectorizers = ['count', 'tfidf', 'hashing', 'binary', 'hashing_binary']\n",
    "\n",
    "with open('../data/train_labels.pckl', 'rb') as f:\n",
    "    train_labels = pickle.load(f)\n",
    "with open('../data/dev_labels.pckl', 'rb') as f:\n",
    "    dev_labels = pickle.load(f)\n",
    "\n",
    "cv = {}\n",
    "    \n",
    "for vectorizer in vectorizers:\n",
    "    with open(f'../data/train_{vectorizer}_downsampled_data.pckl', 'rb') as f:\n",
    "        train = pickle.load(f)\n",
    "    with open(f'../data/dev_{vectorizer}_downsampled_data.pckl', 'rb') as f:\n",
    "        dev = pickle.load(f)\n",
    "    \n",
    "    lr = LogisticRegression(random_state=0)\n",
    "    \n",
    "    params = {'C': sp_loguniform(1e-10, 1e0),\n",
    "              }\n",
    "    \n",
    "    cv[vectorizer] = RandomizedSearchCV(lr,\n",
    "                                        params,\n",
    "                                        n_iter=100,\n",
    "                                        n_jobs=6,\n",
    "                                        cv=3,\n",
    "                                        random_state=0,\n",
    "                                        verbose=3,\n",
    "                                        scoring='roc_auc',\n",
    "                                        return_train_score=True,\n",
    "                                        pre_dispatch='n_jobs',\n",
    "                                        )\n",
    "    cv[vectorizer].fit(train, train_labels)\n",
    "    predicted = cv[vectorizer].predict(dev)\n",
    "    \n",
    "    print(f'Vectorizer: {vectorizer}')\n",
    "    print(f'ROC: {roc_auc_score(dev_labels, predicted)}')\n",
    "    print(f'AP: {average_precision_score(dev_labels, predicted)}')"
   ]
  },
  {
   "cell_type": "code",
   "execution_count": 44,
   "metadata": {},
   "outputs": [
    {
     "name": "stdout",
     "output_type": "stream",
     "text": [
      "Vectorizer: count\n",
      "ROC:        0.7492\n",
      "AP:         0.2328\n",
      "Precision:  0.1665\n",
      "Recall:     0.8410\n",
      "\n",
      "Vectorizer: tfidf\n",
      "ROC:        0.7556\n",
      "AP:         0.2353\n",
      "Precision:  0.1831\n",
      "Recall:     0.7780\n",
      "\n",
      "Vectorizer: binary\n",
      "ROC:        0.7466\n",
      "AP:         0.2274\n",
      "Precision:  0.1692\n",
      "Recall:     0.8314\n",
      "\n"
     ]
    }
   ],
   "source": [
    "from sklearn.metrics import recall_score, precision_score\n",
    "\n",
    "for vectorizer in vectorizers:\n",
    "    if 'hashing' in vectorizer:\n",
    "        continue\n",
    "    with open(f'../data/train_{vectorizer}_downsampled_data.pckl', 'rb') as f:\n",
    "        train = pickle.load(f)\n",
    "    with open(f'../data/dev_{vectorizer}_downsampled_data.pckl', 'rb') as f:\n",
    "        dev = pickle.load(f)\n",
    "    \n",
    "    predicted = cv[vectorizer].predict_proba(dev)[:, 1]\n",
    "    \n",
    "    labels = dev_labels\n",
    "    \n",
    "    print(f'Vectorizer: {vectorizer}')\n",
    "    print(f'ROC:        {roc_auc_score(labels, predicted):.4f}')\n",
    "    print(f'AP:         {average_precision_score(labels, predicted):.4f}')\n",
    "    print(f'Precision:  {precision_score(labels, predicted.round()):.4f}')\n",
    "    print(f'Recall:     {recall_score(labels, predicted.round()):.4f}')\n",
    "    print('')\n",
    "    \n",
    "#     predicted = cv[vectorizer].predict_proba(train)[:,1]\n",
    "    \n",
    "#     labels = train_labels\n",
    "    \n",
    "#     print(f'Vectorizer: {vectorizer}')\n",
    "#     print(f'ROC:        {roc_auc_score(labels, predicted):.4f}')\n",
    "#     print(f'AP:         {average_precision_score(labels, predicted):.4f}')\n",
    "#     print(f'Precision:  {precision_score(labels, predicted):.4f}')\n",
    "#     print(f'Recall:     {recall_score(labels, predicted):.4f}')\n",
    "#     print('')"
   ]
  },
  {
   "cell_type": "code",
   "execution_count": 41,
   "metadata": {},
   "outputs": [
    {
     "data": {
      "text/plain": [
       "array([0.53082451, 0.18717304, 0.49905742, ..., 0.5390328 , 0.03789939,\n",
       "       0.34969859])"
      ]
     },
     "execution_count": 41,
     "metadata": {},
     "output_type": "execute_result"
    }
   ],
   "source": [
    "predicted"
   ]
  },
  {
   "cell_type": "code",
   "execution_count": 26,
   "metadata": {},
   "outputs": [
    {
     "data": {
      "image/png": "[encoded data removed]",
      "text/plain": [
       "<Figure size 432x288 with 1 Axes>"
      ]
     },
     "metadata": {},
     "output_type": "display_data"
    },
    {
     "data": {
      "image/png": "[encoded data removed]",
      "text/plain": [
       "<Figure size 432x288 with 1 Axes>"
      ]
     },
     "metadata": {},
     "output_type": "display_data"
    },
    {
     "data": {
      "image/png": "[encoded data removed]",
      "text/plain": [
       "<Figure size 432x288 with 1 Axes>"
      ]
     },
     "metadata": {},
     "output_type": "display_data"
    },
    {
     "data": {
      "image/png": "[encoded data removed]",
      "text/plain": [
       "<Figure size 432x288 with 1 Axes>"
      ]
     },
     "metadata": {},
     "output_type": "display_data"
    },
    {
     "data": {
      "image/png": "[encoded data removed]",
      "text/plain": [
       "<Figure size 432x288 with 1 Axes>"
      ]
     },
     "metadata": {},
     "output_type": "display_data"
    }
   ],
   "source": [
    "import seaborn as sns\n",
    "import matplotlib.pyplot as plt\n",
    "%matplotlib inline\n",
    "\n",
    "for k, vec in cv.items():\n",
    "    results = pd.DataFrame.from_dict(vec.cv_results_)\n",
    "    plt.xscale('log')\n",
    "    sns.scatterplot(x='param_C', y='mean_test_score', data=results)\n",
    "    plt.title(k)\n",
    "    plt.show()"
   ]
  },
  {
   "cell_type": "code",
   "execution_count": null,
   "metadata": {},
   "outputs": [
    {
     "name": "stdout",
     "output_type": "stream",
     "text": [
      "Fitting 3 folds for each of 100 candidates, totalling 300 fits\n"
     ]
    },
    {
     "name": "stderr",
     "output_type": "stream",
     "text": [
      "[Parallel(n_jobs=6)]: Using backend LokyBackend with 6 concurrent workers.\n",
      "[Parallel(n_jobs=6)]: Done  26 tasks      | elapsed:  6.5min\n"
     ]
    }
   ],
   "source": [
    "vectorizers = ['count',\n",
    "               'tfidf',\n",
    "               # 'hashing',\n",
    "               'binary',\n",
    "               # 'hashing_binary',\n",
    "               ]\n",
    "\n",
    "with open('../data/train_labels.pckl', 'rb') as f:\n",
    "    train_labels = pickle.load(f)\n",
    "with open('../data/dev_labels.pckl', 'rb') as f:\n",
    "    dev_labels = pickle.load(f)\n",
    "\n",
    "cv = {}\n",
    "    \n",
    "for vectorizer in vectorizers:\n",
    "    with open(f'../data/train_{vectorizer}_downsampled_data.pckl', 'rb') as f:\n",
    "        train = pickle.load(f)\n",
    "    with open(f'../data/dev_{vectorizer}_downsampled_data.pckl', 'rb') as f:\n",
    "        dev = pickle.load(f)\n",
    "    \n",
    "    lr = LogisticRegression(random_state=0)\n",
    "    \n",
    "    params = {'C': sp_loguniform(1e-10, 1e3),\n",
    "              }\n",
    "    \n",
    "    cv[vectorizer] = RandomizedSearchCV(lr,\n",
    "                                        params,\n",
    "                                        n_iter=100,\n",
    "                                        n_jobs=6,\n",
    "                                        cv=3,\n",
    "                                        random_state=0,\n",
    "                                        verbose=3,\n",
    "                                        scoring='precision',\n",
    "                                        return_train_score=True,\n",
    "                                        pre_dispatch='n_jobs',\n",
    "                                        )\n",
    "    cv[vectorizer].fit(train, train_labels)\n",
    "    predicted = cv[vectorizer].predict_proba(dev)[:, 1]\n",
    "    \n",
    "    print(f'Vectorizer: {vectorizer}')\n",
    "    print(f'ROC:        {roc_auc_score(labels, predicted):.4f}')\n",
    "    print(f'AP:         {average_precision_score(labels, predicted):.4f}')\n",
    "    print(f'Precision:  {precision_score(labels, predicted.round()):.4f}')\n",
    "    print(f'Recall:     {recall_score(labels, predicted.round()):.4f}')\n",
    "    print('')"
   ]
  },
  {
   "cell_type": "code",
   "execution_count": 47,
   "metadata": {},
   "outputs": [
    {
     "name": "stdout",
     "output_type": "stream",
     "text": [
      "Vectorizer: count\n",
      "ROC:        0.7551\n",
      "AP:         0.2374\n",
      "Precision:  0.1759\n",
      "Recall:     0.8158\n",
      "\n",
      "Vectorizer: tfidf\n",
      "ROC:        0.7550\n",
      "AP:         0.2334\n",
      "Precision:  0.2096\n",
      "Recall:     0.6234\n",
      "\n",
      "Vectorizer: binary\n",
      "ROC:        0.7518\n",
      "AP:         0.2343\n",
      "Precision:  0.1803\n",
      "Recall:     0.7881\n",
      "\n"
     ]
    }
   ],
   "source": [
    "from sklearn.metrics import recall_score, precision_score\n",
    "\n",
    "for vectorizer in vectorizers:\n",
    "    if 'hashing' in vectorizer:\n",
    "        continue\n",
    "    with open(f'../data/train_{vectorizer}_downsampled_data.pckl', 'rb') as f:\n",
    "        train = pickle.load(f)\n",
    "    with open(f'../data/dev_{vectorizer}_downsampled_data.pckl', 'rb') as f:\n",
    "        dev = pickle.load(f)\n",
    "    \n",
    "    predicted = cv[vectorizer].predict_proba(dev)[:, 1]\n",
    "    \n",
    "    labels = dev_labels\n",
    "    \n",
    "    print(f'Vectorizer: {vectorizer}')\n",
    "    print(f'ROC:        {roc_auc_score(labels, predicted):.4f}')\n",
    "    print(f'AP:         {average_precision_score(labels, predicted):.4f}')\n",
    "    print(f'Precision:  {precision_score(labels, predicted.round()):.4f}')\n",
    "    print(f'Recall:     {recall_score(labels, predicted.round()):.4f}')\n",
    "    print('')"
   ]
  },
  {
   "cell_type": "code",
   "execution_count": 48,
   "metadata": {},
   "outputs": [
    {
     "data": {
      "image/png": "[encoded data removed]",
      "text/plain": [
       "<Figure size 432x288 with 1 Axes>"
      ]
     },
     "metadata": {},
     "output_type": "display_data"
    },
    {
     "data": {
      "image/png": "[encoded data removed]",
      "text/plain": [
       "<Figure size 432x288 with 1 Axes>"
      ]
     },
     "metadata": {},
     "output_type": "display_data"
    },
    {
     "data": {
      "image/png": "[encoded data removed]",
      "text/plain": [
       "<Figure size 432x288 with 1 Axes>"
      ]
     },
     "metadata": {},
     "output_type": "display_data"
    }
   ],
   "source": [
    "import seaborn as sns\n",
    "import matplotlib.pyplot as plt\n",
    "%matplotlib inline\n",
    "\n",
    "for k, vec in cv.items():\n",
    "    results = pd.DataFrame.from_dict(vec.cv_results_)\n",
    "    plt.xscale('log')\n",
    "    sns.scatterplot(x='param_C', y='mean_test_score', data=results)\n",
    "    plt.title(k)\n",
    "    plt.show()"
   ]
  },
  {
   "cell_type": "code",
   "execution_count": 51,
   "metadata": {},
   "outputs": [
    {
     "name": "stdout",
     "output_type": "stream",
     "text": [
      "Fitting 3 folds for each of 10 candidates, totalling 30 fits\n"
     ]
    },
    {
     "name": "stderr",
     "output_type": "stream",
     "text": [
      "[Parallel(n_jobs=6)]: Using backend LokyBackend with 6 concurrent workers.\n",
      "[Parallel(n_jobs=6)]: Done  30 out of  30 | elapsed:  7.0min finished\n",
      "c:\\python37\\lib\\site-packages\\sklearn\\linear_model\\_logistic.py:940: ConvergenceWarning: lbfgs failed to converge (status=1):\n",
      "STOP: TOTAL NO. of ITERATIONS REACHED LIMIT.\n",
      "\n",
      "Increase the number of iterations (max_iter) or scale the data as shown in:\n",
      "    https://scikit-learn.org/stable/modules/preprocessing.html\n",
      "Please also refer to the documentation for alternative solver options:\n",
      "    https://scikit-learn.org/stable/modules/linear_model.html#logistic-regression\n",
      "  extra_warning_msg=_LOGISTIC_SOLVER_CONVERGENCE_MSG)\n"
     ]
    },
    {
     "name": "stdout",
     "output_type": "stream",
     "text": [
      "Vectorizer: count\n",
      "ROC:        0.7500\n",
      "AP:         0.2303\n",
      "Precision:  0.1793\n",
      "Recall:     0.7870\n",
      "\n",
      "Fitting 3 folds for each of 10 candidates, totalling 30 fits\n"
     ]
    },
    {
     "name": "stderr",
     "output_type": "stream",
     "text": [
      "[Parallel(n_jobs=6)]: Using backend LokyBackend with 6 concurrent workers.\n",
      "[Parallel(n_jobs=6)]: Done  30 out of  30 | elapsed:  5.0min finished\n",
      "c:\\python37\\lib\\site-packages\\sklearn\\linear_model\\_logistic.py:940: ConvergenceWarning: lbfgs failed to converge (status=1):\n",
      "STOP: TOTAL NO. of ITERATIONS REACHED LIMIT.\n",
      "\n",
      "Increase the number of iterations (max_iter) or scale the data as shown in:\n",
      "    https://scikit-learn.org/stable/modules/preprocessing.html\n",
      "Please also refer to the documentation for alternative solver options:\n",
      "    https://scikit-learn.org/stable/modules/linear_model.html#logistic-regression\n",
      "  extra_warning_msg=_LOGISTIC_SOLVER_CONVERGENCE_MSG)\n"
     ]
    },
    {
     "name": "stdout",
     "output_type": "stream",
     "text": [
      "Vectorizer: tfidf\n",
      "ROC:        0.7298\n",
      "AP:         0.2173\n",
      "Precision:  0.1994\n",
      "Recall:     0.5556\n",
      "\n",
      "Fitting 3 folds for each of 10 candidates, totalling 30 fits\n"
     ]
    },
    {
     "name": "stderr",
     "output_type": "stream",
     "text": [
      "[Parallel(n_jobs=6)]: Using backend LokyBackend with 6 concurrent workers.\n",
      "[Parallel(n_jobs=6)]: Done  30 out of  30 | elapsed:  6.8min finished\n",
      "c:\\python37\\lib\\site-packages\\sklearn\\linear_model\\_logistic.py:940: ConvergenceWarning: lbfgs failed to converge (status=1):\n",
      "STOP: TOTAL NO. of ITERATIONS REACHED LIMIT.\n",
      "\n",
      "Increase the number of iterations (max_iter) or scale the data as shown in:\n",
      "    https://scikit-learn.org/stable/modules/preprocessing.html\n",
      "Please also refer to the documentation for alternative solver options:\n",
      "    https://scikit-learn.org/stable/modules/linear_model.html#logistic-regression\n",
      "  extra_warning_msg=_LOGISTIC_SOLVER_CONVERGENCE_MSG)\n"
     ]
    },
    {
     "name": "stdout",
     "output_type": "stream",
     "text": [
      "Vectorizer: binary\n",
      "ROC:        0.7484\n",
      "AP:         0.2310\n",
      "Precision:  0.1809\n",
      "Recall:     0.7681\n",
      "\n"
     ]
    }
   ],
   "source": [
    "from sklearn.utils import shuffle\n",
    "\n",
    "vectorizers = ['count',\n",
    "               'tfidf',\n",
    "               # 'hashing',\n",
    "               'binary',\n",
    "               # 'hashing_binary',\n",
    "               ]\n",
    "\n",
    "with open('../data/train_labels.pckl', 'rb') as f:\n",
    "    train_labels = pickle.load(f)\n",
    "with open('../data/dev_labels.pckl', 'rb') as f:\n",
    "    dev_labels = pickle.load(f)\n",
    "\n",
    "cv = {}\n",
    "    \n",
    "for vectorizer in vectorizers:\n",
    "    with open(f'../data/train_{vectorizer}_downsampled_data.pckl', 'rb') as f:\n",
    "        train = pickle.load(f)\n",
    "    with open(f'../data/dev_{vectorizer}_downsampled_data.pckl', 'rb') as f:\n",
    "        dev = pickle.load(f)\n",
    "        \n",
    "    train, shuffled_train_labels = shuffle(train, train_labels)\n",
    "    dev, shuffled_dev_labels = shuffle(dev, dev_labels)\n",
    "    \n",
    "    lr = LogisticRegression(random_state=0)\n",
    "    \n",
    "    params = {'C': sp_loguniform(1e-10, 1e3),\n",
    "              }\n",
    "    \n",
    "    cv[vectorizer] = RandomizedSearchCV(lr,\n",
    "                                        params,\n",
    "                                        n_iter=10,\n",
    "                                        n_jobs=6,\n",
    "                                        cv=3,\n",
    "                                        random_state=0,\n",
    "                                        verbose=3,\n",
    "                                        scoring='precision',\n",
    "                                        return_train_score=True,\n",
    "                                        pre_dispatch='n_jobs',\n",
    "                                        )\n",
    "    cv[vectorizer].fit(train, shuffled_train_labels)\n",
    "    predicted = cv[vectorizer].predict_proba(dev)[:, 1]\n",
    "    \n",
    "    labels = shuffled_dev_labels\n",
    "    \n",
    "    print(f'Vectorizer: {vectorizer}')\n",
    "    print(f'ROC:        {roc_auc_score(labels, predicted):.4f}')\n",
    "    print(f'AP:         {average_precision_score(labels, predicted):.4f}')\n",
    "    print(f'Precision:  {precision_score(labels, predicted.round()):.4f}')\n",
    "    print(f'Recall:     {recall_score(labels, predicted.round()):.4f}')\n",
    "    print('')"
   ]
  },
  {
   "cell_type": "code",
   "execution_count": 52,
   "metadata": {},
   "outputs": [
    {
     "data": {
      "image/png": "[encoded data removed]",
      "text/plain": [
       "<Figure size 432x288 with 1 Axes>"
      ]
     },
     "metadata": {},
     "output_type": "display_data"
    },
    {
     "data": {
      "image/png": "[encoded data removed]",
      "text/plain": [
       "<Figure size 432x288 with 1 Axes>"
      ]
     },
     "metadata": {},
     "output_type": "display_data"
    },
    {
     "data": {
      "image/png": "[encoded data removed]",
      "text/plain": [
       "<Figure size 432x288 with 1 Axes>"
      ]
     },
     "metadata": {},
     "output_type": "display_data"
    }
   ],
   "source": [
    "import seaborn as sns\n",
    "import matplotlib.pyplot as plt\n",
    "%matplotlib inline\n",
    "\n",
    "for k, vec in cv.items():\n",
    "    results = pd.DataFrame.from_dict(vec.cv_results_)\n",
    "    plt.xscale('log')\n",
    "    sns.scatterplot(x='param_C', y='mean_test_score', data=results)\n",
    "    plt.title(k)\n",
    "    plt.show()"
   ]
  },
  {
   "cell_type": "code",
   "execution_count": 53,
   "metadata": {},
   "outputs": [
    {
     "name": "stdout",
     "output_type": "stream",
     "text": [
      "Fitting 3 folds for each of 100 candidates, totalling 300 fits\n"
     ]
    },
    {
     "name": "stderr",
     "output_type": "stream",
     "text": [
      "[Parallel(n_jobs=6)]: Using backend LokyBackend with 6 concurrent workers.\n",
      "[Parallel(n_jobs=6)]: Done  26 tasks      | elapsed:  6.4min\n",
      "[Parallel(n_jobs=6)]: Done 122 tasks      | elapsed: 27.9min\n",
      "[Parallel(n_jobs=6)]: Done 282 tasks      | elapsed: 51.0min\n",
      "[Parallel(n_jobs=6)]: Done 300 out of 300 | elapsed: 53.3min finished\n",
      "c:\\python37\\lib\\site-packages\\sklearn\\linear_model\\_logistic.py:940: ConvergenceWarning: lbfgs failed to converge (status=1):\n",
      "STOP: TOTAL NO. of ITERATIONS REACHED LIMIT.\n",
      "\n",
      "Increase the number of iterations (max_iter) or scale the data as shown in:\n",
      "    https://scikit-learn.org/stable/modules/preprocessing.html\n",
      "Please also refer to the documentation for alternative solver options:\n",
      "    https://scikit-learn.org/stable/modules/linear_model.html#logistic-regression\n",
      "  extra_warning_msg=_LOGISTIC_SOLVER_CONVERGENCE_MSG)\n"
     ]
    },
    {
     "name": "stdout",
     "output_type": "stream",
     "text": [
      "Vectorizer: count\n",
      "ROC:        0.7110\n",
      "AP:         0.1967\n",
      "Precision:  0.1723\n",
      "Recall:     0.6933\n",
      "\n",
      "Fitting 3 folds for each of 100 candidates, totalling 300 fits\n"
     ]
    },
    {
     "name": "stderr",
     "output_type": "stream",
     "text": [
      "[Parallel(n_jobs=6)]: Using backend LokyBackend with 6 concurrent workers.\n",
      "[Parallel(n_jobs=6)]: Done  26 tasks      | elapsed:  4.8min\n",
      "[Parallel(n_jobs=6)]: Done 122 tasks      | elapsed: 20.4min\n",
      "[Parallel(n_jobs=6)]: Done 282 tasks      | elapsed: 36.2min\n",
      "[Parallel(n_jobs=6)]: Done 300 out of 300 | elapsed: 38.6min finished\n",
      "c:\\python37\\lib\\site-packages\\sklearn\\linear_model\\_logistic.py:940: ConvergenceWarning: lbfgs failed to converge (status=1):\n",
      "STOP: TOTAL NO. of ITERATIONS REACHED LIMIT.\n",
      "\n",
      "Increase the number of iterations (max_iter) or scale the data as shown in:\n",
      "    https://scikit-learn.org/stable/modules/preprocessing.html\n",
      "Please also refer to the documentation for alternative solver options:\n",
      "    https://scikit-learn.org/stable/modules/linear_model.html#logistic-regression\n",
      "  extra_warning_msg=_LOGISTIC_SOLVER_CONVERGENCE_MSG)\n"
     ]
    },
    {
     "name": "stdout",
     "output_type": "stream",
     "text": [
      "Vectorizer: tfidf\n",
      "ROC:        0.7507\n",
      "AP:         0.2298\n",
      "Precision:  0.2055\n",
      "Recall:     0.6198\n",
      "\n",
      "Fitting 3 folds for each of 100 candidates, totalling 300 fits\n"
     ]
    },
    {
     "name": "stderr",
     "output_type": "stream",
     "text": [
      "[Parallel(n_jobs=6)]: Using backend LokyBackend with 6 concurrent workers.\n",
      "[Parallel(n_jobs=6)]: Done  26 tasks      | elapsed:  6.1min\n",
      "[Parallel(n_jobs=6)]: Done 122 tasks      | elapsed: 26.7min\n",
      "[Parallel(n_jobs=6)]: Done 282 tasks      | elapsed: 49.6min\n",
      "[Parallel(n_jobs=6)]: Done 300 out of 300 | elapsed: 51.8min finished\n",
      "c:\\python37\\lib\\site-packages\\sklearn\\linear_model\\_logistic.py:940: ConvergenceWarning: lbfgs failed to converge (status=1):\n",
      "STOP: TOTAL NO. of ITERATIONS REACHED LIMIT.\n",
      "\n",
      "Increase the number of iterations (max_iter) or scale the data as shown in:\n",
      "    https://scikit-learn.org/stable/modules/preprocessing.html\n",
      "Please also refer to the documentation for alternative solver options:\n",
      "    https://scikit-learn.org/stable/modules/linear_model.html#logistic-regression\n",
      "  extra_warning_msg=_LOGISTIC_SOLVER_CONVERGENCE_MSG)\n"
     ]
    },
    {
     "name": "stdout",
     "output_type": "stream",
     "text": [
      "Vectorizer: binary\n",
      "ROC:        0.7425\n",
      "AP:         0.2266\n",
      "Precision:  0.1808\n",
      "Recall:     0.7453\n",
      "\n"
     ]
    }
   ],
   "source": [
    "from sklearn.utils import shuffle\n",
    "\n",
    "vectorizers = ['count',\n",
    "               'tfidf',\n",
    "               # 'hashing',\n",
    "               'binary',\n",
    "               # 'hashing_binary',\n",
    "               ]\n",
    "\n",
    "with open('../data/train_labels.pckl', 'rb') as f:\n",
    "    train_labels = pickle.load(f)\n",
    "with open('../data/dev_labels.pckl', 'rb') as f:\n",
    "    dev_labels = pickle.load(f)\n",
    "\n",
    "cv = {}\n",
    "    \n",
    "for vectorizer in vectorizers:\n",
    "    with open(f'../data/train_{vectorizer}_downsampled_data.pckl', 'rb') as f:\n",
    "        train = pickle.load(f)\n",
    "    with open(f'../data/dev_{vectorizer}_downsampled_data.pckl', 'rb') as f:\n",
    "        dev = pickle.load(f)\n",
    "        \n",
    "    train, shuffled_train_labels = shuffle(train, train_labels)\n",
    "    dev, shuffled_dev_labels = shuffle(dev, dev_labels)\n",
    "    \n",
    "    lr = LogisticRegression(random_state=0)\n",
    "    \n",
    "    params = {'C': sp_loguniform(1e-10, 1e3),\n",
    "              }\n",
    "    \n",
    "    cv[vectorizer] = RandomizedSearchCV(lr,\n",
    "                                        params,\n",
    "                                        n_iter=100,\n",
    "                                        n_jobs=6,\n",
    "                                        cv=3,\n",
    "                                        random_state=0,\n",
    "                                        verbose=3,\n",
    "                                        scoring='precision',\n",
    "                                        return_train_score=True,\n",
    "                                        pre_dispatch='n_jobs',\n",
    "                                        )\n",
    "    cv[vectorizer].fit(train, shuffled_train_labels)\n",
    "    predicted = cv[vectorizer].predict_proba(dev)[:, 1]\n",
    "    \n",
    "    labels = shuffled_dev_labels\n",
    "    \n",
    "    print(f'Vectorizer: {vectorizer}')\n",
    "    print(f'ROC:        {roc_auc_score(labels, predicted):.4f}')\n",
    "    print(f'AP:         {average_precision_score(labels, predicted):.4f}')\n",
    "    print(f'Precision:  {precision_score(labels, predicted.round()):.4f}')\n",
    "    print(f'Recall:     {recall_score(labels, predicted.round()):.4f}')\n",
    "    print('')"
   ]
  },
  {
   "cell_type": "code",
   "execution_count": 54,
   "metadata": {},
   "outputs": [
    {
     "data": {
      "image/png": "[encoded data removed]",
      "text/plain": [
       "<Figure size 432x288 with 1 Axes>"
      ]
     },
     "metadata": {},
     "output_type": "display_data"
    },
    {
     "data": {
      "image/png": "[encoded data removed]",
      "text/plain": [
       "<Figure size 432x288 with 1 Axes>"
      ]
     },
     "metadata": {},
     "output_type": "display_data"
    },
    {
     "data": {
      "image/png": "[encoded data removed]",
      "text/plain": [
       "<Figure size 432x288 with 1 Axes>"
      ]
     },
     "metadata": {},
     "output_type": "display_data"
    }
   ],
   "source": [
    "import seaborn as sns\n",
    "import matplotlib.pyplot as plt\n",
    "%matplotlib inline\n",
    "\n",
    "for k, vec in cv.items():\n",
    "    results = pd.DataFrame.from_dict(vec.cv_results_)\n",
    "    plt.xscale('log')\n",
    "    sns.scatterplot(x='param_C', y='mean_test_score', data=results)\n",
    "    plt.title(k)\n",
    "    plt.show()"
   ]
  },
  {
   "cell_type": "code",
   "execution_count": 70,
   "metadata": {},
   "outputs": [
    {
     "data": {
      "text/plain": [
       "160064.87083380713"
      ]
     },
     "execution_count": 70,
     "metadata": {},
     "output_type": "execute_result"
    }
   ],
   "source": [
    "import numpy as np\n",
    "np.abs(cv['count'].best_estimator_.coef_).sum()"
   ]
  },
  {
   "cell_type": "code",
   "execution_count": 71,
   "metadata": {},
   "outputs": [
    {
     "data": {
      "text/plain": [
       "4.7088189012649"
      ]
     },
     "execution_count": 71,
     "metadata": {},
     "output_type": "execute_result"
    }
   ],
   "source": [
    "cv['count'].best_estimator_.C"
   ]
  },
  {
   "cell_type": "code",
   "execution_count": 72,
   "metadata": {},
   "outputs": [],
   "source": [
    "from scipy.stats import uniform as sp_uniform"
   ]
  },
  {
   "cell_type": "code",
   "execution_count": 80,
   "metadata": {
    "scrolled": false
   },
   "outputs": [
    {
     "name": "stdout",
     "output_type": "stream",
     "text": [
      "Fitting 3 folds for each of 100 candidates, totalling 300 fits\n"
     ]
    },
    {
     "name": "stderr",
     "output_type": "stream",
     "text": [
      "[Parallel(n_jobs=6)]: Using backend LokyBackend with 6 concurrent workers.\n",
      "[Parallel(n_jobs=6)]: Done  26 tasks      | elapsed:   35.8s\n",
      "[Parallel(n_jobs=6)]: Done 122 tasks      | elapsed:  2.0min\n",
      "[Parallel(n_jobs=6)]: Done 282 tasks      | elapsed:  4.6min\n",
      "[Parallel(n_jobs=6)]: Done 300 out of 300 | elapsed: 33.9min finished\n",
      "c:\\python37\\lib\\site-packages\\sklearn\\linear_model\\_logistic.py:1501: UserWarning: l1_ratio parameter is only used when penalty is 'elasticnet'. Got (penalty=none)\n",
      "  \"(penalty={})\".format(self.penalty))\n",
      "c:\\python37\\lib\\site-packages\\sklearn\\linear_model\\_logistic.py:1505: UserWarning: Setting penalty='none' will ignore the C and l1_ratio parameters\n",
      "  \"Setting penalty='none' will ignore the C and l1_ratio \"\n",
      "c:\\python37\\lib\\site-packages\\sklearn\\linear_model\\_sag.py:330: ConvergenceWarning: The max_iter was reached which means the coef_ did not converge\n",
      "  \"the coef_ did not converge\", ConvergenceWarning)\n"
     ]
    },
    {
     "name": "stdout",
     "output_type": "stream",
     "text": [
      "Vectorizer: count\n",
      "ROC:        0.7474\n",
      "AP:         0.2214\n",
      "Precision:  0.1789\n",
      "Recall:     0.8002\n",
      "\n",
      "Fitting 3 folds for each of 100 candidates, totalling 300 fits\n"
     ]
    },
    {
     "name": "stderr",
     "output_type": "stream",
     "text": [
      "[Parallel(n_jobs=6)]: Using backend LokyBackend with 6 concurrent workers.\n",
      "[Parallel(n_jobs=6)]: Done  26 tasks      | elapsed:   32.8s\n",
      "[Parallel(n_jobs=6)]: Done 122 tasks      | elapsed:  1.8min\n",
      "[Parallel(n_jobs=6)]: Done 282 tasks      | elapsed:  4.2min\n",
      "[Parallel(n_jobs=6)]: Done 300 out of 300 | elapsed: 18.9min finished\n",
      "c:\\python37\\lib\\site-packages\\sklearn\\linear_model\\_logistic.py:1501: UserWarning: l1_ratio parameter is only used when penalty is 'elasticnet'. Got (penalty=l1)\n",
      "  \"(penalty={})\".format(self.penalty))\n",
      "c:\\python37\\lib\\site-packages\\sklearn\\svm\\_base.py:947: ConvergenceWarning: Liblinear failed to converge, increase the number of iterations.\n",
      "  \"the number of iterations.\", ConvergenceWarning)\n"
     ]
    },
    {
     "name": "stdout",
     "output_type": "stream",
     "text": [
      "Vectorizer: tfidf\n",
      "ROC:        0.7398\n",
      "AP:         0.2233\n",
      "Precision:  0.1900\n",
      "Recall:     0.6724\n",
      "\n",
      "Fitting 3 folds for each of 100 candidates, totalling 300 fits\n"
     ]
    },
    {
     "name": "stderr",
     "output_type": "stream",
     "text": [
      "[Parallel(n_jobs=6)]: Using backend LokyBackend with 6 concurrent workers.\n",
      "[Parallel(n_jobs=6)]: Done  26 tasks      | elapsed:   32.5s\n",
      "[Parallel(n_jobs=6)]: Done 122 tasks      | elapsed:  1.9min\n",
      "[Parallel(n_jobs=6)]: Done 282 tasks      | elapsed:  4.3min\n",
      "[Parallel(n_jobs=6)]: Done 300 out of 300 | elapsed: 34.1min finished\n",
      "c:\\python37\\lib\\site-packages\\sklearn\\linear_model\\_logistic.py:1501: UserWarning: l1_ratio parameter is only used when penalty is 'elasticnet'. Got (penalty=none)\n",
      "  \"(penalty={})\".format(self.penalty))\n",
      "c:\\python37\\lib\\site-packages\\sklearn\\linear_model\\_logistic.py:1505: UserWarning: Setting penalty='none' will ignore the C and l1_ratio parameters\n",
      "  \"Setting penalty='none' will ignore the C and l1_ratio \"\n",
      "c:\\python37\\lib\\site-packages\\sklearn\\linear_model\\_logistic.py:940: ConvergenceWarning: lbfgs failed to converge (status=1):\n",
      "STOP: TOTAL NO. of ITERATIONS REACHED LIMIT.\n",
      "\n",
      "Increase the number of iterations (max_iter) or scale the data as shown in:\n",
      "    https://scikit-learn.org/stable/modules/preprocessing.html\n",
      "Please also refer to the documentation for alternative solver options:\n",
      "    https://scikit-learn.org/stable/modules/linear_model.html#logistic-regression\n",
      "  extra_warning_msg=_LOGISTIC_SOLVER_CONVERGENCE_MSG)\n"
     ]
    },
    {
     "name": "stdout",
     "output_type": "stream",
     "text": [
      "Vectorizer: binary\n",
      "ROC:        0.7332\n",
      "AP:         0.2095\n",
      "Precision:  0.1790\n",
      "Recall:     0.7374\n",
      "\n"
     ]
    }
   ],
   "source": [
    "vectorizers = ['count',\n",
    "               'tfidf',\n",
    "               # 'hashing',\n",
    "               'binary',\n",
    "               # 'hashing_binary',\n",
    "               ]\n",
    "\n",
    "with open('../data/train_labels.pckl', 'rb') as f:\n",
    "    train_labels = pickle.load(f)\n",
    "with open('../data/dev_labels.pckl', 'rb') as f:\n",
    "    dev_labels = pickle.load(f)\n",
    "\n",
    "cv = {}\n",
    "    \n",
    "for vectorizer in vectorizers:\n",
    "    with open(f'../data/train_{vectorizer}_downsampled_data.pckl', 'rb') as f:\n",
    "        train = pickle.load(f)\n",
    "    with open(f'../data/dev_{vectorizer}_downsampled_data.pckl', 'rb') as f:\n",
    "        dev = pickle.load(f)\n",
    "        \n",
    "    train, shuffled_train_labels = shuffle(train, train_labels)\n",
    "    dev, shuffled_dev_labels = shuffle(dev, dev_labels)\n",
    "    \n",
    "    lr = LogisticRegression(random_state=0, max_iter=10)\n",
    "    \n",
    "    params = {'C': sp_loguniform(1e-10, 1e3),\n",
    "              'penalty': ['l2', 'l1', 'elasticnet', 'none'],\n",
    "              'fit_intercept': [True, False],\n",
    "              'solver': ['saga', 'lbfgs', 'liblinear'],\n",
    "              'l1_ratio': sp_uniform(),\n",
    "              }\n",
    "    \n",
    "    cv[vectorizer] = RandomizedSearchCV(lr,\n",
    "                                        params,\n",
    "                                        n_iter=100,\n",
    "                                        n_jobs=6,\n",
    "                                        cv=3,\n",
    "                                        random_state=0,\n",
    "                                        verbose=3,\n",
    "                                        scoring='precision',\n",
    "                                        return_train_score=True,\n",
    "                                        pre_dispatch='n_jobs',\n",
    "                                        )\n",
    "    cv[vectorizer].fit(train, shuffled_train_labels)\n",
    "    predicted = cv[vectorizer].predict_proba(dev)[:, 1]\n",
    "    \n",
    "    labels = shuffled_dev_labels\n",
    "    \n",
    "    print(f'Vectorizer: {vectorizer}')\n",
    "    print(f'ROC:        {roc_auc_score(labels, predicted):.4f}')\n",
    "    print(f'AP:         {average_precision_score(labels, predicted):.4f}')\n",
    "    print(f'Precision:  {precision_score(labels, predicted.round()):.4f}')\n",
    "    print(f'Recall:     {recall_score(labels, predicted.round()):.4f}')\n",
    "    print('')"
   ]
  },
  {
   "cell_type": "code",
   "execution_count": null,
   "metadata": {},
   "outputs": [],
   "source": [
    "# params:\n",
    "# ['param_C', 'param_fit_intercept', 'param_l1_ratio', 'param_penalty', 'param_solver']"
   ]
  },
  {
   "cell_type": "code",
   "execution_count": 85,
   "metadata": {},
   "outputs": [
    {
     "data": {
      "image/png": "[encoded data removed]",
      "text/plain": [
       "<Figure size 432x288 with 1 Axes>"
      ]
     },
     "metadata": {},
     "output_type": "display_data"
    },
    {
     "data": {
      "image/png": "[encoded data removed]",
      "text/plain": [
       "<Figure size 432x288 with 1 Axes>"
      ]
     },
     "metadata": {},
     "output_type": "display_data"
    },
    {
     "data": {
      "image/png": "[encoded data removed]",
      "text/plain": [
       "<Figure size 432x288 with 1 Axes>"
      ]
     },
     "metadata": {},
     "output_type": "display_data"
    }
   ],
   "source": [
    "for k, vec in cv.items():\n",
    "    results = pd.DataFrame.from_dict(vec.cv_results_)\n",
    "    plt.xscale('log')\n",
    "    sns.scatterplot(x='param_C', y='mean_test_score', data=results, hue='param_penalty')\n",
    "    plt.title(k)\n",
    "    plt.show()"
   ]
  },
  {
   "cell_type": "code",
   "execution_count": null,
   "metadata": {},
   "outputs": [],
   "source": []
  }
 ],
 "metadata": {
  "kernelspec": {
   "display_name": "Python 3",
   "language": "python",
   "name": "python3"
  },
  "language_info": {
   "codemirror_mode": {
    "name": "ipython",
    "version": 3
   },
   "file_extension": ".py",
   "mimetype": "text/x-python",
   "name": "python",
   "nbconvert_exporter": "python",
   "pygments_lexer": "ipython3",
   "version": "3.7.0"
  }
 },
 "nbformat": 4,
 "nbformat_minor": 2
}
