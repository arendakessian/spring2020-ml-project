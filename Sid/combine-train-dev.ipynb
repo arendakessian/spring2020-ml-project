{
 "cells": [
  {
   "cell_type": "code",
   "execution_count": 1,
   "metadata": {},
   "outputs": [],
   "source": [
    "import pandas as pd\n",
    "import numpy as np\n",
    "import pickle\n",
    "\n",
    "train = pd.read_csv('../data/train.csv')\n",
    "dev = pd.read_csv('../data/dev.csv')\n",
    "test = pd.read_csv('../data/test_no_label.csv')\n",
    "train_dev = train.append(dev)"
   ]
  },
  {
   "cell_type": "code",
   "execution_count": 2,
   "metadata": {},
   "outputs": [],
   "source": [
    "# all of this code is taken from other notebooks and modified for combining train and dev"
   ]
  },
  {
   "cell_type": "code",
   "execution_count": 3,
   "metadata": {},
   "outputs": [],
   "source": [
    "train_ex = list(train_dev.ex_id)\n",
    "test_ex = list(test.ex_id)\n",
    "combined = pd.concat([train_dev, test], axis=0)\n",
    "\n",
    "def engineered_df(df):\n",
    "    rolling_rev = []\n",
    "    user_dict = {}\n",
    "    for index,row in df.iterrows():\n",
    "        curr_date = row['date']\n",
    "        curr_user = row['user_id']\n",
    "        \n",
    "        if(curr_user not in user_dict):\n",
    "            dates = df.loc[df.user_id == curr_user,'date'].tolist()\n",
    "            dates.sort()\n",
    "            user_dict[curr_user] = dates\n",
    "        index = user_dict[curr_user].index(curr_date)\n",
    "        \n",
    "        rolling_rev.append(index)\n",
    "        \n",
    "    df['reviewsToDate'] = rolling_rev\n",
    "    return df\n",
    "\n",
    "combined = engineered_df(combined)\n",
    "\n",
    "train_dev = combined[combined['ex_id'].isin(train_ex)]\n",
    "test = combined[combined['ex_id'].isin(test_ex)]"
   ]
  },
  {
   "cell_type": "code",
   "execution_count": 4,
   "metadata": {},
   "outputs": [],
   "source": [
    "def downsample(df, pct_pos):\n",
    "    ''' \n",
    "    Borrowed from earlier project: https://github.com/kelseymarkey/\n",
    "    cook-county-mental-health-prediction/blob/master/Final_Data_Prep.py\n",
    "\n",
    "    takes in df and a percentage from 1 to 50\n",
    "    samples all label==1 cases, then samples from label==0 cases \n",
    "    until downsampled_df has pct_pos % positive cases, returns indices.\n",
    "    '''\n",
    "    # split into df by label\n",
    "    label_1 = df[df['label'] == 1]\n",
    "    label_0 = df[df['label'] == 0]\n",
    "\n",
    "    #count number of pos\n",
    "    count_label_1 = len(label_1)\n",
    "\n",
    "    #compute number of negative cases to sample\n",
    "    num_label_0 = count_label_1 * int(round((100 - pct_pos) / pct_pos))\n",
    "\n",
    "    #sample from negative cases\n",
    "    label_0_sample = label_0.sample(n=num_label_0, random_state=22)\n",
    "\n",
    "    #append sampled negative cases to all positive cases\n",
    "    downsampled_df = label_1.append(label_0_sample)\n",
    "\n",
    "    return list(downsampled_df.index)"
   ]
  },
  {
   "cell_type": "code",
   "execution_count": 5,
   "metadata": {},
   "outputs": [],
   "source": [
    "downsampled_idx_train = downsample(train_dev, 50)"
   ]
  },
  {
   "cell_type": "code",
   "execution_count": 6,
   "metadata": {},
   "outputs": [],
   "source": [
    "train_dev = train_dev.loc[downsampled_idx_train]"
   ]
  },
  {
   "cell_type": "code",
   "execution_count": 7,
   "metadata": {},
   "outputs": [],
   "source": [
    "from nltk.stem import PorterStemmer\n",
    "from sklearn.feature_extraction.text import CountVectorizer, TfidfVectorizer\n",
    "\n",
    "class StemmedDict(dict):\n",
    "    def __missing__(self, key):\n",
    "        res = self[key] = port.stem(key)\n",
    "        return res\n",
    "\n",
    "stemmed = StemmedDict()\n",
    "port = PorterStemmer()\n",
    "analyzer_2 = CountVectorizer(stop_words='english',\n",
    "                             ngram_range=(1, 2)).build_analyzer()\n",
    "analyzer_3 = CountVectorizer(stop_words='english',\n",
    "                             ngram_range=(1, 3)).build_analyzer()\n",
    "\n",
    "def stem_words_2(doc):\n",
    "    return [' '.join([stemmed[word] for word in ngram.split()])\n",
    "            for ngram in analyzer_2(doc)]\n",
    "\n",
    "def stem_words_3(doc):\n",
    "    return [' '.join([stemmed[word] for word in ngram.split()])\n",
    "            for ngram in analyzer_3(doc)]"
   ]
  },
  {
   "cell_type": "code",
   "execution_count": 8,
   "metadata": {},
   "outputs": [],
   "source": [
    "tf_2 = TfidfVectorizer(analyzer=stem_words_2)\n",
    "tf_3 = TfidfVectorizer(analyzer=stem_words_3)"
   ]
  },
  {
   "cell_type": "code",
   "execution_count": 9,
   "metadata": {},
   "outputs": [
    {
     "data": {
      "text/plain": [
       "TfidfVectorizer(analyzer=<function stem_words_3 at 0x000001890D8CA950>,\n",
       "                binary=False, decode_error='strict',\n",
       "                dtype=<class 'numpy.float64'>, encoding='utf-8',\n",
       "                input='content', lowercase=True, max_df=1.0, max_features=None,\n",
       "                min_df=1, ngram_range=(1, 1), norm='l2', preprocessor=None,\n",
       "                smooth_idf=True, stop_words=None, strip_accents=None,\n",
       "                sublinear_tf=False, token_pattern='(?u)\\\\b\\\\w\\\\w+\\\\b',\n",
       "                tokenizer=None, use_idf=True, vocabulary=None)"
      ]
     },
     "execution_count": 9,
     "metadata": {},
     "output_type": "execute_result"
    }
   ],
   "source": [
    "tf_2.fit(train_dev['review'])\n",
    "tf_3.fit(train_dev['review'])"
   ]
  },
  {
   "cell_type": "code",
   "execution_count": 10,
   "metadata": {},
   "outputs": [
    {
     "name": "stdout",
     "output_type": "stream",
     "text": [
      "finished tf_2\n",
      "finished tf_3\n"
     ]
    }
   ],
   "source": [
    "traindev_transformed_2 = tf_2.transform(train_dev['review'])\n",
    "print(f'finished tf_2')\n",
    "\n",
    "with open(f'../data/traindev_tfidf_vectorized_2.pckl', 'wb') as f:\n",
    "    pickle.dump(traindev_transformed_2, f)\n",
    "    \n",
    "traindev_transformed_3 = tf_3.transform(train_dev['review'])\n",
    "print(f'finished tf_3')\n",
    "\n",
    "with open(f'../data/traindev_tfidf_vectorized_3.pckl', 'wb') as f:\n",
    "    pickle.dump(traindev_transformed_3, f)"
   ]
  },
  {
   "cell_type": "code",
   "execution_count": 11,
   "metadata": {},
   "outputs": [],
   "source": [
    "num_exclam = pd.Series(train_dev['review'].str.count('!'))\n",
    "\n",
    "num_caps = (train_dev['review'].str.extractall(r'(\\b[A-Z]{2,}\\b)') # extract all capitalized words with len >= 2\n",
    "                               .groupby(level=0).size()                         # count by each index\n",
    "                               .reindex(train_dev['review'].index, fill_value=0))     # fill the missing with 0"
   ]
  },
  {
   "cell_type": "code",
   "execution_count": 12,
   "metadata": {},
   "outputs": [],
   "source": [
    "train_dev_rating = train_dev['rating']"
   ]
  },
  {
   "cell_type": "code",
   "execution_count": 13,
   "metadata": {},
   "outputs": [
    {
     "data": {
      "text/plain": [
       "((73482, 4047741), (73482,))"
      ]
     },
     "execution_count": 13,
     "metadata": {},
     "output_type": "execute_result"
    }
   ],
   "source": [
    "traindev_transformed_3.shape, train_dev_rating.shape"
   ]
  },
  {
   "cell_type": "code",
   "execution_count": 14,
   "metadata": {},
   "outputs": [],
   "source": [
    "from scipy import sparse\n",
    "\n",
    "caps = num_caps.copy()\n",
    "exclam = num_exclam.copy()\n",
    "rev_counts = train_dev['reviewsToDate'].copy()\n",
    "ratings = train_dev_rating.copy()\n",
    "\n",
    "caps = caps.values.reshape(-1, 1)\n",
    "exclam = exclam.values.reshape(-1, 1)\n",
    "rev_counts = rev_counts.values.reshape(-1, 1)\n",
    "ratings = ratings.values.reshape(-1, 1)"
   ]
  },
  {
   "cell_type": "code",
   "execution_count": 15,
   "metadata": {},
   "outputs": [
    {
     "data": {
      "text/plain": [
       "((73482, 1240492),\n",
       " (73482, 1),\n",
       " (73482, 1),\n",
       " (73482, 1),\n",
       " (73482, 1),\n",
       " (73482, 4047741))"
      ]
     },
     "execution_count": 15,
     "metadata": {},
     "output_type": "execute_result"
    }
   ],
   "source": [
    "traindev_transformed_2.shape, caps.shape, exclam.shape, rev_counts.shape, ratings.shape, traindev_transformed_3.shape"
   ]
  },
  {
   "cell_type": "code",
   "execution_count": 16,
   "metadata": {},
   "outputs": [
    {
     "name": "stdout",
     "output_type": "stream",
     "text": [
      "98489\n"
     ]
    }
   ],
   "source": [
    "full_data_2 = sparse.hstack((traindev_transformed_2,\n",
    "                             sparse.csr_matrix(caps),\n",
    "                             sparse.csr_matrix(exclam),\n",
    "                             sparse.csr_matrix(rev_counts),\n",
    "                             sparse.csr_matrix(ratings),\n",
    "                             ))\n",
    "\n",
    "full_data_3 = sparse.hstack((traindev_transformed_3,\n",
    "                             sparse.csr_matrix(caps),\n",
    "                             sparse.csr_matrix(exclam),\n",
    "                             sparse.csr_matrix(rev_counts),\n",
    "                             sparse.csr_matrix(ratings),\n",
    "                             ))\n",
    "\n",
    "# for some reason, this isn't an actual CSR matrix...\n",
    "full_data_2 = full_data_2.tocsr()\n",
    "full_data_3 = full_data_3.tocsr()\n",
    "\n",
    "sums = (traindev_transformed_2 > 0).sum(axis=0)\n",
    "lim = sums.mean()\n",
    "print(np.asarray(sums > lim)[0].sum())\n",
    "sliced_data = full_data_2[:, np.asarray(sums > lim)[0]]\n",
    "\n",
    "with open(f'../data/traindev_tfidf_subsampled_data_3.pckl', 'wb') as f:\n",
    "    pickle.dump(full_data_3, f)\n",
    "\n",
    "with open(f'../data/traindev_tfidf_subsampled_data_sliced_2.pckl', 'wb') as f:\n",
    "    pickle.dump(sliced_data, f)"
   ]
  },
  {
   "cell_type": "code",
   "execution_count": 17,
   "metadata": {},
   "outputs": [],
   "source": [
    "from sklearn.linear_model import LogisticRegression\n",
    "from sklearn.svm import LinearSVC\n",
    "from sklearn.calibration import CalibratedClassifierCV\n",
    "from sklearn.naive_bayes import MultinomialNB\n",
    "\n",
    "with open('../data/best-lr-tfidf.pckl', 'rb') as f:\n",
    "    lr = eval(pickle.load(f).__str__())\n",
    "\n",
    "with open('../data/best_svm_tfidf.pckl', 'rb') as f:\n",
    "    svm = eval(pickle.load(f).__str__())\n",
    "\n",
    "with open('../data/best_mnb_tfidf.pckl', 'rb') as f:\n",
    "    mnb = eval(pickle.load(f).__str__())"
   ]
  },
  {
   "cell_type": "code",
   "execution_count": 18,
   "metadata": {},
   "outputs": [
    {
     "data": {
      "text/plain": [
       "((73482, 4047745), (73482, 98489))"
      ]
     },
     "execution_count": 18,
     "metadata": {},
     "output_type": "execute_result"
    }
   ],
   "source": [
    "full_data_3.shape, sliced_data.shape"
   ]
  },
  {
   "cell_type": "code",
   "execution_count": 19,
   "metadata": {},
   "outputs": [
    {
     "data": {
      "text/plain": [
       "LogisticRegression(C=0.49500509740190507, class_weight=None, dual=False,\n",
       "                   fit_intercept=True, intercept_scaling=1, l1_ratio=None,\n",
       "                   max_iter=500, multi_class='auto', n_jobs=None, penalty='l2',\n",
       "                   random_state=0, solver='newton-cg', tol=0.0001, verbose=0,\n",
       "                   warm_start=False)"
      ]
     },
     "execution_count": 19,
     "metadata": {},
     "output_type": "execute_result"
    }
   ],
   "source": [
    "lr.fit(sliced_data, train_dev['label'])"
   ]
  },
  {
   "cell_type": "code",
   "execution_count": 20,
   "metadata": {},
   "outputs": [
    {
     "name": "stderr",
     "output_type": "stream",
     "text": [
      "c:\\python37\\lib\\site-packages\\sklearn\\svm\\_base.py:947: ConvergenceWarning: Liblinear failed to converge, increase the number of iterations.\n",
      "  \"the number of iterations.\", ConvergenceWarning)\n",
      "c:\\python37\\lib\\site-packages\\sklearn\\svm\\_base.py:947: ConvergenceWarning: Liblinear failed to converge, increase the number of iterations.\n",
      "  \"the number of iterations.\", ConvergenceWarning)\n",
      "c:\\python37\\lib\\site-packages\\sklearn\\svm\\_base.py:947: ConvergenceWarning: Liblinear failed to converge, increase the number of iterations.\n",
      "  \"the number of iterations.\", ConvergenceWarning)\n",
      "c:\\python37\\lib\\site-packages\\sklearn\\svm\\_base.py:947: ConvergenceWarning: Liblinear failed to converge, increase the number of iterations.\n",
      "  \"the number of iterations.\", ConvergenceWarning)\n",
      "c:\\python37\\lib\\site-packages\\sklearn\\svm\\_base.py:947: ConvergenceWarning: Liblinear failed to converge, increase the number of iterations.\n",
      "  \"the number of iterations.\", ConvergenceWarning)\n"
     ]
    },
    {
     "data": {
      "text/plain": [
       "CalibratedClassifierCV(base_estimator=LinearSVC(C=0.020329421573461483,\n",
       "                                                class_weight=None, dual=True,\n",
       "                                                fit_intercept=True,\n",
       "                                                intercept_scaling=1,\n",
       "                                                loss='squared_hinge',\n",
       "                                                max_iter=1000,\n",
       "                                                multi_class='ovr', penalty='l2',\n",
       "                                                random_state=None, tol=0.0001,\n",
       "                                                verbose=0),\n",
       "                       cv=None, method='sigmoid')"
      ]
     },
     "execution_count": 20,
     "metadata": {},
     "output_type": "execute_result"
    }
   ],
   "source": [
    "svm.fit(full_data_3, train_dev['label'])"
   ]
  },
  {
   "cell_type": "code",
   "execution_count": 21,
   "metadata": {},
   "outputs": [
    {
     "data": {
      "text/plain": [
       "MultinomialNB(alpha=0.17693089816649998, class_prior=None, fit_prior=True)"
      ]
     },
     "execution_count": 21,
     "metadata": {},
     "output_type": "execute_result"
    }
   ],
   "source": [
    "mnb.fit(full_data_3, train_dev['label'])"
   ]
  },
  {
   "cell_type": "code",
   "execution_count": 22,
   "metadata": {},
   "outputs": [],
   "source": [
    "with open('../data/best_lr_retrained_tfidf.pckl', 'wb') as f:\n",
    "    pickle.dump(lr, f)\n",
    "\n",
    "with open('../data/best_svm_retrained_tfidf.pckl', 'wb') as f:\n",
    "    pickle.dump(svm, f)\n",
    "\n",
    "with open('../data/best_mnb_retrained_tfidf.pckl', 'wb') as f:\n",
    "    pickle.dump(mnb, f)"
   ]
  },
  {
   "cell_type": "code",
   "execution_count": 23,
   "metadata": {},
   "outputs": [],
   "source": [
    "num_exclam_test = pd.Series(test['review'].str.count('!'))\n",
    "\n",
    "num_caps_test = (test['review'].str.extractall(r'(\\b[A-Z]{2,}\\b)') # extract all capitalized words with len >= 2\n",
    "                               .groupby(level=0).size()                         # count by each index\n",
    "                               .reindex(test['review'].index, fill_value=0))     # fill the missing with 0"
   ]
  },
  {
   "cell_type": "code",
   "execution_count": 24,
   "metadata": {},
   "outputs": [],
   "source": [
    "test_rating = test['rating']"
   ]
  },
  {
   "cell_type": "code",
   "execution_count": 26,
   "metadata": {},
   "outputs": [
    {
     "name": "stdout",
     "output_type": "stream",
     "text": [
      "finished tf_2\n",
      "finished tf_3\n"
     ]
    }
   ],
   "source": [
    "test_transformed_2 = tf_2.transform(test['review'])\n",
    "print(f'finished tf_2')\n",
    "\n",
    "with open(f'../data/test_tfidf_vectorized_2.pckl', 'wb') as f:\n",
    "    pickle.dump(test_transformed_2, f)\n",
    "    \n",
    "test_transformed_3 = tf_3.transform(test['review'])\n",
    "print(f'finished tf_3')\n",
    "\n",
    "with open(f'../data/test_tfidf_vectorized_3.pckl', 'wb') as f:\n",
    "    pickle.dump(test_transformed_3, f)"
   ]
  },
  {
   "cell_type": "code",
   "execution_count": 27,
   "metadata": {},
   "outputs": [],
   "source": [
    "caps = num_caps_test.copy()\n",
    "exclam = num_exclam_test.copy()\n",
    "rev_counts = test['reviewsToDate'].copy()\n",
    "ratings = test_rating.copy()\n",
    "\n",
    "caps = caps.values.reshape(-1, 1)\n",
    "exclam = exclam.values.reshape(-1, 1)\n",
    "rev_counts = rev_counts.values.reshape(-1, 1)\n",
    "ratings = ratings.values.reshape(-1, 1)"
   ]
  },
  {
   "cell_type": "code",
   "execution_count": 28,
   "metadata": {},
   "outputs": [
    {
     "data": {
      "text/plain": [
       "((72165, 1240492),\n",
       " (72165, 1),\n",
       " (72165, 1),\n",
       " (72165, 1),\n",
       " (72165, 1),\n",
       " (72165, 4047741))"
      ]
     },
     "execution_count": 28,
     "metadata": {},
     "output_type": "execute_result"
    }
   ],
   "source": [
    "test_transformed_2.shape, caps.shape, exclam.shape, rev_counts.shape, ratings.shape, test_transformed_3.shape"
   ]
  },
  {
   "cell_type": "code",
   "execution_count": 29,
   "metadata": {},
   "outputs": [
    {
     "name": "stdout",
     "output_type": "stream",
     "text": [
      "98489\n"
     ]
    }
   ],
   "source": [
    "full_data_2 = sparse.hstack((test_transformed_2,\n",
    "                             sparse.csr_matrix(caps),\n",
    "                             sparse.csr_matrix(exclam),\n",
    "                             sparse.csr_matrix(rev_counts),\n",
    "                             sparse.csr_matrix(ratings),\n",
    "                             ))\n",
    "\n",
    "full_data_3 = sparse.hstack((test_transformed_3,\n",
    "                             sparse.csr_matrix(caps),\n",
    "                             sparse.csr_matrix(exclam),\n",
    "                             sparse.csr_matrix(rev_counts),\n",
    "                             sparse.csr_matrix(ratings),\n",
    "                             ))\n",
    "\n",
    "# for some reason, this isn't an actual CSR matrix...\n",
    "full_data_2 = full_data_2.tocsr()\n",
    "full_data_3 = full_data_3.tocsr()\n",
    "\n",
    "sums = (traindev_transformed_2 > 0).sum(axis=0)\n",
    "lim = sums.mean()\n",
    "print(np.asarray(sums > lim)[0].sum())\n",
    "sliced_data = full_data_2[:, np.asarray(sums > lim)[0]]\n",
    "\n",
    "with open(f'../data/test_tfidf_subsampled_data_3.pckl', 'wb') as f:\n",
    "    pickle.dump(full_data_3, f)\n",
    "\n",
    "with open(f'../data/test_tfidf_subsampled_data_sliced_2.pckl', 'wb') as f:\n",
    "    pickle.dump(sliced_data, f)"
   ]
  },
  {
   "cell_type": "code",
   "execution_count": null,
   "metadata": {},
   "outputs": [],
   "source": []
  }
 ],
 "metadata": {
  "kernelspec": {
   "display_name": "Python 3",
   "language": "python",
   "name": "python3"
  },
  "language_info": {
   "codemirror_mode": {
    "name": "ipython",
    "version": 3
   },
   "file_extension": ".py",
   "mimetype": "text/x-python",
   "name": "python",
   "nbconvert_exporter": "python",
   "pygments_lexer": "ipython3",
   "version": "3.7.0"
  }
 },
 "nbformat": 4,
 "nbformat_minor": 2
}
