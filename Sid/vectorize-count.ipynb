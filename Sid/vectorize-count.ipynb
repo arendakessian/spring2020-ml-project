{
 "cells": [
  {
   "cell_type": "code",
   "execution_count": 1,
   "metadata": {},
   "outputs": [],
   "source": [
    "from sklearn.feature_extraction.text import CountVectorizer, TfidfVectorizer, HashingVectorizer\n",
    "import pandas as pd\n",
    "import numpy as np\n",
    "import pickle"
   ]
  },
  {
   "cell_type": "code",
   "execution_count": 2,
   "metadata": {},
   "outputs": [],
   "source": [
    "train = pd.read_csv('../data/train.csv')"
   ]
  },
  {
   "cell_type": "code",
   "execution_count": 3,
   "metadata": {},
   "outputs": [],
   "source": [
    "dev = pd.read_csv('../data/dev.csv')"
   ]
  },
  {
   "cell_type": "code",
   "execution_count": null,
   "metadata": {},
   "outputs": [],
   "source": [
    "with open('../data/idx_train.pckl', 'rb') as f:\n",
    "    indices = pickle.load(f)"
   ]
  },
  {
   "cell_type": "code",
   "execution_count": null,
   "metadata": {},
   "outputs": [],
   "source": [
    "train = train.loc[indices]"
   ]
  },
  {
   "cell_type": "code",
   "execution_count": 4,
   "metadata": {},
   "outputs": [],
   "source": [
    "from nltk.stem import PorterStemmer\n",
    "\n",
    "class StemmedDict(dict):\n",
    "    def __missing__(self, key):\n",
    "        res = self[key] = port.stem(key)\n",
    "        return res\n",
    "\n",
    "stemmed = StemmedDict()\n",
    "port = PorterStemmer()\n",
    "analyzer = CountVectorizer(stop_words='english',\n",
    "                           ngram_range=(1, 3)).build_analyzer()\n",
    "\n",
    "def stem_words(doc):\n",
    "    return [' '.join([stemmed[word] for word in ngram.split()])\n",
    "            for ngram in analyzer(doc)]"
   ]
  },
  {
   "cell_type": "code",
   "execution_count": 5,
   "metadata": {},
   "outputs": [],
   "source": [
    "n_feature_hashes = 2 ** 23  # we have at least 13m ngrams so we have a lot of collisions if taking 2^20\n",
    "\n",
    "cv = CountVectorizer(analyzer=stem_words)\n",
    "tf = TfidfVectorizer(analyzer=stem_words)\n",
    "hs = HashingVectorizer(analyzer=stem_words,\n",
    "                       n_features=n_feature_hashes)\n",
    "bn = CountVectorizer(analyzer=stem_words, binary=True)  # binary version\n",
    "hs_bn = HashingVectorizer(analyzer=stem_words,\n",
    "                          binary=True,\n",
    "                          n_features=n_feature_hashes)\n",
    "\n",
    "vectorizers = {'count': cv,\n",
    "               'tfidf': tf,\n",
    "               'hashing': hs,\n",
    "               'binary': bn,\n",
    "               'hashing_binary': hs_bn,\n",
    "               }"
   ]
  },
  {
   "cell_type": "code",
   "execution_count": 6,
   "metadata": {
    "scrolled": true
   },
   "outputs": [
    {
     "name": "stdout",
     "output_type": "stream",
     "text": [
      "finished count\n",
      "finished tfidf\n",
      "finished hashing\n",
      "finished binary\n",
      "finished hashing_binary\n"
     ]
    }
   ],
   "source": [
    "for name, vectorizer in vectorizers.items():\n",
    "    train_transformed = vectorizer.fit_transform(train['review'])\n",
    "    print(f'finished {name}')\n",
    "\n",
    "    with open(f'../data/train_{name}_vectorized.pckl', 'wb') as f:\n",
    "        pickle.dump(train_transformed, f)\n",
    "    del train_transformed"
   ]
  },
  {
   "cell_type": "code",
   "execution_count": 7,
   "metadata": {},
   "outputs": [
    {
     "name": "stdout",
     "output_type": "stream",
     "text": [
      "finished count\n",
      "finished tfidf\n",
      "finished hashing\n",
      "finished binary\n",
      "finished hashing_binary\n"
     ]
    }
   ],
   "source": [
    "for name, vectorizer in vectorizers.items():\n",
    "    dev_transformed = vectorizer.transform(dev['review'])\n",
    "    print(f'finished {name}')\n",
    "\n",
    "    with open(f'../data/dev_{name}_vectorized.pckl', 'wb') as f:\n",
    "        pickle.dump(dev_transformed, f)\n",
    "    del dev_transformed"
   ]
  },
  {
   "cell_type": "code",
   "execution_count": 8,
   "metadata": {},
   "outputs": [],
   "source": [
    "with open('../data/train_labels.pckl', 'wb') as f:\n",
    "    pickle.dump(train['label'], f)\n",
    "    \n",
    "with open('../data/dev_labels.pckl', 'wb') as f:\n",
    "    pickle.dump(dev['label'], f)"
   ]
  },
  {
   "cell_type": "code",
   "execution_count": 9,
   "metadata": {},
   "outputs": [],
   "source": [
    "with open('../data/vectorizers.pckl', 'wb') as f:\n",
    "    # pickle.dump(vectorizers, f)\n",
    "    pass  # ends up being a 2gb file. lol"
   ]
  }
 ],
 "metadata": {
  "kernelspec": {
   "display_name": "Python 3",
   "language": "python",
   "name": "python3"
  },
  "language_info": {
   "codemirror_mode": {
    "name": "ipython",
    "version": 3
   },
   "file_extension": ".py",
   "mimetype": "text/x-python",
   "name": "python",
   "nbconvert_exporter": "python",
   "pygments_lexer": "ipython3",
   "version": "3.7.0"
  }
 },
 "nbformat": 4,
 "nbformat_minor": 2
}
