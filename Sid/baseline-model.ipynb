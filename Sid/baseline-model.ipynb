{
 "cells": [
  {
   "cell_type": "code",
   "execution_count": 1,
   "metadata": {},
   "outputs": [
    {
     "data": {
      "text/plain": [
       "['dev_binary_full_data.pckl',\n",
       " 'dev_count_full_data.pckl',\n",
       " 'dev_hashing_binary_full_data.pckl',\n",
       " 'dev_hashing_full_data.pckl',\n",
       " 'dev_tfidf_full_data.pckl',\n",
       " 'train_binary_full_data.pckl',\n",
       " 'train_count_full_data.pckl',\n",
       " 'train_hashing_binary_full_data.pckl',\n",
       " 'train_hashing_full_data.pckl',\n",
       " 'train_tfidf_full_data.pckl']"
      ]
     },
     "execution_count": 1,
     "metadata": {},
     "output_type": "execute_result"
    }
   ],
   "source": [
    "import os\n",
    "[x for x in os.listdir('../data') if 'full_data' in x]"
   ]
  },
  {
   "cell_type": "code",
   "execution_count": 2,
   "metadata": {},
   "outputs": [],
   "source": [
    "# following issue #5\n",
    "\n",
    "# Naïve Bayes classifier; simple, out-of-the-box RF;\n",
    "# simple heuristics e.g. \"if a user has more than 4 reviews, it's a real review\""
   ]
  },
  {
   "cell_type": "code",
   "execution_count": 3,
   "metadata": {},
   "outputs": [],
   "source": [
    "import pickle\n",
    "import pandas as pd"
   ]
  },
  {
   "cell_type": "code",
   "execution_count": 4,
   "metadata": {},
   "outputs": [],
   "source": [
    "with open('../data/train_binary_full_data.pckl', 'rb') as f:\n",
    "    train = pickle.load(f)\n",
    "with open('../data/dev_binary_full_data.pckl', 'rb') as f:\n",
    "    dev = pickle.load(f)"
   ]
  },
  {
   "cell_type": "code",
   "execution_count": 5,
   "metadata": {},
   "outputs": [],
   "source": [
    "train = train.tocsr()\n",
    "dev = dev.tocsr()"
   ]
  },
  {
   "cell_type": "code",
   "execution_count": 6,
   "metadata": {},
   "outputs": [
    {
     "data": {
      "text/plain": [
       "array([[29.],\n",
       "       [ 0.],\n",
       "       [ 0.],\n",
       "       [ 0.],\n",
       "       [ 1.]])"
      ]
     },
     "execution_count": 6,
     "metadata": {},
     "output_type": "execute_result"
    }
   ],
   "source": [
    "reviews = train[:, -2].A\n",
    "reviews[:5]"
   ]
  },
  {
   "cell_type": "code",
   "execution_count": 7,
   "metadata": {},
   "outputs": [
    {
     "data": {
      "text/plain": [
       "array([[ 0.],\n",
       "       [ 7.],\n",
       "       [ 0.],\n",
       "       [ 3.],\n",
       "       [16.]])"
      ]
     },
     "execution_count": 7,
     "metadata": {},
     "output_type": "execute_result"
    }
   ],
   "source": [
    "dev_reviews = dev[:, -2].A\n",
    "dev_reviews[:5]"
   ]
  },
  {
   "cell_type": "code",
   "execution_count": 8,
   "metadata": {},
   "outputs": [
    {
     "data": {
      "text/plain": [
       "array([[3.],\n",
       "       [3.],\n",
       "       [4.],\n",
       "       [4.],\n",
       "       [4.]])"
      ]
     },
     "execution_count": 8,
     "metadata": {},
     "output_type": "execute_result"
    }
   ],
   "source": [
    "ratings = train[:, -1].A\n",
    "ratings[:5]"
   ]
  },
  {
   "cell_type": "code",
   "execution_count": 9,
   "metadata": {},
   "outputs": [],
   "source": [
    "with open('../data/train_labels.pckl', 'rb') as f:\n",
    "    train_labels = pickle.load(f)\n",
    "\n",
    "with open('../data/dev_labels.pckl', 'rb') as f:\n",
    "    dev_labels = pickle.load(f)"
   ]
  },
  {
   "cell_type": "markdown",
   "metadata": {},
   "source": [
    "## Heuristics classifier"
   ]
  },
  {
   "cell_type": "code",
   "execution_count": 10,
   "metadata": {},
   "outputs": [],
   "source": [
    "train_df = pd.DataFrame(zip(reviews.flatten(), train_labels), columns=['review count', 'label'])\n",
    "dev_df = pd.DataFrame(zip(dev_reviews.flatten(), dev_labels), columns=['review count', 'label'])"
   ]
  },
  {
   "cell_type": "code",
   "execution_count": 11,
   "metadata": {},
   "outputs": [
    {
     "data": {
      "text/plain": [
       "(0, 15)"
      ]
     },
     "execution_count": 11,
     "metadata": {},
     "output_type": "execute_result"
    },
    {
     "data": {
      "image/png": "[encoded data removed]",
      "text/plain": [
       "<Figure size 432x288 with 1 Axes>"
      ]
     },
     "metadata": {},
     "output_type": "display_data"
    }
   ],
   "source": [
    "import seaborn as sns\n",
    "import matplotlib.pyplot as plt\n",
    "%matplotlib inline\n",
    "\n",
    "train_grouped = train_df.groupby(['review count'], as_index=False).agg({'label': 'mean'})\n",
    "sns.barplot(x='review count', y='label', data=train_grouped)\n",
    "plt.plot([0, 15], [0.02, 0.02], 'k--')  # dashed line at 2%\n",
    "plt.xlim([0, 15])"
   ]
  },
  {
   "cell_type": "code",
   "execution_count": 12,
   "metadata": {},
   "outputs": [],
   "source": [
    "# simple heuristics classifier\n",
    "\n",
    "def heuristic_baseline(x):\n",
    "    return (x['review count'] <= 2).astype(int)\n",
    "\n",
    "heuristic_train = heuristic_baseline(train_df)\n",
    "heuristic_dev = heuristic_baseline(dev_df)"
   ]
  },
  {
   "cell_type": "code",
   "execution_count": 13,
   "metadata": {},
   "outputs": [],
   "source": [
    "from sklearn.metrics import average_precision_score, roc_auc_score"
   ]
  },
  {
   "cell_type": "code",
   "execution_count": 14,
   "metadata": {},
   "outputs": [
    {
     "name": "stdout",
     "output_type": "stream",
     "text": [
      "Simple heuristic baseline\n",
      "Train AUC: 0.6218\n",
      "Dev   AUC: 0.6235\n",
      "Train AP:  0.1321\n",
      "Dev   AP:  0.1310\n"
     ]
    }
   ],
   "source": [
    "heuristic_train_auc = roc_auc_score(train_labels, heuristic_train)\n",
    "heuristic_dev_auc = roc_auc_score(dev_labels, heuristic_dev)\n",
    "heuristic_train_ap = average_precision_score(train_labels, heuristic_train)\n",
    "heuristic_dev_ap = average_precision_score(dev_labels, heuristic_dev)\n",
    "\n",
    "print('Simple heuristic baseline')\n",
    "print(f'Train AUC: {heuristic_train_auc:.4f}\\n'\n",
    "      f'Dev   AUC: {heuristic_dev_auc:.4f}\\n'\n",
    "      f'Train AP:  {heuristic_train_ap:.4f}\\n'\n",
    "      f'Dev   AP:  {heuristic_dev_ap:.4f}')"
   ]
  },
  {
   "cell_type": "markdown",
   "metadata": {},
   "source": [
    "## NB Classifier"
   ]
  },
  {
   "cell_type": "code",
   "execution_count": 15,
   "metadata": {},
   "outputs": [],
   "source": [
    "from sklearn.naive_bayes import MultinomialNB"
   ]
  },
  {
   "cell_type": "code",
   "execution_count": 16,
   "metadata": {},
   "outputs": [
    {
     "data": {
      "text/plain": [
       "MultinomialNB(alpha=1.0, class_prior=None, fit_prior=True)"
      ]
     },
     "execution_count": 16,
     "metadata": {},
     "output_type": "execute_result"
    }
   ],
   "source": [
    "nb = MultinomialNB()  # standard laplace smoothing is fine\n",
    "nb.fit(train, train_labels)"
   ]
  },
  {
   "cell_type": "code",
   "execution_count": 17,
   "metadata": {},
   "outputs": [],
   "source": [
    "nb_train = nb.predict(train)\n",
    "nb_dev = nb.predict(dev)"
   ]
  },
  {
   "cell_type": "code",
   "execution_count": 18,
   "metadata": {},
   "outputs": [
    {
     "name": "stdout",
     "output_type": "stream",
     "text": [
      "NB baseline\n",
      "Train AUC: 0.6106\n",
      "Dev   AUC: 0.5015\n",
      "Train AP:  0.3008\n",
      "Dev   AP:  0.1040\n"
     ]
    }
   ],
   "source": [
    "nb_train_auc = roc_auc_score(train_labels, nb_train)\n",
    "nb_dev_auc = roc_auc_score(dev_labels, nb_dev)\n",
    "nb_train_ap = average_precision_score(train_labels, nb_train)\n",
    "nb_dev_ap = average_precision_score(dev_labels, nb_dev)\n",
    "\n",
    "print('NB baseline')\n",
    "print(f'Train AUC: {nb_train_auc:.4f}\\n'\n",
    "      f'Dev   AUC: {nb_dev_auc:.4f}\\n'\n",
    "      f'Train AP:  {nb_train_ap:.4f}\\n'\n",
    "      f'Dev   AP:  {nb_dev_ap:.4f}')"
   ]
  },
  {
   "cell_type": "code",
   "execution_count": 19,
   "metadata": {},
   "outputs": [
    {
     "data": {
      "text/plain": [
       "1.0"
      ]
     },
     "execution_count": 19,
     "metadata": {},
     "output_type": "execute_result"
    }
   ],
   "source": [
    "# higher is better:\n",
    "average_precision_score(train_labels, train_labels)"
   ]
  },
  {
   "cell_type": "markdown",
   "metadata": {},
   "source": [
    "## RF Classifier"
   ]
  },
  {
   "cell_type": "code",
   "execution_count": 20,
   "metadata": {},
   "outputs": [],
   "source": [
    "from sklearn.ensemble import RandomForestClassifier"
   ]
  },
  {
   "cell_type": "code",
   "execution_count": 38,
   "metadata": {},
   "outputs": [
    {
     "name": "stderr",
     "output_type": "stream",
     "text": [
      "[Parallel(n_jobs=-1)]: Using backend ThreadingBackend with 12 concurrent workers.\n",
      "[Parallel(n_jobs=-1)]: Done  48 out of  48 | elapsed:  4.9min finished\n"
     ]
    },
    {
     "data": {
      "text/plain": [
       "RandomForestClassifier(bootstrap=True, ccp_alpha=0.0, class_weight=None,\n",
       "                       criterion='gini', max_depth=2000, max_features='log2',\n",
       "                       max_leaf_nodes=None, max_samples=None,\n",
       "                       min_impurity_decrease=0.0, min_impurity_split=None,\n",
       "                       min_samples_leaf=1, min_samples_split=2,\n",
       "                       min_weight_fraction_leaf=0.0, n_estimators=48, n_jobs=-1,\n",
       "                       oob_score=False, random_state=0, verbose=1,\n",
       "                       warm_start=False)"
      ]
     },
     "execution_count": 38,
     "metadata": {},
     "output_type": "execute_result"
    }
   ],
   "source": [
    "# i would like to finish training someday soon\n",
    "rf = RandomForestClassifier(n_estimators=48,\n",
    "                            random_state=0,\n",
    "                            n_jobs=-1,\n",
    "                            max_features='log2',\n",
    "                            verbose=1,\n",
    "                            max_depth=2000,\n",
    "                            )\n",
    "\n",
    "rf.fit(train, train_labels)"
   ]
  },
  {
   "cell_type": "code",
   "execution_count": 39,
   "metadata": {},
   "outputs": [
    {
     "name": "stderr",
     "output_type": "stream",
     "text": [
      "[Parallel(n_jobs=12)]: Using backend ThreadingBackend with 12 concurrent workers.\n",
      "[Parallel(n_jobs=12)]: Done  48 out of  48 | elapsed:   37.3s finished\n",
      "[Parallel(n_jobs=12)]: Using backend ThreadingBackend with 12 concurrent workers.\n",
      "[Parallel(n_jobs=12)]: Done  48 out of  48 | elapsed:    6.1s finished\n"
     ]
    }
   ],
   "source": [
    "rf_train = rf.predict(train)\n",
    "rf_dev = rf.predict(dev)"
   ]
  },
  {
   "cell_type": "code",
   "execution_count": 40,
   "metadata": {},
   "outputs": [
    {
     "name": "stdout",
     "output_type": "stream",
     "text": [
      "RF baseline\n",
      "Train AUC: 0.5023\n",
      "Dev   AUC: 0.5000\n",
      "Train AP:  0.1071\n",
      "Dev   AP:  0.1016\n"
     ]
    }
   ],
   "source": [
    "rf_train_auc = roc_auc_score(train_labels, rf_train)\n",
    "rf_dev_auc = roc_auc_score(dev_labels, rf_dev)\n",
    "rf_train_ap = average_precision_score(train_labels, rf_train)\n",
    "rf_dev_ap = average_precision_score(dev_labels, rf_dev)\n",
    "\n",
    "print('RF baseline')\n",
    "print(f'Train AUC: {rf_train_auc:.4f}\\n'\n",
    "      f'Dev   AUC: {rf_dev_auc:.4f}\\n'\n",
    "      f'Train AP:  {rf_train_ap:.4f}\\n'\n",
    "      f'Dev   AP:  {rf_dev_ap:.4f}')"
   ]
  },
  {
   "cell_type": "code",
   "execution_count": null,
   "metadata": {},
   "outputs": [],
   "source": []
  }
 ],
 "metadata": {
  "kernelspec": {
   "display_name": "Python 3",
   "language": "python",
   "name": "python3"
  },
  "language_info": {
   "codemirror_mode": {
    "name": "ipython",
    "version": 3
   },
   "file_extension": ".py",
   "mimetype": "text/x-python",
   "name": "python",
   "nbconvert_exporter": "python",
   "pygments_lexer": "ipython3",
   "version": "3.7.0"
  }
 },
 "nbformat": 4,
 "nbformat_minor": 2
}
