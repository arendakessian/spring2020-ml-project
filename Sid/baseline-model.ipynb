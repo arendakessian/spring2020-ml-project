{
 "cells": [
  {
   "cell_type": "code",
   "execution_count": 1,
   "metadata": {},
   "outputs": [],
   "source": [
    "# following issue #5\n",
    "\n",
    "# Naïve Bayes classifier; simple, out-of-the-box RF;\n",
    "# simple heuristics e.g. \"if a user has more than 4 reviews, it's a real review\""
   ]
  },
  {
   "cell_type": "code",
   "execution_count": 2,
   "metadata": {},
   "outputs": [],
   "source": [
    "import pickle\n",
    "import pandas as pd"
   ]
  },
  {
   "cell_type": "code",
   "execution_count": 3,
   "metadata": {},
   "outputs": [],
   "source": [
    "with open('../data/train_binary_downsampled_data.pckl', 'rb') as f:\n",
    "    train = pickle.load(f)\n",
    "with open('../data/dev_binary_downsampled_data.pckl', 'rb') as f:\n",
    "    dev = pickle.load(f)"
   ]
  },
  {
   "cell_type": "code",
   "execution_count": 4,
   "metadata": {},
   "outputs": [
    {
     "data": {
      "text/plain": [
       "array([[29.],\n",
       "       [ 0.],\n",
       "       [ 0.],\n",
       "       [ 0.],\n",
       "       [ 1.]])"
      ]
     },
     "execution_count": 4,
     "metadata": {},
     "output_type": "execute_result"
    }
   ],
   "source": [
    "reviews = train[:, -2].A\n",
    "reviews[:5]"
   ]
  },
  {
   "cell_type": "code",
   "execution_count": 5,
   "metadata": {},
   "outputs": [
    {
     "data": {
      "text/plain": [
       "array([[ 0.],\n",
       "       [ 7.],\n",
       "       [ 0.],\n",
       "       [ 3.],\n",
       "       [16.]])"
      ]
     },
     "execution_count": 5,
     "metadata": {},
     "output_type": "execute_result"
    }
   ],
   "source": [
    "dev_reviews = dev[:, -2].A\n",
    "dev_reviews[:5]"
   ]
  },
  {
   "cell_type": "code",
   "execution_count": 6,
   "metadata": {},
   "outputs": [
    {
     "data": {
      "text/plain": [
       "array([[3.],\n",
       "       [3.],\n",
       "       [4.],\n",
       "       [4.],\n",
       "       [4.]])"
      ]
     },
     "execution_count": 6,
     "metadata": {},
     "output_type": "execute_result"
    }
   ],
   "source": [
    "ratings = train[:, -1].A\n",
    "ratings[:5]"
   ]
  },
  {
   "cell_type": "code",
   "execution_count": 7,
   "metadata": {},
   "outputs": [
    {
     "data": {
      "text/plain": [
       "array([[5.],\n",
       "       [4.],\n",
       "       [5.],\n",
       "       [4.],\n",
       "       [3.]])"
      ]
     },
     "execution_count": 7,
     "metadata": {},
     "output_type": "execute_result"
    }
   ],
   "source": [
    "dev_ratings = dev[:, -1].A\n",
    "dev_ratings[:5]"
   ]
  },
  {
   "cell_type": "code",
   "execution_count": 8,
   "metadata": {},
   "outputs": [],
   "source": [
    "with open('../data/train_labels.pckl', 'rb') as f:\n",
    "    train_labels = pickle.load(f)\n",
    "\n",
    "with open('../data/dev_labels.pckl', 'rb') as f:\n",
    "    dev_labels = pickle.load(f)"
   ]
  },
  {
   "cell_type": "markdown",
   "metadata": {},
   "source": [
    "## Majority class classifier"
   ]
  },
  {
   "cell_type": "code",
   "execution_count": 9,
   "metadata": {},
   "outputs": [
    {
     "name": "stdout",
     "output_type": "stream",
     "text": [
      "Simple majority baseline\n",
      "Train AUC: 0.5000\n",
      "Dev   AUC: 0.5000\n",
      "Train AP:  0.5000\n",
      "Dev   AP:  0.1016\n"
     ]
    }
   ],
   "source": [
    "import numpy as np\n",
    "from sklearn.metrics import average_precision_score, roc_auc_score\n",
    "\n",
    "majority_train = np.zeros(train_labels.shape)\n",
    "majority_dev = np.zeros(dev_labels.shape)\n",
    "\n",
    "majority_train_auc = roc_auc_score(train_labels, majority_train)\n",
    "majority_train_ap = average_precision_score(train_labels, majority_train)\n",
    "majority_dev_auc = roc_auc_score(dev_labels, majority_dev)\n",
    "majority_dev_ap = average_precision_score(dev_labels, majority_dev)\n",
    "\n",
    "print(f'Simple majority baseline')\n",
    "print(f'Train AUC: {majority_train_auc:.4f}\\n'\n",
    "      f'Dev   AUC: {majority_dev_auc:.4f}\\n'\n",
    "      f'Train AP:  {majority_train_ap:.4f}\\n'\n",
    "      f'Dev   AP:  {majority_dev_ap:.4f}')"
   ]
  },
  {
   "cell_type": "code",
   "execution_count": 10,
   "metadata": {},
   "outputs": [
    {
     "data": {
      "text/plain": [
       "0.101564675093268"
      ]
     },
     "execution_count": 10,
     "metadata": {},
     "output_type": "execute_result"
    }
   ],
   "source": [
    "dev_labels.mean()"
   ]
  },
  {
   "cell_type": "markdown",
   "metadata": {},
   "source": [
    "## Heuristics classifier"
   ]
  },
  {
   "cell_type": "code",
   "execution_count": 11,
   "metadata": {},
   "outputs": [],
   "source": [
    "train_df = pd.DataFrame(zip(reviews.flatten(),\n",
    "                            ratings.flatten(),\n",
    "                            train_labels),\n",
    "                        columns=['review count', 'rating', 'label'])\n",
    "dev_df = pd.DataFrame(zip(dev_reviews.flatten(),\n",
    "                          dev_ratings.flatten(),\n",
    "                          dev_labels),\n",
    "                      columns=['review count', 'rating', 'label'])"
   ]
  },
  {
   "cell_type": "code",
   "execution_count": 12,
   "metadata": {},
   "outputs": [
    {
     "data": {
      "text/plain": [
       "(0, 15)"
      ]
     },
     "execution_count": 12,
     "metadata": {},
     "output_type": "execute_result"
    },
    {
     "data": {
      "image/png": "[encoded data removed]",
      "text/plain": [
       "<Figure size 432x288 with 1 Axes>"
      ]
     },
     "metadata": {},
     "output_type": "display_data"
    }
   ],
   "source": [
    "import seaborn as sns\n",
    "import matplotlib.pyplot as plt\n",
    "%matplotlib inline\n",
    "\n",
    "train_grouped = train_df.groupby(['review count'], as_index=False).agg({'label': 'mean'})\n",
    "sns.barplot(x='review count', y='label', data=train_grouped)\n",
    "plt.plot([0, 15], [0.2, 0.2], 'k--')  # dashed line at 2%\n",
    "plt.xlim([0, 15])"
   ]
  },
  {
   "cell_type": "code",
   "execution_count": 13,
   "metadata": {},
   "outputs": [
    {
     "data": {
      "text/plain": [
       "<matplotlib.legend.Legend at 0x200c3ca1978>"
      ]
     },
     "execution_count": 13,
     "metadata": {},
     "output_type": "execute_result"
    },
    {
     "data": {
      "image/png": "[encoded data removed]",
      "text/plain": [
       "<Figure size 432x288 with 1 Axes>"
      ]
     },
     "metadata": {},
     "output_type": "display_data"
    }
   ],
   "source": [
    "plt.hist([train_df[train_df['label'] == 0]['rating'],\n",
    "          train_df[train_df['label'] == 1]['rating'],\n",
    "          ],\n",
    "         color=['g', 'r'],\n",
    "         label=['Real', 'Fake']\n",
    "         )\n",
    "plt.legend()"
   ]
  },
  {
   "cell_type": "code",
   "execution_count": 14,
   "metadata": {},
   "outputs": [
    {
     "data": {
      "text/plain": [
       "<matplotlib.axes._subplots.AxesSubplot at 0x200c3ae4898>"
      ]
     },
     "execution_count": 14,
     "metadata": {},
     "output_type": "execute_result"
    },
    {
     "data": {
      "image/png": "[encoded data removed]",
      "text/plain": [
       "<Figure size 1080x1080 with 2 Axes>"
      ]
     },
     "metadata": {},
     "output_type": "display_data"
    }
   ],
   "source": [
    "review_x_rating = train_df.groupby(['review count', 'rating']).agg({'label': 'mean'})\n",
    "review_x_rating = (review_x_rating.unstack()  # unstack\n",
    "                   .fillna(0)\n",
    "                   .T.reset_index(level=0, drop=True)  # drop useless index\n",
    "                   .T  # fix transpose\n",
    "                   )\n",
    "plt.figure(figsize=(15, 15))\n",
    "sns.heatmap(review_x_rating)"
   ]
  },
  {
   "cell_type": "code",
   "execution_count": 15,
   "metadata": {},
   "outputs": [
    {
     "name": "stdout",
     "output_type": "stream",
     "text": [
      "Simple heuristic baseline for 0\n",
      "Train AUC: 0.6809\n",
      "Dev   AUC: 0.6797\n",
      "Train AP:  0.6147\n",
      "Dev   AP:  0.1543\n",
      "Simple heuristic baseline for 1\n",
      "Train AUC: 0.6477\n",
      "Dev   AUC: 0.6491\n",
      "Train AP:  0.5880\n",
      "Dev   AP:  0.1398\n",
      "Simple heuristic baseline for 2\n",
      "Train AUC: 0.6242\n",
      "Dev   AUC: 0.6235\n",
      "Train AP:  0.5715\n",
      "Dev   AP:  0.1310\n",
      "Simple heuristic baseline for 3\n",
      "Train AUC: 0.6035\n",
      "Dev   AUC: 0.6047\n",
      "Train AP:  0.5580\n",
      "Dev   AP:  0.1253\n",
      "Simple heuristic baseline for 4\n",
      "Train AUC: 0.5886\n",
      "Dev   AUC: 0.5892\n",
      "Train AP:  0.5488\n",
      "Dev   AP:  0.1211\n",
      "Simple heuristic baseline for 5\n",
      "Train AUC: 0.5777\n",
      "Dev   AUC: 0.5769\n",
      "Train AP:  0.5422\n",
      "Dev   AP:  0.1179\n"
     ]
    }
   ],
   "source": [
    "# simple heuristics classifier\n",
    "\n",
    "def heuristic_baseline(a, x):\n",
    "    return (x['review count'] <= a).astype(int)\n",
    "\n",
    "for i in range(6):\n",
    "    heuristic_train = heuristic_baseline(i, train_df)\n",
    "    heuristic_dev = heuristic_baseline(i, dev_df)\n",
    "\n",
    "    heuristic_train_auc = roc_auc_score(train_labels, heuristic_train)\n",
    "    heuristic_dev_auc = roc_auc_score(dev_labels, heuristic_dev)\n",
    "    heuristic_train_ap = average_precision_score(train_labels, heuristic_train)\n",
    "    heuristic_dev_ap = average_precision_score(dev_labels, heuristic_dev)\n",
    "\n",
    "    print(f'Simple heuristic baseline for {i}')\n",
    "    print(f'Train AUC: {heuristic_train_auc:.4f}\\n'\n",
    "          f'Dev   AUC: {heuristic_dev_auc:.4f}\\n'\n",
    "          f'Train AP:  {heuristic_train_ap:.4f}\\n'\n",
    "          f'Dev   AP:  {heuristic_dev_ap:.4f}')"
   ]
  },
  {
   "cell_type": "code",
   "execution_count": 16,
   "metadata": {},
   "outputs": [],
   "source": [
    "res = review_x_rating.stack().reset_index()\n",
    "res.columns = ['review count', 'rating', 'avg label']"
   ]
  },
  {
   "cell_type": "code",
   "execution_count": 17,
   "metadata": {},
   "outputs": [
    {
     "name": "stdout",
     "output_type": "stream",
     "text": [
      "Other heuristic baseline\n",
      "Train AUC: 0.6810\n",
      "Dev   AUC: 0.6796\n",
      "Train AP:  0.6148\n",
      "Dev   AP:  0.1542\n"
     ]
    }
   ],
   "source": [
    "# other heuristic\n",
    "\n",
    "trained = pd.merge(train_df, res, on=['review count', 'rating'], how='left')\n",
    "trained.fillna(0, inplace=True)\n",
    "trained['fake'] = (trained['avg label'] >= 0.5).astype(int)\n",
    "\n",
    "dev_trained = pd.merge(dev_df, res, on=['review count', 'rating'], how='left')\n",
    "dev_trained.fillna(0, inplace=True)\n",
    "dev_trained['fake'] = (dev_trained['avg label'] >= 0.5).astype(int)\n",
    "\n",
    "heuristic_train_auc = roc_auc_score(train_labels, trained['fake'])\n",
    "heuristic_dev_auc = roc_auc_score(dev_labels, dev_trained['fake'])\n",
    "heuristic_train_ap = average_precision_score(train_labels, trained['fake'])\n",
    "heuristic_dev_ap = average_precision_score(dev_labels, dev_trained['fake'])\n",
    "\n",
    "print(f'Other heuristic baseline')\n",
    "print(f'Train AUC: {heuristic_train_auc:.4f}\\n'\n",
    "      f'Dev   AUC: {heuristic_dev_auc:.4f}\\n'\n",
    "      f'Train AP:  {heuristic_train_ap:.4f}\\n'\n",
    "      f'Dev   AP:  {heuristic_dev_ap:.4f}')"
   ]
  },
  {
   "cell_type": "code",
   "execution_count": 18,
   "metadata": {},
   "outputs": [],
   "source": [
    "# so much work.... for nothing"
   ]
  },
  {
   "cell_type": "markdown",
   "metadata": {},
   "source": [
    "## NB Classifier"
   ]
  },
  {
   "cell_type": "code",
   "execution_count": 19,
   "metadata": {},
   "outputs": [],
   "source": [
    "from sklearn.naive_bayes import MultinomialNB"
   ]
  },
  {
   "cell_type": "code",
   "execution_count": 20,
   "metadata": {},
   "outputs": [
    {
     "data": {
      "text/plain": [
       "MultinomialNB(alpha=1.0, class_prior=None, fit_prior=True)"
      ]
     },
     "execution_count": 20,
     "metadata": {},
     "output_type": "execute_result"
    }
   ],
   "source": [
    "nb = MultinomialNB()  # standard laplace smoothing is fine\n",
    "nb.fit(train, train_labels)"
   ]
  },
  {
   "cell_type": "code",
   "execution_count": 21,
   "metadata": {},
   "outputs": [],
   "source": [
    "nb_train = nb.predict(train)\n",
    "nb_dev = nb.predict(dev)"
   ]
  },
  {
   "cell_type": "code",
   "execution_count": 22,
   "metadata": {},
   "outputs": [
    {
     "name": "stdout",
     "output_type": "stream",
     "text": [
      "NB baseline\n",
      "Train AUC: 0.9797\n",
      "Dev   AUC: 0.6298\n",
      "Train AP:  0.9704\n",
      "Dev   AP:  0.1553\n"
     ]
    }
   ],
   "source": [
    "nb_train_auc = roc_auc_score(train_labels, nb_train)\n",
    "nb_dev_auc = roc_auc_score(dev_labels, nb_dev)\n",
    "nb_train_ap = average_precision_score(train_labels, nb_train)\n",
    "nb_dev_ap = average_precision_score(dev_labels, nb_dev)\n",
    "\n",
    "print('NB baseline')\n",
    "print(f'Train AUC: {nb_train_auc:.4f}\\n'\n",
    "      f'Dev   AUC: {nb_dev_auc:.4f}\\n'\n",
    "      f'Train AP:  {nb_train_ap:.4f}\\n'\n",
    "      f'Dev   AP:  {nb_dev_ap:.4f}')"
   ]
  },
  {
   "cell_type": "code",
   "execution_count": 23,
   "metadata": {},
   "outputs": [
    {
     "data": {
      "text/plain": [
       "1.0"
      ]
     },
     "execution_count": 23,
     "metadata": {},
     "output_type": "execute_result"
    }
   ],
   "source": [
    "# higher is better:\n",
    "average_precision_score(train_labels, train_labels)"
   ]
  },
  {
   "cell_type": "markdown",
   "metadata": {},
   "source": [
    "## RF Classifier"
   ]
  },
  {
   "cell_type": "code",
   "execution_count": 24,
   "metadata": {},
   "outputs": [],
   "source": [
    "from sklearn.ensemble import RandomForestClassifier"
   ]
  },
  {
   "cell_type": "code",
   "execution_count": 25,
   "metadata": {},
   "outputs": [
    {
     "name": "stderr",
     "output_type": "stream",
     "text": [
      "[Parallel(n_jobs=-1)]: Using backend ThreadingBackend with 12 concurrent workers.\n",
      "[Parallel(n_jobs=-1)]: Done  48 out of  48 | elapsed:  1.8min finished\n"
     ]
    },
    {
     "data": {
      "text/plain": [
       "RandomForestClassifier(bootstrap=True, ccp_alpha=0.0, class_weight=None,\n",
       "                       criterion='gini', max_depth=4000, max_features='log2',\n",
       "                       max_leaf_nodes=None, max_samples=None,\n",
       "                       min_impurity_decrease=0.0, min_impurity_split=None,\n",
       "                       min_samples_leaf=1, min_samples_split=2,\n",
       "                       min_weight_fraction_leaf=0.0, n_estimators=48, n_jobs=-1,\n",
       "                       oob_score=False, random_state=0, verbose=1,\n",
       "                       warm_start=False)"
      ]
     },
     "execution_count": 25,
     "metadata": {},
     "output_type": "execute_result"
    }
   ],
   "source": [
    "# i would like to finish training someday soon\n",
    "rf = RandomForestClassifier(n_estimators=48,\n",
    "                            random_state=0,\n",
    "                            n_jobs=-1,\n",
    "                            max_features='log2',\n",
    "                            verbose=1,\n",
    "                            max_depth=4000,\n",
    "                            )\n",
    "\n",
    "rf.fit(train, train_labels)"
   ]
  },
  {
   "cell_type": "code",
   "execution_count": 26,
   "metadata": {},
   "outputs": [
    {
     "name": "stderr",
     "output_type": "stream",
     "text": [
      "[Parallel(n_jobs=12)]: Using backend ThreadingBackend with 12 concurrent workers.\n",
      "[Parallel(n_jobs=12)]: Done  48 out of  48 | elapsed:    8.3s finished\n",
      "[Parallel(n_jobs=12)]: Using backend ThreadingBackend with 12 concurrent workers.\n",
      "[Parallel(n_jobs=12)]: Done  48 out of  48 | elapsed:    5.7s finished\n"
     ]
    }
   ],
   "source": [
    "rf_train = rf.predict(train)\n",
    "rf_dev = rf.predict(dev)"
   ]
  },
  {
   "cell_type": "code",
   "execution_count": 27,
   "metadata": {},
   "outputs": [
    {
     "name": "stdout",
     "output_type": "stream",
     "text": [
      "RF baseline\n",
      "Train AUC: 0.9427\n",
      "Dev   AUC: 0.5820\n",
      "Train AP:  0.8971\n",
      "Dev   AP:  0.1194\n"
     ]
    }
   ],
   "source": [
    "rf_train_auc = roc_auc_score(train_labels, rf_train)\n",
    "rf_dev_auc = roc_auc_score(dev_labels, rf_dev)\n",
    "rf_train_ap = average_precision_score(train_labels, rf_train)\n",
    "rf_dev_ap = average_precision_score(dev_labels, rf_dev)\n",
    "\n",
    "print('RF baseline')\n",
    "print(f'Train AUC: {rf_train_auc:.4f}\\n'\n",
    "      f'Dev   AUC: {rf_dev_auc:.4f}\\n'\n",
    "      f'Train AP:  {rf_train_ap:.4f}\\n'\n",
    "      f'Dev   AP:  {rf_dev_ap:.4f}')"
   ]
  },
  {
   "cell_type": "code",
   "execution_count": null,
   "metadata": {},
   "outputs": [],
   "source": []
  }
 ],
 "metadata": {
  "kernelspec": {
   "display_name": "Python 3",
   "language": "python",
   "name": "python3"
  },
  "language_info": {
   "codemirror_mode": {
    "name": "ipython",
    "version": 3
   },
   "file_extension": ".py",
   "mimetype": "text/x-python",
   "name": "python",
   "nbconvert_exporter": "python",
   "pygments_lexer": "ipython3",
   "version": "3.7.0"
  }
 },
 "nbformat": 4,
 "nbformat_minor": 2
}
