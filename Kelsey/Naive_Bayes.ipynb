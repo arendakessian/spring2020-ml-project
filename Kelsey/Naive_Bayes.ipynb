{
 "cells": [
  {
   "cell_type": "markdown",
   "metadata": {},
   "source": [
    "### Naive Bayes\n",
    "We will investigate Naive Bayes methods since we assume conditional independence between every pair of features (words) given the class.\n",
    "\n",
    "Going to do Bernoulli and Multinomial NB as is common for text classification. Not going to do Gaussian NB bc not continuous. Going to try complement naive Bayes (CNB) algorithm, an adaptation of the standard multinomial naive Bayes (MNB) algorithm that is particularly suited for imbalanced data sets (https://scikit-learn.org/stable/modules/naive_bayes.html) on the not downsampled data.\n",
    "\n",
    "Going to use RandomizedSearch instead of GridSearchCV which \"can be computationally expensive, especially if you are searching over a large hyperparameter space and dealing with multiple hyperparameters. A solution to this is to use RandomizedSearchCV, in which not all hyperparameter values are tried out. Instead, a fixed number of hyperparameter settings is sampled from specified probability distributions.\""
   ]
  },
  {
   "cell_type": "code",
   "execution_count": 1,
   "metadata": {},
   "outputs": [],
   "source": [
    "import pickle\n",
    "import pandas as pd\n",
    "import numpy as np\n",
    "from sklearn.model_selection import RandomizedSearchCV\n",
    "from sklearn.utils.fixes import loguniform\n",
    "from sklearn.metrics import average_precision_score, roc_auc_score\n",
    "import random\n",
    "random.seed(22)"
   ]
  },
  {
   "cell_type": "code",
   "execution_count": 2,
   "metadata": {},
   "outputs": [],
   "source": [
    "# Importing labels\n",
    "with open('../data/train_labels.pckl', 'rb') as f:\n",
    "    train_labels = pickle.load(f)\n",
    "\n",
    "with open('../data/dev_labels.pckl', 'rb') as f:\n",
    "    dev_labels = pickle.load(f)"
   ]
  },
  {
   "cell_type": "code",
   "execution_count": 3,
   "metadata": {},
   "outputs": [],
   "source": [
    "def get_data(dataset, vectorizer):\n",
    "    '''\n",
    "    returns feature matrix for specified dataset and vectorizer\n",
    "    @param dataset: string specifying dataset, \"train\",\"dev\",etc\n",
    "    @param vectorizer: string specifying vectorizer \"binary\",\"count\",etc\n",
    "\n",
    "    '''\n",
    "    with open(f'../data/{dataset}_{vectorizer}_subsampled_data.pckl', 'rb') as f:\n",
    "        return pickle.load(f)"
   ]
  },
  {
   "cell_type": "markdown",
   "metadata": {},
   "source": [
    "### Multinomial\n",
    "\"Empirical comparisons provide evidence that the multinomial model tends to outperform the multi-variate Bernoulli model if the vocabulary size is relatively large [13]. However, the performance of machine learning algorithms is highly dependent on the appropriate choice of features. In the case of naive Bayes classifiers and text classification, large differences in performance can be attributed to the choices of stop word removal, stemming, and token-length [14].\" (Citation: https://sebastianraschka.com/Articles/2014_naive_bayes_1.html) "
   ]
  },
  {
   "cell_type": "code",
   "execution_count": 4,
   "metadata": {},
   "outputs": [
    {
     "name": "stdout",
     "output_type": "stream",
     "text": [
      "-----  count  -----\n",
      "Train AUC: 0.9939\n",
      "Dev   AUC: 0.5279\n",
      "Train AP:  0.9898\n",
      "Dev   AP:  0.1166\n",
      "-----  tfidf  -----\n",
      "Train AUC: 0.9902\n",
      "Dev   AUC: 0.5385\n",
      "Train AP:  0.9860\n",
      "Dev   AP:  0.1220\n",
      "-----  binary  -----\n",
      "Train AUC: 0.9939\n",
      "Dev   AUC: 0.5283\n",
      "Train AP:  0.9897\n",
      "Dev   AP:  0.1168\n"
     ]
    }
   ],
   "source": [
    "from sklearn.naive_bayes import MultinomialNB\n",
    "\n",
    "vectorizers = ['count', 'tfidf', 'binary'] # 'hashing', 'hashing_binary'\n",
    "\n",
    "# specify parameters and distributions to sample from\n",
    "param_dist = {'alpha': loguniform(1e-4, 1e0)}\n",
    "\n",
    "for vectorizer in vectorizers:\n",
    "    print('----- ', vectorizer, ' -----')\n",
    "    train = get_data('train', vectorizer)\n",
    "    dev = get_data('dev', vectorizer)\n",
    "\n",
    "    nb_multi = MultinomialNB()  \n",
    "        \n",
    "    # run randomized search\n",
    "    random_search = RandomizedSearchCV(nb_multi, param_distributions=param_dist)\n",
    "    \n",
    "    random_search.fit(train, train_labels)\n",
    "    \n",
    "    nb_train = random_search.predict(train)\n",
    "    nb_dev = random_search.predict(dev)\n",
    "    \n",
    "    nb_train_auc = roc_auc_score(train_labels, nb_train)\n",
    "    nb_dev_auc = roc_auc_score(dev_labels, nb_dev)\n",
    "    nb_train_ap = average_precision_score(train_labels, nb_train)\n",
    "    nb_dev_ap = average_precision_score(dev_labels, nb_dev)\n",
    "    \n",
    "    print(f'Train AUC: {nb_train_auc:.4f}\\n'\n",
    "          f'Dev   AUC: {nb_dev_auc:.4f}\\n'\n",
    "          f'Train AP:  {nb_train_ap:.4f}\\n'\n",
    "          f'Dev   AP:  {nb_dev_ap:.4f}')"
   ]
  },
  {
   "cell_type": "code",
   "execution_count": 5,
   "metadata": {},
   "outputs": [
    {
     "data": {
      "text/html": [
       "<div>\n",
       "<style scoped>\n",
       "    .dataframe tbody tr th:only-of-type {\n",
       "        vertical-align: middle;\n",
       "    }\n",
       "\n",
       "    .dataframe tbody tr th {\n",
       "        vertical-align: top;\n",
       "    }\n",
       "\n",
       "    .dataframe thead th {\n",
       "        text-align: right;\n",
       "    }\n",
       "</style>\n",
       "<table border=\"1\" class=\"dataframe\">\n",
       "  <thead>\n",
       "    <tr style=\"text-align: right;\">\n",
       "      <th>Predicted</th>\n",
       "      <th>0</th>\n",
       "      <th>1</th>\n",
       "      <th>All</th>\n",
       "    </tr>\n",
       "    <tr>\n",
       "      <th>True</th>\n",
       "      <th></th>\n",
       "      <th></th>\n",
       "      <th></th>\n",
       "    </tr>\n",
       "  </thead>\n",
       "  <tbody>\n",
       "    <tr>\n",
       "      <th>0</th>\n",
       "      <td>31611</td>\n",
       "      <td>659</td>\n",
       "      <td>32270</td>\n",
       "    </tr>\n",
       "    <tr>\n",
       "      <th>1</th>\n",
       "      <td>3367</td>\n",
       "      <td>281</td>\n",
       "      <td>3648</td>\n",
       "    </tr>\n",
       "    <tr>\n",
       "      <th>All</th>\n",
       "      <td>34978</td>\n",
       "      <td>940</td>\n",
       "      <td>35918</td>\n",
       "    </tr>\n",
       "  </tbody>\n",
       "</table>\n",
       "</div>"
      ],
      "text/plain": [
       "Predicted      0    1    All\n",
       "True                        \n",
       "0          31611  659  32270\n",
       "1           3367  281   3648\n",
       "All        34978  940  35918"
      ]
     },
     "execution_count": 5,
     "metadata": {},
     "output_type": "execute_result"
    }
   ],
   "source": [
    "# Looking at a sample confusion matrix\n",
    "# https://stats.stackexchange.com/questions/95209/how-can-i-interpret-sklearn-confusion-matrix\n",
    "y_true = pd.Series(dev_labels)\n",
    "y_pred = pd.Series(nb_dev)\n",
    "\n",
    "pd.crosstab(y_true, y_pred, rownames=['True'], colnames=['Predicted'], margins=True)\n",
    "\n",
    "# < 10% of positive cases classified correctly, ~98% of negative class classified correctly"
   ]
  },
  {
   "cell_type": "markdown",
   "metadata": {},
   "source": [
    "### Bernoulli\n",
    "\n",
    "V. Metsis, I. Androutsopoulos and G. Paliouras (2006). Spam filtering with Naive Bayes – Which Naive Bayes? 3rd Conf. on Email and Anti-Spam (CEAS)."
   ]
  },
  {
   "cell_type": "code",
   "execution_count": 5,
   "metadata": {},
   "outputs": [
    {
     "name": "stdout",
     "output_type": "stream",
     "text": [
      "-----  count  -----\n",
      "Train AUC: 0.9803\n",
      "Dev   AUC: 0.5778\n",
      "Train AP:  0.9620\n",
      "Dev   AP:  0.1301\n",
      "-----  tfidf  -----\n",
      "Train AUC: 0.9795\n",
      "Dev   AUC: 0.5801\n",
      "Train AP:  0.9607\n",
      "Dev   AP:  0.1309\n",
      "-----  binary  -----\n",
      "Train AUC: 0.9796\n",
      "Dev   AUC: 0.5796\n",
      "Train AP:  0.9609\n",
      "Dev   AP:  0.1307\n"
     ]
    }
   ],
   "source": [
    "from sklearn.naive_bayes import BernoulliNB\n",
    "\n",
    "vectorizers = ['count', 'tfidf', 'binary'] # 'hashing', 'hashing_binary'\n",
    "\n",
    "# specify parameters and distributions to sample from\n",
    "param_dist = {'alpha': loguniform(1e-4, 1e0)}\n",
    "\n",
    "for vectorizer in vectorizers:\n",
    "    print('----- ', vectorizer, ' -----')\n",
    "    train = get_data('train', vectorizer)\n",
    "    dev = get_data('dev', vectorizer)\n",
    "\n",
    "    nb_bern = BernoulliNB()  \n",
    "        \n",
    "    # run randomized search\n",
    "    random_search = RandomizedSearchCV(nb_bern, param_distributions=param_dist)\n",
    "    \n",
    "    random_search.fit(train, train_labels)\n",
    "    \n",
    "    nb_train = random_search.predict(train)\n",
    "    nb_dev = random_search.predict(dev)\n",
    "    \n",
    "    nb_train_auc = roc_auc_score(train_labels, nb_train)\n",
    "    nb_dev_auc = roc_auc_score(dev_labels, nb_dev)\n",
    "    nb_train_ap = average_precision_score(train_labels, nb_train)\n",
    "    nb_dev_ap = average_precision_score(dev_labels, nb_dev)\n",
    "    \n",
    "    print(f'Train AUC: {nb_train_auc:.4f}\\n'\n",
    "          f'Dev   AUC: {nb_dev_auc:.4f}\\n'\n",
    "          f'Train AP:  {nb_train_ap:.4f}\\n'\n",
    "          f'Dev   AP:  {nb_dev_ap:.4f}')"
   ]
  },
  {
   "cell_type": "markdown",
   "metadata": {},
   "source": [
    "## Non-downsampled data explorations\n",
    "\n",
    "### Complement NB\n",
    "The Complement Naive Bayes classifier was designed to correct the “severe assumptions” made by the standard Multinomial Naive Bayes classifier. It is particularly suited for imbalanced data sets. [sklearn documentation](https://scikit-learn.org/stable/modules/generated/sklearn.naive_bayes.ComplementNB.html#sklearn.naive_bayes.ComplementNB)\n",
    "\n",
    "<b>This was done with non-downsampled data that I generated by: not running downsample.ipynb then editing file names and re-running vectorize-count.ipynb and concat-features.ipynb.</b>"
   ]
  },
  {
   "cell_type": "code",
   "execution_count": 6,
   "metadata": {},
   "outputs": [],
   "source": [
    "def get_data_not_ds(dataset, vectorizer):\n",
    "    '''\n",
    "    get data that is not downsampled\n",
    "    @param dataset: string specifying dataset, \"train\",\"dev\",etc\n",
    "    @param vectorizer: string specifying vectorizer \"binary\",\"count\",etc\n",
    "\n",
    "    '''\n",
    "    with open(f'../data/{dataset}_{vectorizer}_NOT_downsampled_data.pckl', 'rb') as f:\n",
    "        return pickle.load(f)"
   ]
  },
  {
   "cell_type": "code",
   "execution_count": 9,
   "metadata": {},
   "outputs": [],
   "source": [
    "# Importing labels NOT DOWNSAMPLED\n",
    "\n",
    "with open('../data/train_labels_nods.pckl', 'rb') as f:\n",
    "    train_labels_not_ds = pickle.load(f)\n",
    "\n",
    "with open('../data/dev_labels_nods.pckl', 'rb') as f:\n",
    "    dev_labels_not_ds = pickle.load(f)"
   ]
  },
  {
   "cell_type": "code",
   "execution_count": 10,
   "metadata": {},
   "outputs": [
    {
     "name": "stdout",
     "output_type": "stream",
     "text": [
      "-----  count  -----\n",
      "Train AUC: 0.8738\n",
      "Dev   AUC: 0.5043\n",
      "Train AP:  0.7713\n",
      "Dev   AP:  0.1066\n",
      "-----  tfidf  -----\n",
      "Train AUC: 0.5013\n",
      "Dev   AUC: 0.5000\n",
      "Train AP:  0.1052\n",
      "Dev   AP:  0.1016\n",
      "-----  binary  -----\n",
      "Train AUC: 0.6449\n",
      "Dev   AUC: 0.5022\n",
      "Train AP:  0.3624\n",
      "Dev   AP:  0.1052\n"
     ]
    }
   ],
   "source": [
    "from sklearn.naive_bayes import ComplementNB\n",
    "\n",
    "vectorizers = ['count', 'tfidf', 'binary'] # 'hashing', 'hashing_binary'\n",
    "\n",
    "# specify parameters and distributions to sample from\n",
    "param_dist = {'alpha': loguniform(1e-4, 1e0)}\n",
    "\n",
    "for vectorizer in vectorizers:\n",
    "    print('----- ', vectorizer, ' -----')\n",
    "    train = get_data_not_ds('train', vectorizer)\n",
    "    dev = get_data_not_ds('dev', vectorizer)\n",
    "\n",
    "    nb_comp = ComplementNB()  \n",
    "        \n",
    "    # run randomized search\n",
    "    random_search = RandomizedSearchCV(nb_comp, param_distributions=param_dist)\n",
    "    \n",
    "    random_search.fit(train, train_labels_not_ds)\n",
    "    \n",
    "    nb_train = random_search.predict(train)\n",
    "    nb_dev = random_search.predict(dev)\n",
    "    \n",
    "    nb_train_auc = roc_auc_score(train_labels_not_ds, nb_train)\n",
    "    nb_dev_auc = roc_auc_score(dev_labels_not_ds, nb_dev)\n",
    "    nb_train_ap = average_precision_score(train_labels_not_ds, nb_train)\n",
    "    nb_dev_ap = average_precision_score(dev_labels_not_ds, nb_dev)\n",
    "    \n",
    "    print(f'Train AUC: {nb_train_auc:.4f}\\n'\n",
    "          f'Dev   AUC: {nb_dev_auc:.4f}\\n'\n",
    "          f'Train AP:  {nb_train_ap:.4f}\\n'\n",
    "          f'Dev   AP:  {nb_dev_ap:.4f}')"
   ]
  },
  {
   "cell_type": "markdown",
   "metadata": {},
   "source": [
    "### Trying other 2 NB models with not downsampled data\n",
    "Curious if downsampling worsens performance with other models too.\n",
    "#### Bernoulli"
   ]
  },
  {
   "cell_type": "code",
   "execution_count": 12,
   "metadata": {},
   "outputs": [
    {
     "name": "stdout",
     "output_type": "stream",
     "text": [
      "-----  count  -----\n",
      "Train AUC: 0.5353\n",
      "Dev   AUC: 0.5001\n",
      "Train AP:  0.1393\n",
      "Dev   AP:  0.1017\n",
      "-----  tfidf  -----\n",
      "Train AUC: 0.7144\n",
      "Dev   AUC: 0.5021\n",
      "Train AP:  0.4700\n",
      "Dev   AP:  0.1038\n",
      "-----  binary  -----\n",
      "Train AUC: 0.5286\n",
      "Dev   AUC: 0.5001\n",
      "Train AP:  0.1309\n",
      "Dev   AP:  0.1017\n"
     ]
    }
   ],
   "source": [
    "# Bernoulli with raw (non-downsampled) data\n",
    "vectorizers = ['count', 'tfidf', 'binary'] # 'hashing', 'hashing_binary'\n",
    "\n",
    "# specify parameters and distributions to sample from\n",
    "param_dist = {'alpha': loguniform(1e-4, 1e0)}\n",
    "\n",
    "for vectorizer in vectorizers:\n",
    "    print('----- ', vectorizer, ' -----')\n",
    "    train = get_data_not_ds('train', vectorizer)\n",
    "    dev = get_data_not_ds('dev', vectorizer)\n",
    "\n",
    "    nb_bern = BernoulliNB()  \n",
    "        \n",
    "    # run randomized search\n",
    "    random_search = RandomizedSearchCV(nb_bern, param_distributions=param_dist)\n",
    "    \n",
    "    random_search.fit(train, train_labels_not_ds)\n",
    "    \n",
    "    nb_train = random_search.predict(train)\n",
    "    nb_dev = random_search.predict(dev)\n",
    "    \n",
    "    nb_train_auc = roc_auc_score(train_labels_not_ds, nb_train)\n",
    "    nb_dev_auc = roc_auc_score(dev_labels_not_ds, nb_dev)\n",
    "    nb_train_ap = average_precision_score(train_labels_not_ds, nb_train)\n",
    "    nb_dev_ap = average_precision_score(dev_labels_not_ds, nb_dev)\n",
    "    \n",
    "    print(f'Train AUC: {nb_train_auc:.4f}\\n'\n",
    "          f'Dev   AUC: {nb_dev_auc:.4f}\\n'\n",
    "          f'Train AP:  {nb_train_ap:.4f}\\n'\n",
    "          f'Dev   AP:  {nb_dev_ap:.4f}')"
   ]
  },
  {
   "cell_type": "markdown",
   "metadata": {},
   "source": [
    "#### Multinomial"
   ]
  },
  {
   "cell_type": "code",
   "execution_count": 11,
   "metadata": {},
   "outputs": [
    {
     "name": "stdout",
     "output_type": "stream",
     "text": [
      "-----  count  -----\n",
      "Train AUC: 0.9122\n",
      "Dev   AUC: 0.5049\n",
      "Train AP:  0.8391\n",
      "Dev   AP:  0.1070\n",
      "-----  tfidf  -----\n",
      "Train AUC: 0.5209\n",
      "Dev   AUC: 0.5001\n",
      "Train AP:  0.1404\n",
      "Dev   AP:  0.1018\n",
      "-----  binary  -----\n",
      "Train AUC: 0.6442\n",
      "Dev   AUC: 0.5019\n",
      "Train AP:  0.3612\n",
      "Dev   AP:  0.1048\n"
     ]
    }
   ],
   "source": [
    "# Multinomial with raw (non-downsampled) data\n",
    "vectorizers = ['count', 'tfidf', 'binary'] # 'hashing', 'hashing_binary'\n",
    "\n",
    "# specify parameters and distributions to sample from\n",
    "param_dist = {'alpha': loguniform(1e-4, 1e0)}\n",
    "\n",
    "for vectorizer in vectorizers:\n",
    "    print('----- ', vectorizer, ' -----')\n",
    "    train = get_data_not_ds('train', vectorizer)\n",
    "    dev = get_data_not_ds('dev', vectorizer)\n",
    "\n",
    "    nb_multi = MultinomialNB()  \n",
    "        \n",
    "    # run randomized search\n",
    "    random_search = RandomizedSearchCV(nb_multi, param_distributions=param_dist)\n",
    "    \n",
    "    random_search.fit(train, train_labels_not_ds)\n",
    "    \n",
    "    nb_train = random_search.predict(train)\n",
    "    nb_dev = random_search.predict(dev)\n",
    "    \n",
    "    nb_train_auc = roc_auc_score(train_labels_not_ds, nb_train)\n",
    "    nb_dev_auc = roc_auc_score(dev_labels_not_ds, nb_dev)\n",
    "    nb_train_ap = average_precision_score(train_labels_not_ds, nb_train)\n",
    "    nb_dev_ap = average_precision_score(dev_labels_not_ds, nb_dev)\n",
    "    \n",
    "    print(f'Train AUC: {nb_train_auc:.4f}\\n'\n",
    "          f'Dev   AUC: {nb_dev_auc:.4f}\\n'\n",
    "          f'Train AP:  {nb_train_ap:.4f}\\n'\n",
    "          f'Dev   AP:  {nb_dev_ap:.4f}')"
   ]
  }
 ],
 "metadata": {
  "kernelspec": {
   "display_name": "Python 3",
   "language": "python",
   "name": "python3"
  },
  "language_info": {
   "codemirror_mode": {
    "name": "ipython",
    "version": 3
   },
   "file_extension": ".py",
   "mimetype": "text/x-python",
   "name": "python",
   "nbconvert_exporter": "python",
   "pygments_lexer": "ipython3",
   "version": "3.7.6"
  }
 },
 "nbformat": 4,
 "nbformat_minor": 4
}
