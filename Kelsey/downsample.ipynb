{
 "cells": [
  {
   "cell_type": "code",
   "execution_count": 1,
   "metadata": {},
   "outputs": [],
   "source": [
    "import pandas as pd \n",
    "import pickle\n",
    "\n",
    "train = pd.read_csv('../data/train.csv')"
   ]
  },
  {
   "cell_type": "code",
   "execution_count": 2,
   "metadata": {},
   "outputs": [],
   "source": [
    "def downsample(df, pct_pos):\n",
    "    ''' \n",
    "    Borrowed from earlier project: https://github.com/kelseymarkey/\n",
    "    cook-county-mental-health-prediction/blob/master/Final_Data_Prep.py\n",
    "\n",
    "    takes in df and a percentage from 1 to 50\n",
    "    samples all label==1 cases, then samples from label==0 cases \n",
    "    until downsampled_df has pct_pos % positive cases, returns indices.\n",
    "    '''\n",
    "    # split into df by label\n",
    "    label_1 = df[df['label'] == 1]\n",
    "    label_0 = df[df['label'] == 0]\n",
    "\n",
    "    #count number of pos\n",
    "    count_label_1 = len(label_1)\n",
    "\n",
    "    #compute number of negative cases to sample\n",
    "    num_label_0 = count_label_1 * int(round((100 - pct_pos) / pct_pos))\n",
    "\n",
    "    #sample from negative cases\n",
    "    label_0_sample = label_0.sample(n=num_label_0, random_state=22)\n",
    "\n",
    "    #append sampled negative cases to all positive cases\n",
    "    downsampled_df = label_1.append(label_0_sample)\n",
    "\n",
    "    return list(downsampled_df.index)"
   ]
  },
  {
   "cell_type": "code",
   "execution_count": 3,
   "metadata": {},
   "outputs": [],
   "source": [
    "downsampled_idx_train = downsample(train, 50)"
   ]
  },
  {
   "cell_type": "code",
   "execution_count": 4,
   "metadata": {},
   "outputs": [
    {
     "data": {
      "text/plain": [
       "1    25819\n",
       "0    25819\n",
       "Name: label, dtype: int64"
      ]
     },
     "execution_count": 4,
     "metadata": {},
     "output_type": "execute_result"
    }
   ],
   "source": [
    "# Check that indices actually return right distribution of labels\n",
    "downsampled_df = train[train.index.isin(downsampled_idx_train)]\n",
    "downsampled_df.label.value_counts()"
   ]
  },
  {
   "cell_type": "code",
   "execution_count": 5,
   "metadata": {},
   "outputs": [],
   "source": [
    "with open('../data/downsampled_idx_train.pckl', 'wb') as f:\n",
    "    pickle.dump(downsampled_idx_train, f)"
   ]
  }
 ],
 "metadata": {
  "kernelspec": {
   "display_name": "Python 3",
   "language": "python",
   "name": "python3"
  },
  "language_info": {
   "codemirror_mode": {
    "name": "ipython",
    "version": 3
   },
   "file_extension": ".py",
   "mimetype": "text/x-python",
   "name": "python",
   "nbconvert_exporter": "python",
   "pygments_lexer": "ipython3",
   "version": "3.7.6"
  }
 },
 "nbformat": 4,
 "nbformat_minor": 4
}
