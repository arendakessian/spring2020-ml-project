{
 "cells": [
  {
   "cell_type": "markdown",
   "metadata": {},
   "source": [
    "Inspiration from: \n",
    "- https://www.datahubbs.com/tf-idf-starting-learning-text/\n",
    "- https://www.datacamp.com/community/tutorials/stemming-lemmatization-python\n",
    "\n",
    "I decided to use the Porter Stemmer because it handles more than just removing s (i.e. kids -> kid), but still remains pretty legible and doesn't overstem too much."
   ]
  },
  {
   "cell_type": "code",
   "execution_count": 6,
   "metadata": {},
   "outputs": [],
   "source": [
    "from sklearn.feature_extraction.text import CountVectorizer\n",
    "import pandas as pd\n",
    "import time"
   ]
  },
  {
   "cell_type": "code",
   "execution_count": 7,
   "metadata": {},
   "outputs": [],
   "source": [
    "cv = CountVectorizer(stop_words='english',\n",
    "                     ngram_range=(1, 2))"
   ]
  },
  {
   "cell_type": "code",
   "execution_count": 19,
   "metadata": {},
   "outputs": [
    {
     "data": {
      "text/plain": [
       "0    There are kids playing kids kids kids kids kid...\n",
       "1                            Oh to be a kid who played\n",
       "dtype: object"
      ]
     },
     "execution_count": 19,
     "metadata": {},
     "output_type": "execute_result"
    }
   ],
   "source": [
    "testdoc = pd.Series(data = ['There are kids playing' + ' ' + ' '.join(['kids' for _ in range(10000000)]),\n",
    "                            'Oh to be a kid who played'])\n",
    "testdoc"
   ]
  },
  {
   "cell_type": "code",
   "execution_count": 21,
   "metadata": {},
   "outputs": [
    {
     "name": "stdout",
     "output_type": "stream",
     "text": [
      "['kid', 'kid played', 'kids', 'kids kids', 'kids playing', 'oh', 'oh kid', 'played', 'playing', 'playing kids']\n",
      "[[       0        0 10000001  9999999        1        0        0        0\n",
      "         1        1]\n",
      " [       1        1        0        0        0        1        1        1\n",
      "         0        0]]\n",
      "12.208767890930176\n"
     ]
    }
   ],
   "source": [
    "start = time.time()\n",
    "transformed_nostem = cv.fit_transform(testdoc)\n",
    "print(cv.get_feature_names())\n",
    "print(transformed_nostem.toarray())\n",
    "print(time.time() - start)"
   ]
  },
  {
   "cell_type": "code",
   "execution_count": 22,
   "metadata": {},
   "outputs": [],
   "source": [
    "class StemmedDict(dict):\n",
    "    def __missing__(self, key):\n",
    "        res = self[key] = port.stem(key)\n",
    "        return res\n",
    "\n",
    "stemmed = StemmedDict()"
   ]
  },
  {
   "cell_type": "code",
   "execution_count": 23,
   "metadata": {},
   "outputs": [],
   "source": [
    "from nltk.stem import PorterStemmer\n",
    "port = PorterStemmer()\n",
    "analyzer = CountVectorizer(stop_words='english', ngram_range=(1, 2)).build_analyzer()\n",
    "\n",
    "def stem_words_dict(doc):\n",
    "    return [' '.join([stemmed[word] for word in ngram.split()]) for ngram in analyzer(doc)]\n",
    "\n",
    "def stem_words(doc):\n",
    "    return [' '.join([port.stem(word) for word in ngram.split()]) for ngram in analyzer(doc)]"
   ]
  },
  {
   "cell_type": "code",
   "execution_count": 24,
   "metadata": {},
   "outputs": [],
   "source": [
    "cv_stem = CountVectorizer(analyzer=stem_words)"
   ]
  },
  {
   "cell_type": "code",
   "execution_count": 25,
   "metadata": {},
   "outputs": [
    {
     "name": "stdout",
     "output_type": "stream",
     "text": [
      "['kid', 'kid kid', 'kid play', 'oh', 'oh kid', 'play', 'play kid']\n",
      "[[10000001  9999999        1        0        0        1        1]\n",
      " [       1        0        1        1        1        1        0]]\n",
      "638.0937504768372\n"
     ]
    }
   ],
   "source": [
    "start = time.time()\n",
    "transformed_withstem = cv_stem.fit_transform(testdoc)\n",
    "print(cv_stem.get_feature_names())\n",
    "print(transformed_withstem.toarray())\n",
    "print(time.time() - start)"
   ]
  },
  {
   "cell_type": "code",
   "execution_count": 26,
   "metadata": {},
   "outputs": [
    {
     "name": "stdout",
     "output_type": "stream",
     "text": [
      "['kid', 'kid kid', 'kid play', 'oh', 'oh kid', 'play', 'play kid']\n",
      "[[10000001  9999999        1        0        0        1        1]\n",
      " [       1        0        1        1        1        1        0]]\n",
      "26.224079132080078\n"
     ]
    }
   ],
   "source": [
    "cv_stem = CountVectorizer(analyzer=stem_words_dict)\n",
    "start = time.time()\n",
    "transformed_withstem = cv_stem.fit_transform(testdoc)\n",
    "print(cv_stem.get_feature_names())\n",
    "print(transformed_withstem.toarray())\n",
    "print(time.time() - start)"
   ]
  }
 ],
 "metadata": {
  "kernelspec": {
   "display_name": "Python 3",
   "language": "python",
   "name": "python3"
  },
  "language_info": {
   "codemirror_mode": {
    "name": "ipython",
    "version": 3
   },
   "file_extension": ".py",
   "mimetype": "text/x-python",
   "name": "python",
   "nbconvert_exporter": "python",
   "pygments_lexer": "ipython3",
   "version": "3.7.0"
  }
 },
 "nbformat": 4,
 "nbformat_minor": 2
}
