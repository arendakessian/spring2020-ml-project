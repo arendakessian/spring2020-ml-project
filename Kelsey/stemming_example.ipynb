{
 "cells": [
  {
   "cell_type": "markdown",
   "metadata": {},
   "source": [
    "Inspiration from: \n",
    "- https://www.datahubbs.com/tf-idf-starting-learning-text/\n",
    "- https://www.datacamp.com/community/tutorials/stemming-lemmatization-python\n",
    "\n",
    "I decided to use the Porter Stemmer because it handles more than just removing s (i.e. kids -> kid), but still remains pretty legible and doesn't overstem too much."
   ]
  },
  {
   "cell_type": "code",
   "execution_count": 1,
   "metadata": {},
   "outputs": [],
   "source": [
    "from sklearn.feature_extraction.text import CountVectorizer\n",
    "import pandas as pd"
   ]
  },
  {
   "cell_type": "code",
   "execution_count": 2,
   "metadata": {},
   "outputs": [],
   "source": [
    "cv = CountVectorizer(stop_words='english',\n",
    "                     ngram_range=(1, 2))"
   ]
  },
  {
   "cell_type": "code",
   "execution_count": 3,
   "metadata": {},
   "outputs": [
    {
     "data": {
      "text/plain": [
       "0       There are kids playing\n",
       "1    Oh to be a kid who played\n",
       "dtype: object"
      ]
     },
     "execution_count": 3,
     "metadata": {},
     "output_type": "execute_result"
    }
   ],
   "source": [
    "testdoc = pd.Series(data = ['There are kids playing',\n",
    "                            'Oh to be a kid who played'])\n",
    "testdoc"
   ]
  },
  {
   "cell_type": "code",
   "execution_count": 4,
   "metadata": {},
   "outputs": [
    {
     "name": "stdout",
     "output_type": "stream",
     "text": [
      "['kid', 'kid played', 'kids', 'kids playing', 'oh', 'oh kid', 'played', 'playing']\n",
      "[[0 0 1 1 0 0 0 1]\n",
      " [1 1 0 0 1 1 1 0]]\n"
     ]
    }
   ],
   "source": [
    "transformed_nostem = cv.fit_transform(testdoc)\n",
    "print(cv.get_feature_names())\n",
    "print(transformed_nostem.toarray())"
   ]
  },
  {
   "cell_type": "code",
   "execution_count": 5,
   "metadata": {},
   "outputs": [],
   "source": [
    "from nltk.stem import PorterStemmer\n",
    "port = PorterStemmer()\n",
    "analyzer = CountVectorizer().build_analyzer()\n",
    "\n",
    "def stem_words(doc):\n",
    "    return[port.stem(word) for word in analyzer(doc)]"
   ]
  },
  {
   "cell_type": "code",
   "execution_count": 6,
   "metadata": {},
   "outputs": [],
   "source": [
    "cv_stem = CountVectorizer(stop_words='english', analyzer=stem_words, ngram_range=(1, 2))"
   ]
  },
  {
   "cell_type": "code",
   "execution_count": 7,
   "metadata": {},
   "outputs": [
    {
     "name": "stdout",
     "output_type": "stream",
     "text": [
      "['are', 'be', 'kid', 'oh', 'play', 'there', 'to', 'who']\n",
      "[[1 0 1 0 1 1 0 0]\n",
      " [0 1 1 1 1 0 1 1]]\n"
     ]
    }
   ],
   "source": [
    "transformed_withstem = cv_stem.fit_transform(testdoc)\n",
    "print(cv_stem.get_feature_names())\n",
    "print(transformed_withstem.toarray())"
   ]
  }
 ],
 "metadata": {
  "kernelspec": {
   "display_name": "Python 3",
   "language": "python",
   "name": "python3"
  },
  "language_info": {
   "codemirror_mode": {
    "name": "ipython",
    "version": 3
   },
   "file_extension": ".py",
   "mimetype": "text/x-python",
   "name": "python",
   "nbconvert_exporter": "python",
   "pygments_lexer": "ipython3",
   "version": "3.7.6"
  }
 },
 "nbformat": 4,
 "nbformat_minor": 2
}
