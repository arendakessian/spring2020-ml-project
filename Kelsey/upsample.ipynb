{
 "cells": [
  {
   "cell_type": "code",
   "execution_count": 1,
   "metadata": {},
   "outputs": [],
   "source": [
    "import pandas as pd \n",
    "import pickle\n",
    "import numpy as np\n",
    "\n",
    "train = pd.read_csv('../data/train.csv')"
   ]
  },
  {
   "cell_type": "code",
   "execution_count": 2,
   "metadata": {},
   "outputs": [
    {
     "name": "stdout",
     "output_type": "stream",
     "text": [
      "Original number of samples in class 0: 225055\n",
      "Original number of samples in class 1: 25819\n",
      "New number of samples in class 0: 225055\n",
      "[ 27761 107310  97713 ...  68168 242169 108471]\n",
      "Total number of samples (upsampled class 0 + class 1): 450110\n"
     ]
    }
   ],
   "source": [
    "df = train\n",
    "labels = df['label'].values\n",
    "\n",
    "# Indicies of each class' observations\n",
    "i_class0 = np.where(labels == 0)[0]\n",
    "i_class1 = np.where(labels == 1)[0]\n",
    "\n",
    "# Number of observations in each class\n",
    "n_class0 = len(i_class0)\n",
    "n_class1 = len(i_class1)\n",
    "print('Original number of samples in class 0:', n_class0)\n",
    "print('Original number of samples in class 1:', n_class1)\n",
    "\n",
    "# For every observation in class 0, randomly sample from class 1 with replacement\n",
    "np.random.seed(0)\n",
    "i_class1_upsampled = np.random.choice(i_class1, size=n_class0, replace=True)\n",
    "\n",
    "print('New number of samples in class 0:', len(i_class1_upsampled))\n",
    "print(i_class1_upsampled)\n",
    "\n",
    "# Join together class 1's upsampled target vector with class 0's target vector\n",
    "all_labels_upsampled = np.concatenate((i_class1_upsampled, i_class0))\n",
    "print('Total number of samples (upsampled class 0 + class 1):', len(all_labels_upsampled))"
   ]
  },
  {
   "cell_type": "code",
   "execution_count": 3,
   "metadata": {},
   "outputs": [
    {
     "data": {
      "text/plain": [
       "25815"
      ]
     },
     "execution_count": 3,
     "metadata": {},
     "output_type": "execute_result"
    }
   ],
   "source": [
    "# This makes sense- it got nearly all of the 25819 samples\n",
    "len(np.unique(i_class1_upsampled))"
   ]
  },
  {
   "cell_type": "code",
   "execution_count": 4,
   "metadata": {},
   "outputs": [
    {
     "data": {
      "text/plain": [
       "144936    24\n",
       "24482     23\n",
       "259420    22\n",
       "262956    21\n",
       "7172      21\n",
       "          ..\n",
       "87180      1\n",
       "91274      1\n",
       "97417      1\n",
       "66694      1\n",
       "35217      1\n",
       "Name: ex_id, Length: 250870, dtype: int64"
      ]
     },
     "execution_count": 4,
     "metadata": {},
     "output_type": "execute_result"
    }
   ],
   "source": [
    "# Looking at repeated samples (ex_id was unique before upsampling) \n",
    "train_up = train.loc[all_labels_upsampled]\n",
    "train_up['ex_id'].value_counts()"
   ]
  },
  {
   "cell_type": "code",
   "execution_count": 5,
   "metadata": {},
   "outputs": [
    {
     "data": {
      "text/plain": [
       "1    225055\n",
       "0    225055\n",
       "Name: label, dtype: int64"
      ]
     },
     "execution_count": 5,
     "metadata": {},
     "output_type": "execute_result"
    }
   ],
   "source": [
    "# Check that indices actually return right distribution of labels\n",
    "train_up.label.value_counts()"
   ]
  },
  {
   "cell_type": "code",
   "execution_count": 6,
   "metadata": {},
   "outputs": [],
   "source": [
    "with open('../data/upsampled_idx_train.pckl', 'wb') as f:\n",
    "    pickle.dump(all_labels_upsampled, f)"
   ]
  }
 ],
 "metadata": {
  "kernelspec": {
   "display_name": "Python 3",
   "language": "python",
   "name": "python3"
  },
  "language_info": {
   "codemirror_mode": {
    "name": "ipython",
    "version": 3
   },
   "file_extension": ".py",
   "mimetype": "text/x-python",
   "name": "python",
   "nbconvert_exporter": "python",
   "pygments_lexer": "ipython3",
   "version": "3.7.6"
  }
 },
 "nbformat": 4,
 "nbformat_minor": 4
}
