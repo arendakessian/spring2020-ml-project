{
 "cells": [
  {
   "cell_type": "code",
   "execution_count": 1,
   "metadata": {},
   "outputs": [],
   "source": [
    "import pandas as pd\n",
    "import numpy as np\n",
    "import pickle\n",
    "\n",
    "train = pd.read_csv('train.csv')\n",
    "dev = pd.read_csv('dev.csv')"
   ]
  },
  {
   "cell_type": "code",
   "execution_count": 2,
   "metadata": {},
   "outputs": [
    {
     "data": {
      "text/plain": [
       "0    0\n",
       "1    0\n",
       "2    0\n",
       "3    0\n",
       "4    0\n",
       "5    0\n",
       "6    1\n",
       "7    0\n",
       "8    0\n",
       "9    4\n",
       "Name: review, dtype: int64"
      ]
     },
     "execution_count": 2,
     "metadata": {},
     "output_type": "execute_result"
    }
   ],
   "source": [
    "# Examples to test with:\n",
    "# exclamation = train.iloc[9]['review']\n",
    "# caps = train.iloc[13]['review']\n",
    "\n",
    "# New series which has number of exclamation points in each review\n",
    "num_exclam_train = pd.Series(train['review'].str.count('!'))\n",
    "num_exclam_dev = pd.Series(dev['review'].str.count('!'))\n",
    "\n",
    "num_exclam_train.head(10)"
   ]
  },
  {
   "cell_type": "code",
   "execution_count": 3,
   "metadata": {},
   "outputs": [
    {
     "data": {
      "text/plain": [
       "0     0\n",
       "1     0\n",
       "2     0\n",
       "3     0\n",
       "4     0\n",
       "5     0\n",
       "6     0\n",
       "7     0\n",
       "8     0\n",
       "9     0\n",
       "10    0\n",
       "11    0\n",
       "12    0\n",
       "13    3\n",
       "14    0\n",
       "dtype: int64"
      ]
     },
     "execution_count": 3,
     "metadata": {},
     "output_type": "execute_result"
    }
   ],
   "source": [
    "num_caps_train = (train['review'].str.extractall(r'(\\b[A-Z]{2,}\\b)') # extract all capitalized words with len >= 2\n",
    "                .groupby(level=0).size()                             # count by each index\n",
    "                .reindex(train['review'].index, fill_value=0))       # fill the missing with 0        \n",
    "\n",
    "num_caps_dev = (dev['review'].str.extractall(r'(\\b[A-Z]{2,}\\b)') # extract all capitalized words with len >= 2\n",
    "                .groupby(level=0).size()                         # count by each index\n",
    "                .reindex(dev['review'].index, fill_value=0))     # fill the missing with 0   \n",
    "\n",
    "num_caps_train.head(15)"
   ]
  },
  {
   "cell_type": "code",
   "execution_count": 4,
   "metadata": {},
   "outputs": [],
   "source": [
    "with open('../data/train_num_exclam.pckl', 'wb') as f:\n",
    "    pickle.dump(num_exclam_train, f)\n",
    "    \n",
    "with open('../data/dev_num_exclam.pckl', 'wb') as f:\n",
    "    pickle.dump(num_exclam_dev, f)"
   ]
  },
  {
   "cell_type": "code",
   "execution_count": 5,
   "metadata": {},
   "outputs": [],
   "source": [
    "with open('../data/train_num_caps.pckl', 'wb') as f:\n",
    "    pickle.dump(num_caps_train, f)\n",
    "    \n",
    "with open('../data/dev_num_caps.pckl', 'wb') as f:\n",
    "    pickle.dump(num_caps_dev, f)"
   ]
  }
 ],
 "metadata": {
  "kernelspec": {
   "display_name": "Python 3",
   "language": "python",
   "name": "python3"
  },
  "language_info": {
   "codemirror_mode": {
    "name": "ipython",
    "version": 3
   },
   "file_extension": ".py",
   "mimetype": "text/x-python",
   "name": "python",
   "nbconvert_exporter": "python",
   "pygments_lexer": "ipython3",
   "version": "3.7.6"
  }
 },
 "nbformat": 4,
 "nbformat_minor": 4
}
